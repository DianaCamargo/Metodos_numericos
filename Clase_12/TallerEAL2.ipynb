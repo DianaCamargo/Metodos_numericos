{
 "cells": [
  {
   "cell_type": "markdown",
   "metadata": {},
   "source": [
    "# 1. Implementar el pseudocódigo de la Figura 9.6, del método de eliminación de Gauss con pivoteo parcial."
   ]
  },
  {
   "cell_type": "code",
   "execution_count": 29,
   "metadata": {
    "collapsed": false
   },
   "outputs": [
    {
     "name": "stdout",
     "output_type": "stream",
     "text": [
      "Para este método el num de incognitas debe ser igual al numero de acuaciones.\n",
      "Digite el numero de ecuaciones:  3\n",
      "\n",
      "Ingrese en orden las constantes de las ecuaciones...\n",
      "Ecuacion 1:\n",
      "3.9\n",
      "6\n",
      "7\n",
      "8\n",
      "[[3.9 6.0 7.0 8.0]] \n",
      "\n",
      "Ecuacion 2:\n",
      "9\n",
      "6.8\n",
      "56\n",
      "4\n",
      "[[9.0 6.8 56.0 4.0]] \n",
      "\n",
      "Ecuacion 3:\n",
      "5\n",
      "23\n",
      "4.8\n",
      "6\n",
      "[[5.0 23.0 4.8 6.0]] \n",
      "\n",
      "Matriz de coeficiente:\n",
      "[[3.9 6.0 7.0 8.0]\n",
      " [9.0 6.8 56.0 4.0]\n",
      " [5.0 23.0 4.8 6.0]]\n",
      "matriz triangular resultante:\n",
      "[[9.0 6.8 56.0 4.0]\n",
      " [0.0 19.22222222222222 -26.311111111111114 3.7777777777777777]\n",
      " [-4.440892098500626e-16 0.0 -13.0873063583815 5.666589595375722]]\n",
      "\n",
      "X1= 3.43786327837\n",
      "\n",
      "X2= -0.3961302131\n",
      "\n",
      "X3= -0.432983643861\n"
     ]
    }
   ],
   "source": [
    "#####PIVOTEO PARCIAL - CUALQUIER NUMERO DE ECUACIONES#####\n",
    "import math as mt\n",
    "import numpy as np\n",
    "print \"Para este método el num de incognitas debe ser igual al numero de acuaciones.\"\n",
    "tam=int(input(\"Digite el numero de ecuaciones:  \"))\n",
    "tam2=tam+1\n",
    "matriz = np.array([[None] * (tam2) for i in range(tam)])\n",
    "print \"\\nIngrese en orden las constantes de las ecuaciones...\"\n",
    "for e in range (tam):\n",
    "    print \"Ecuacion \"+repr(e+1)+\":\"\n",
    "    for f in range (tam2):\n",
    "        a=float(input())\n",
    "        matriz[e][f]=a\n",
    "    print matriz[[e][0]:[e+1][0]],\"\\n\"\n",
    "vaux=[]\n",
    "indicef=0\n",
    "print \"Matriz de coeficiente:\\n\",matriz\n",
    "for k in range (tam-1):\n",
    "    #Seleccion del mayor pivote\n",
    "    indicef=k#Indice fila del mayor\n",
    "    for i in range (k+1,tam):\n",
    "        if((abs(matriz[i][k]))>(abs(matriz[indicef][k]))):\n",
    "            indicef=i\n",
    "    #Intercambio si es necesario\n",
    "    if(k!=indicef):\n",
    "        vaux[:]=matriz[k,:] #asigna matriz pivote menor \n",
    "        matriz[k,:]=matriz[indicef,:]#asigna matriz pivote mayor\n",
    "        matriz[indicef,:]=vaux[:] #al que antes tenia el pivote mayor, la deja en la posicion que tenia el del pivote menor\n",
    "    for i in range (k+1,tam):\n",
    "        factor=matriz[i][k]/matriz[k][k]\n",
    "        for j in range (k,tam2):\n",
    "            matriz[i][j]=(matriz[i][j]-(factor*matriz[k][j]))\n",
    "    \"\"\"for i in range (j+1,tam):\n",
    "        matriz[j,:]=(matriz[i,:]+matriz[j,:])*(-matriz[i][j]/matriz[j][j])\"\"\"\n",
    "print \"matriz triangular resultante:\\n\", matriz\n",
    "#######sustitucion hacia atras########\n",
    "ntam=tam-1\n",
    "xn=(matriz[ntam][tam]/matriz[ntam][ntam])\n",
    "x=[]\n",
    "suma=0.0\n",
    "for k in range (tam):\n",
    "    x.append(0)\n",
    "x[ntam]=xn\n",
    "i=ntam-1\n",
    "while(i>=0):\n",
    "    suma=matriz[i][tam]\n",
    "    j=i+1\n",
    "    while(j<=ntam):\n",
    "        suma=suma -matriz[i][j]*x[j]\n",
    "        j=j+1\n",
    "    x[i]=suma/matriz[i][i]\n",
    "    i=i-1\n",
    "for g in range(ntam+1):\n",
    "    print \"\\nX\"+repr(g+1)+\"=\",x[g]"
   ]
  },
  {
   "cell_type": "markdown",
   "metadata": {},
   "source": [
    "# 2. Desarrollar los ejercicios 9.9 a 9.13 Pags. 280-281 [Chapra 2007]"
   ]
  },
  {
   "cell_type": "markdown",
   "metadata": {},
   "source": [
    "# 9.9 Use la eliminación de Gauss para resolver el sistema que sigue: [8x1 + 2x2 – 2x3 = –2]; [10x1 + 2x2 + 4x3 = 4]; [12x1 + 2x2 + 2x3 = 6]"
   ]
  },
  {
   "cell_type": "markdown",
   "metadata": {},
   "source": [
    "# Emplee pivoteo parcial y compruebe las respuestas sustituyéndolas en las ecuaciones originales."
   ]
  },
  {
   "cell_type": "code",
   "execution_count": 30,
   "metadata": {
    "collapsed": false
   },
   "outputs": [
    {
     "name": "stdout",
     "output_type": "stream",
     "text": [
      "Matriz de coeficiente:\n",
      "[[  8.   2.  -2.  -2.]\n",
      " [ 10.   2.   4.   4.]\n",
      " [ 12.   2.   2.   6.]]\n",
      "matriz triangular resultante:\n",
      "[[ 12.           2.           2.           6.        ]\n",
      " [  0.           0.66666667  -3.33333333  -6.        ]\n",
      " [  0.           0.           4.           2.        ]]\n",
      "\n",
      "X1= 1.5\n",
      "\n",
      "X2= -6.5\n",
      "\n",
      "X3= 0.5\n"
     ]
    },
    {
     "data": {
      "text/plain": [
       "[1.5, -6.5, 0.49999999999999989]"
      ]
     },
     "execution_count": 30,
     "metadata": {},
     "output_type": "execute_result"
    }
   ],
   "source": [
    "def pivoteo_par(matriz,x):\n",
    "    vaux=[]\n",
    "    indicef=0\n",
    "    tam=3\n",
    "    tam2=tam+1\n",
    "    print \"Matriz de coeficiente:\\n\",matriz\n",
    "    for k in range (tam-1):\n",
    "        #Seleccion del mayor pivote\n",
    "        indicef=k#Indice fila del mayor\n",
    "        for i in range (k+1,tam):\n",
    "            if((abs(matriz[i][k]))>(abs(matriz[indicef][k]))):\n",
    "                indicef=i\n",
    "        #Intercambio si es necesario\n",
    "        if(k!=indicef):\n",
    "            vaux[:]=matriz[k,:] #asigna matriz pivote menor \n",
    "            matriz[k,:]=matriz[indicef,:]#asigna matriz pivote mayor\n",
    "            matriz[indicef,:]=vaux[:] #al que antes tenia el pivote mayor, la deja en la posicion que tenia el del pivote menor\n",
    "        for i in range (k+1,tam):\n",
    "            factor=matriz[i][k]/matriz[k][k]\n",
    "            for j in range (k,tam2):\n",
    "                matriz[i][j]=(matriz[i][j]-(factor*matriz[k][j]))\n",
    "    print \"matriz triangular resultante:\\n\", matriz\n",
    "    #######sustitucion hacia atras########\n",
    "    ntam=tam-1\n",
    "    xn=(matriz[ntam][tam]/matriz[ntam][ntam])\n",
    "    suma=0.0\n",
    "    for k in range (tam):\n",
    "        x.append(0)\n",
    "    x[ntam]=xn\n",
    "    i=ntam-1\n",
    "    while(i>=0):\n",
    "        suma=matriz[i][tam]\n",
    "        j=i+1\n",
    "        while(j<=ntam):\n",
    "            suma=suma -matriz[i][j]*x[j]\n",
    "            j=j+1\n",
    "        x[i]=suma/matriz[i][i]\n",
    "        i=i-1\n",
    "    for g in range(ntam+1):\n",
    "        print \"\\nX\"+repr(g+1)+\"=\",x[g]\n",
    "    return (x)\n",
    "#####MAIN###\n",
    "x=[]\n",
    "matriz=np.array([[8.0,2,-2,-2],[10,2,4,4],[12.0,2,2,6]])\n",
    "pivoteo_par(matriz,x)"
   ]
  },
  {
   "cell_type": "code",
   "execution_count": 31,
   "metadata": {
    "collapsed": false
   },
   "outputs": [
    {
     "name": "stdout",
     "output_type": "stream",
     "text": [
      "Para ec1: -2.0 \n",
      "Para ec2: 4.0 \n",
      "Para ec3: 6.0\n"
     ]
    }
   ],
   "source": [
    "#comprobacion:\n",
    "def comprobacion(matriz,x):\n",
    "    ec1=matriz[0][0]*x[0]+matriz[0][1]*x[1]+matriz[0][2]*x[2]\n",
    "    ec2=matriz[1][0]*x[0]+matriz[1][1]*x[1]+matriz[1][2]*x[2]\n",
    "    ec3=matriz[2][0]*x[0]+matriz[2][1]*x[1]+matriz[2][2]*x[2] \n",
    "    print \"Para ec1:\",ec1,\"\\nPara ec2:\",ec2,\"\\nPara ec3:\",ec3\n",
    "    \n",
    "matriz=np.array([[8.0,2,-2,-2],[10,2,4,4],[12.0,2,2,6]])\n",
    "comprobacion(matriz,x)"
   ]
  },
  {
   "cell_type": "markdown",
   "metadata": {},
   "source": [
    "# 9.10 Dado el sistema siguiente de ecuaciones [–3x2 + 7x3 = 2]; [x1 + 2x2 – x3 = 3]; [5x1 – 2x2 = 2]\n",
    " "
   ]
  },
  {
   "cell_type": "markdown",
   "metadata": {},
   "source": [
    "# a)  Calcule el determinante. "
   ]
  },
  {
   "cell_type": "code",
   "execution_count": 32,
   "metadata": {
    "collapsed": false
   },
   "outputs": [
    {
     "name": "stdout",
     "output_type": "stream",
     "text": [
      "Det: -69.0\n"
     ]
    }
   ],
   "source": [
    "a=np.array([[0,-3.0,7,2],[1,2,-1,3],[5.0,-2,0,2]])\n",
    "#Determinante\n",
    "det=a[0][0]*((a[1][1]*a[2][2])-(a[1][2]*a[2][1]))-a[0][1]*((a[1][0]*a[2][2])-(a[1][2]*a[2][0]))+a[0][2]*((a[1][0]*a[2][1])-(a[1][1]*a[2][0]))\n",
    "print \"Det:\",det"
   ]
  },
  {
   "cell_type": "markdown",
   "metadata": {},
   "source": [
    "# b)  Use la regla de Cramer para encontrar cuáles son los valores de las x."
   ]
  },
  {
   "cell_type": "code",
   "execution_count": 33,
   "metadata": {
    "collapsed": false
   },
   "outputs": [
    {
     "name": "stdout",
     "output_type": "stream",
     "text": [
      "X1:  0.985507246377 \n",
      "x2:  1.46376811594 \n",
      "x3:  0.913043478261\n"
     ]
    }
   ],
   "source": [
    "#solucion por cramer\n",
    "x1=(a[0][3]*((a[1][1]*a[2][2])-(a[1][2]*a[2][1]))-a[0][1]*((a[1][3]*a[2][2])-(a[1][2]*a[2][3]))+a[0][2]*((a[1][3]*a[2][1])-(a[1][1]*a[2][3])))/det\n",
    "x2=(a[0][0]*((a[1][3]*a[2][2])-(a[1][2]*a[2][3]))-a[0][3]*((a[1][0]*a[2][2])-(a[1][2]*a[2][0]))+a[0][2]*((a[1][0]*a[2][3])-(a[1][3]*a[2][0])))/det\n",
    "x3=(a[0][0]*((a[1][1]*a[2][3])-(a[1][3]*a[2][1]))-a[0][1]*((a[1][0]*a[2][3])-(a[1][3]*a[2][0]))+a[0][3]*((a[1][0]*a[2][1])-(a[1][1]*a[2][0])))/det\n",
    "print 'X1: ',x1, '\\nx2: ',x2, '\\nx3: ',x3"
   ]
  },
  {
   "cell_type": "markdown",
   "metadata": {},
   "source": [
    "# c)  Emplee la eliminación de Gauss con pivoteo parcial para obtener cuáles serían los valores de las x."
   ]
  },
  {
   "cell_type": "code",
   "execution_count": 34,
   "metadata": {
    "collapsed": false
   },
   "outputs": [
    {
     "name": "stdout",
     "output_type": "stream",
     "text": [
      "Matriz de coeficiente:\n",
      "[[ 0. -3.  7.  2.]\n",
      " [ 1.  2. -1.  3.]\n",
      " [ 5. -2.  0.  2.]]\n",
      "matriz triangular resultante:\n",
      "[[ 5.  -2.   0.   2. ]\n",
      " [ 0.  -3.   7.   2. ]\n",
      " [ 0.   0.   4.6  4.2]]\n",
      "\n",
      "X1= 0.985507246377\n",
      "\n",
      "X2= 1.46376811594\n",
      "\n",
      "X3= 0.913043478261\n"
     ]
    },
    {
     "data": {
      "text/plain": [
       "[0.98550724637681175, 1.4637681159420293, 0.91304347826086962, 0, 0, 0]"
      ]
     },
     "execution_count": 34,
     "metadata": {},
     "output_type": "execute_result"
    }
   ],
   "source": [
    "matriz=np.array([[0,-3.0,7,2],[1,2,-1,3],[5.0,-2,0,2]])\n",
    "pivoteo_par(matriz,x)"
   ]
  },
  {
   "cell_type": "markdown",
   "metadata": {},
   "source": [
    "# d)  Sustituya sus resultados en las ecuaciones originales para efectos de comprobación."
   ]
  },
  {
   "cell_type": "code",
   "execution_count": 35,
   "metadata": {
    "collapsed": false
   },
   "outputs": [
    {
     "name": "stdout",
     "output_type": "stream",
     "text": [
      "Para ec1: 2.0 \n",
      "Para ec2: 3.0 \n",
      "Para ec3: 2.0\n"
     ]
    }
   ],
   "source": [
    "matriz=np.array([[0,-3.0,7,2],[1,2,-1,3],[5.0,-2,0,2]])\n",
    "comprobacion(matriz,x)"
   ]
  },
  {
   "cell_type": "markdown",
   "metadata": {},
   "source": [
    "# 9.11 Dadas las ecuaciones [2x1 – 6x2 – x3 = –38]; [–3x1 – x2 + 7x3 = –34]; [–8x1 + x2 – 2x3 = –20]"
   ]
  },
  {
   "cell_type": "markdown",
   "metadata": {},
   "source": [
    "# a)  Resuelva por eliminación de Gauss con pivoteo parcial. Efectúe todos los pasos del cálculo. "
   ]
  },
  {
   "cell_type": "code",
   "execution_count": 36,
   "metadata": {
    "collapsed": false
   },
   "outputs": [
    {
     "name": "stdout",
     "output_type": "stream",
     "text": [
      "Matriz de coeficiente:\n",
      "[[  2.  -6.  -1. -38.]\n",
      " [ -3.  -1.   7. -34.]\n",
      " [ -8.   1.  -2. -20.]]\n",
      "matriz triangular resultante:\n",
      "[[ -8.           1.          -2.         -20.        ]\n",
      " [  0.          -5.75        -1.5        -43.        ]\n",
      " [  0.           0.           8.10869565 -16.2173913 ]]\n",
      "\n",
      "X1= 4.0\n",
      "\n",
      "X2= 8.0\n",
      "\n",
      "X3= -2.0\n"
     ]
    },
    {
     "data": {
      "text/plain": [
       "[4.0, 8.0, -2.0, 0, 0, 0, 0, 0, 0]"
      ]
     },
     "execution_count": 36,
     "metadata": {},
     "output_type": "execute_result"
    }
   ],
   "source": [
    "matriz=np.array([[2,-6.0,-1,-38],[-3,-1,7,-34],[-8.0,1,-2,-20]])\n",
    "pivoteo_par(matriz,x)"
   ]
  },
  {
   "cell_type": "markdown",
   "metadata": {},
   "source": [
    "# b)  Sustituya los resultados en las ecuaciones originales para comprobar sus respuestas. "
   ]
  },
  {
   "cell_type": "code",
   "execution_count": 37,
   "metadata": {
    "collapsed": false
   },
   "outputs": [
    {
     "name": "stdout",
     "output_type": "stream",
     "text": [
      "Para ec1: -38.0 \n",
      "Para ec2: -34.0 \n",
      "Para ec3: -20.0\n"
     ]
    }
   ],
   "source": [
    "matriz=np.array([[2,-6.0,-1,-38],[-3,-1,7,-34],[-8.0,1,-2,-20]])\n",
    "comprobacion(matriz,x)"
   ]
  },
  {
   "cell_type": "markdown",
   "metadata": {},
   "source": [
    "# 9.12 Emplee la eliminación de Gauss-Jordan para resolver el sistema siguiente: 2x1 + x2 – x3 = 1 5x1 + 2x2 + 2x3 = –4 3x1 + x2 + x3 = 5"
   ]
  },
  {
   "cell_type": "markdown",
   "metadata": {},
   "source": [
    "# No utilice pivoteo. Compruebe sus respuestas con la sustitución en las ecuaciones originales. "
   ]
  },
  {
   "cell_type": "code",
   "execution_count": 38,
   "metadata": {
    "collapsed": false
   },
   "outputs": [
    {
     "name": "stdout",
     "output_type": "stream",
     "text": [
      "[[  1.   0.   0.  14.]\n",
      " [  0.   1.   0. -32.]\n",
      " [  0.   0.   1.  -5.]]\n",
      "\n",
      "X1= 14.0\n",
      "\n",
      "X2= -32.0\n",
      "\n",
      "X3= -5.0\n"
     ]
    }
   ],
   "source": [
    "import numpy as np\n",
    "def gauss_jordan(m):\n",
    "    (h,w)=(len(m),len(m[0]))\n",
    "    c=0.0\n",
    "    for y in range(0,h):\n",
    "        #maxfila=y\n",
    "        \"\"\"for y2 in range(y+1, h):    #pivoteo\n",
    "            if (abs(m[y2][y])>abs(m[maxfila][y])):\n",
    "                maxfila=y2\n",
    "        (m[y], m[maxfila]) = (m[maxfila], m[y])\"\"\"\n",
    "        for y2 in range(y+1,h):    # Elimina columna y\n",
    "            c = m[y2][y]/m[y][y]\n",
    "            for x in range(y,w):\n",
    "                m[y2][x]-=m[y][x]*c\n",
    "    for y in range(h-1,-1,-1): \n",
    "        c=m[y][y]\n",
    "        for y2 in range(0,y):\n",
    "            for x in range(w-1,y-1,-1):\n",
    "                m[y2][x]-=m[y][x]*m[y2][y]/c\n",
    "        m[y][y]/=c\n",
    "        for x in range(h,w):       # Normaliza la fila y\n",
    "            m[y][x]/=c\n",
    "    return m\n",
    "matriz=np.array([[2.0,1,-1,1],[5,2,2,-4],[3,1.0,1,5.0]])\n",
    "print gauss_jordan(matriz)\n",
    "x=[]\n",
    "for i in range (tam):\n",
    "    x.append(m[i][tam])\n",
    "for g in range(tam):\n",
    "    print \"\\nX\"+repr(g+1)+\"=\",x[g]\n"
   ]
  },
  {
   "cell_type": "code",
   "execution_count": 24,
   "metadata": {
    "collapsed": false
   },
   "outputs": [
    {
     "name": "stdout",
     "output_type": "stream",
     "text": [
      "\n",
      "Comprobacion:\n",
      "\n",
      "Para ec1: 1.0 \n",
      "Para ec2: -4.0 \n",
      "Para ec3: 5.0\n"
     ]
    }
   ],
   "source": [
    "matriz=np.array([[2.0,1,-1,1],[5,2,2,-4],[3,1.0,1,5.0]])\n",
    "print \"\\nComprobacion:\\n\"\n",
    "comprobacion(matriz,x)"
   ]
  },
  {
   "cell_type": "markdown",
   "metadata": {},
   "source": [
    "# 9.13 Resuelva el sistema: x1 + x2 – x3 = –3 6x1 + 2x2 + 2x3 = 2 –3x1 + 4x2 + x3 = 1 por medio de  "
   ]
  },
  {
   "cell_type": "markdown",
   "metadata": {},
   "source": [
    "# a) eliminación de Gauss simple"
   ]
  },
  {
   "cell_type": "code",
   "execution_count": 11,
   "metadata": {
    "collapsed": false
   },
   "outputs": [
    {
     "name": "stdout",
     "output_type": "stream",
     "text": [
      "\n",
      "X1= -4.0\n",
      "\n",
      "X2= -2.0\n",
      "\n",
      "X3= -3.0\n"
     ]
    }
   ],
   "source": [
    "import numpy as np\n",
    "matriz=np.array([[1,1.0,-1,-3],[-3,2,2,2.0],[-3,4,1,1]])\n",
    "tam=3\n",
    "tam2=tam+1\n",
    "for k in range (tam-1):\n",
    "    for i in range (k+1,tam):\n",
    "        factor=matriz[i][k]/matriz[k][k]\n",
    "        for j in range (k,tam2):\n",
    "            matriz[i][j]=(matriz[i][j]-(factor*matriz[k][j]))\n",
    "ntam=tam-1\n",
    "xn=round(matriz[ntam][tam]/matriz[ntam][ntam],5)\n",
    "x=[]\n",
    "suma=0.0\n",
    "for k in range (tam):\n",
    "    x.append(0)\n",
    "x[ntam]=xn\n",
    "i=ntam-1\n",
    "while(i>=0):\n",
    "    suma=matriz[i][tam]\n",
    "    j=i+1\n",
    "    while(j<=ntam):\n",
    "        suma=suma -matriz[i][j]*x[j]\n",
    "        j=j+1\n",
    "    x[i]=suma/matriz[i][i]\n",
    "    i=i-1\n",
    "for g in range(ntam+1):\n",
    "    print \"\\nX\"+repr(g+1)+\"=\",x[g]"
   ]
  },
  {
   "cell_type": "markdown",
   "metadata": {},
   "source": [
    "# b) eliminación de Gauss con pivoteo parcial "
   ]
  },
  {
   "cell_type": "code",
   "execution_count": 12,
   "metadata": {
    "collapsed": false
   },
   "outputs": [
    {
     "name": "stdout",
     "output_type": "stream",
     "text": [
      "Matriz de coeficiente:\n",
      "[[ 1.  1. -1. -3.]\n",
      " [-3.  2.  2.  2.]\n",
      " [-3.  4.  1.  1.]]\n",
      "matriz triangular resultante:\n",
      "[[-3.   2.   2.   2. ]\n",
      " [ 0.   2.  -1.  -1. ]\n",
      " [ 0.   0.   0.5 -1.5]]\n",
      "\n",
      "X1= -4.0\n",
      "\n",
      "X2= -2.0\n",
      "\n",
      "X3= -3.0\n"
     ]
    },
    {
     "data": {
      "text/plain": [
       "[-4.0000000000000009, -2.0000000000000009, -3.0000000000000013, 0, 0, 0]"
      ]
     },
     "execution_count": 12,
     "metadata": {},
     "output_type": "execute_result"
    }
   ],
   "source": [
    "matriz=np.array([[1,1.0,-1,-3],[-3,2,2.0,2],[-3,4.0,1,1]])\n",
    "pivoteo_par(matriz,x)"
   ]
  },
  {
   "cell_type": "markdown",
   "metadata": {},
   "source": [
    "# c) método de Gauss-Jordan sin pivoteo parcial."
   ]
  },
  {
   "cell_type": "code",
   "execution_count": 39,
   "metadata": {
    "collapsed": false,
    "scrolled": true
   },
   "outputs": [
    {
     "name": "stdout",
     "output_type": "stream",
     "text": [
      "[[ 1.  0.  0. -4.]\n",
      " [ 0.  1.  0. -2.]\n",
      " [ 0.  0.  1. -3.]]\n",
      "\n",
      "X1= -4.0\n",
      "\n",
      "X2= -2.0\n",
      "\n",
      "X3= -3.0\n"
     ]
    }
   ],
   "source": [
    "m=np.array([[1,1.0,-1,-3],[-3,2,2,2.0],[-3,4,1,1]])\n",
    "tam=3\n",
    "print gauss_jordan(m)\n",
    "x=[]\n",
    "for i in range (tam):\n",
    "    x.append(m[i][tam])\n",
    "for g in range(tam):\n",
    "    print \"\\nX\"+repr(g+1)+\"=\",x[g]"
   ]
  },
  {
   "cell_type": "code",
   "execution_count": null,
   "metadata": {
    "collapsed": true
   },
   "outputs": [],
   "source": []
  }
 ],
 "metadata": {
  "kernelspec": {
   "display_name": "Python 2",
   "language": "python",
   "name": "python2"
  },
  "language_info": {
   "codemirror_mode": {
    "name": "ipython",
    "version": 2
   },
   "file_extension": ".py",
   "mimetype": "text/x-python",
   "name": "python",
   "nbconvert_exporter": "python",
   "pygments_lexer": "ipython2",
   "version": "2.7.11"
  }
 },
 "nbformat": 4,
 "nbformat_minor": 0
}
