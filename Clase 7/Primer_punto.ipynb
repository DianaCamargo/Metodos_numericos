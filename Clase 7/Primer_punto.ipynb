{
 "cells": [
  {
   "cell_type": "code",
   "execution_count": 37,
   "metadata": {
    "collapsed": false
   },
   "outputs": [
    {
     "name": "stdout",
     "output_type": "stream",
     "text": [
      "######Ejemplo 5.5 Chapra#####\n",
      " Diana Camargo\n",
      "f(c)=(667.38/c)*(1-mt.e**(-0.146843*c)-40)\n",
      "Error Tolerado= 0.05 %\n",
      "ERPA=Error Relativo Porcentual Aproximado\n",
      "________________________________________________\n",
      "|Iteraccion | f(c)aprox xr |  ERPA (%)  |\n",
      "________________________________________________\n",
      "|    1      |    15.278448 |  100.000000|\n",
      "________________________________________________\n",
      "|    2      |    14.985668 |  1.953734  |\n",
      "________________________________________________\n",
      "|    3      |    14.865267 |  0.809952  |\n",
      "________________________________________________\n",
      "|    4      |    14.815479 |  0.336053  |\n",
      "________________________________________________\n",
      "|    5      |    14.794843 |  0.139476  |\n",
      "________________________________________________\n",
      "|    6      |    14.786283 |  0.057896  |\n",
      "________________________________________________\n",
      "|    7      |    14.782730 |  0.024034  |\n",
      "\n",
      "Valor Aproximado=  14.7827300331\n"
     ]
    }
   ],
   "source": [
    "import math as mt\n",
    "import matplotlib\n",
    "import numpy as np\n",
    "#Del ejemplo 5.5, chapra\n",
    "#f(c)=(667.38/c)*(1-mt.e**(-0.146843*c)-40)\n",
    "#xr= xu- [fxu(xi-xu)/fxi-fxu]\n",
    "n=5\n",
    "es=0.5*(10**(2-n))*100 #Error tolerado\n",
    "print '######Ejemplo 5.5 Chapra#####\\n Diana Camargo'\n",
    "print 'f(c)=(667.38/c)*(1-mt.e**(-0.146843*c)-40)' \n",
    "print 'Error Tolerado=', es, '%'\n",
    "print 'ERPA=Error Relativo Porcentual Aproximado'\n",
    "print (\"_______________________________________________________________________________\")\n",
    "print \"|%-5s | %-12s |   %-9s  |   %-9s  | %-9s  | %-9s  |\" %('Iteraccion','    xi  ','   xu','  xr ',' ERPA (%)','ERPV (%)')\n",
    "xi=12\n",
    "xu=16\n",
    "xr=0.0\n",
    "fxi=0.0\n",
    "fxu=0.0\n",
    "i=1\n",
    "erpa=0.0\n",
    "while(True):\n",
    "    val_ante=xr\n",
    "    fxi=((667.38/xi)*(1-mt.e**(-0.146843*xu)))-40\n",
    "    fxu=((667.38/xu)*(1-mt.e**(-0.146843*xu)))-40\n",
    "    xr=xu-(fxu*(xi-xu)/(fxi-fxu))\n",
    "    fxr=((667.38/xr)*(1-mt.e**(-0.146843*xr)))-40\n",
    "    erpa=abs((xr-val_ante)/(xr))*100\n",
    "    ev=abs(vver-xr)\n",
    "    erpv=abs(ev/vver)*100\n",
    "    print (\"__________________________________________________________________________________\")\n",
    "    print\"|    %-6d |    %-9f |    %-9f |    %-9f |  %-10f|  %-10f|\" %(i,xi,xu,xr,erpa,erpv)\n",
    "    if(fxi*fxr<0):\n",
    "        xu=xr\n",
    "    if(fxi*fxr>0):\n",
    "        xi=xr\n",
    "    i=i+1\n",
    "    if (erpa<es or fxi*fxr==0):\n",
    "        break\n",
    "print '\\nValor Aproximado= ',xr        \n"
   ]
  },
  {
   "cell_type": "code",
   "execution_count": null,
   "metadata": {
    "collapsed": true
   },
   "outputs": [],
   "source": [
    "# En este caso el método de bisección es más efectivo que el de falsa posición\n"
   ]
  }
 ],
 "metadata": {
  "kernelspec": {
   "display_name": "Python 2",
   "language": "python",
   "name": "python2"
  },
  "language_info": {
   "codemirror_mode": {
    "name": "ipython",
    "version": 2
   },
   "file_extension": ".py",
   "mimetype": "text/x-python",
   "name": "python",
   "nbconvert_exporter": "python",
   "pygments_lexer": "ipython2",
   "version": "2.7.11"
  }
 },
 "nbformat": 4,
 "nbformat_minor": 0
}
