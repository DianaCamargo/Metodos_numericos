{
 "cells": [
  {
   "cell_type": "code",
   "execution_count": 3,
   "metadata": {
    "collapsed": false
   },
   "outputs": [
    {
     "name": "stdout",
     "output_type": "stream",
     "text": [
      "######Ejemplo 5.5 Chapra-FALSA POSICION#####\n",
      " Diana Camargo\n",
      "f(c)=(667.38/c)*(1-mt.e**(-0.146843*c)-40)\n",
      "Error Tolerado= 0.05 %\n",
      "ERPA=Error Relativo Porcentual Aproximado\n",
      "_______________________________________________________________________________\n",
      "|Iteraccion |     xi       |      xu      |     xr       |  ERPA (%)  | ERPV (%)   |\n",
      "__________________________________________________________________________________\n",
      "|    1      |    12.000000 |    16.000000 |    14.911308 |  100.000000|  0.887050  |\n",
      "__________________________________________________________________________________\n",
      "|    2      |    12.000000 |    14.911308 |    14.794198 |  0.791595  |  0.094705  |\n",
      "__________________________________________________________________________________\n",
      "|    3      |    12.000000 |    14.794198 |    14.781700 |  0.084547  |  0.010149  |\n",
      "__________________________________________________________________________________\n",
      "|    4      |    12.000000 |    14.781700 |    14.780368 |  0.009015  |  0.001134  |\n",
      "\n",
      "Valor Aproximado=  14.7803676058\n"
     ]
    }
   ],
   "source": [
    "import math as mt\n",
    "import matplotlib\n",
    "import numpy as np\n",
    "#Del ejemplo 5.5, chapra\n",
    "#f(c)=(667.38/c)*(1-mt.e**(-0.146843*c)-40)\n",
    "#xr= xu- [fxu(xi-xu)/fxi-fxu]\n",
    "n=5\n",
    "es=0.5*(10**(2-n))*100 #Error tolerado\n",
    "print '######Ejemplo 5.5 Chapra-FALSA POSICION#####\\n Diana Camargo'\n",
    "print 'f(c)=(667.38/c)*(1-mt.e**(-0.146843*c)-40)' \n",
    "print 'Error Tolerado=', es, '%'\n",
    "print 'ERPA=Error Relativo Porcentual Aproximado'\n",
    "print (\"_______________________________________________________________________________\")\n",
    "print \"|%-5s | %-12s |   %-9s  |   %-9s  | %-9s  | %-9s  |\" %('Iteraccion','    xi  ','   xu','  xr ',' ERPA (%)','ERPV (%)')\n",
    "xi=12\n",
    "xu=16\n",
    "xr=0.0\n",
    "fxi=0.0\n",
    "fxu=0.0\n",
    "i=1\n",
    "erpa=0.0\n",
    "vver= 14.7802 ###RAIZ VERDADERA\n",
    "while(True):\n",
    "    val_ante=xr\n",
    "    fxi=((667.38/xi)*(1-mt.e**(-0.146843*xi)))-40\n",
    "    fxu=((667.38/xu)*(1-mt.e**(-0.146843*xu)))-40\n",
    "    xr=xu-(fxu*(xi-xu)/(fxi-fxu))\n",
    "    fxr=((667.38/xr)*(1-mt.e**(-0.146843*xr)))-40\n",
    "    erpa=abs((xr-val_ante)/(xr))*100\n",
    "    ev=abs(vver-xr)\n",
    "    erpv=abs(ev/vver)*100\n",
    "    print (\"__________________________________________________________________________________\")\n",
    "    print\"|    %-6d |    %-9f |    %-9f |    %-9f |  %-10f|  %-10f|\" %(i,xi,xu,xr,erpa,erpv)\n",
    "    if(fxi*fxr<0):\n",
    "        xu=xr\n",
    "    if(fxi*fxr>0):\n",
    "        xi=xr\n",
    "    i=i+1\n",
    "    if (erpa<es or fxi*fxr==0):\n",
    "        break\n",
    "print '\\nValor Aproximado= ',xr\n"
   ]
  },
  {
   "cell_type": "code",
   "execution_count": null,
   "metadata": {
    "collapsed": true
   },
   "outputs": [],
   "source": [
    "\n"
   ]
  }
 ],
 "metadata": {
  "kernelspec": {
   "display_name": "Python 2",
   "language": "python",
   "name": "python2"
  },
  "language_info": {
   "codemirror_mode": {
    "name": "ipython",
    "version": 2
   },
   "file_extension": ".py",
   "mimetype": "text/x-python",
   "name": "python",
   "nbconvert_exporter": "python",
   "pygments_lexer": "ipython2",
   "version": "2.7.11"
  }
 },
 "nbformat": 4,
 "nbformat_minor": 0
}
