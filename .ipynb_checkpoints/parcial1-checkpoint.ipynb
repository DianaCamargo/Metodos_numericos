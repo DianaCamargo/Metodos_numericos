{
 "cells": [
  {
   "cell_type": "markdown",
   "metadata": {},
   "source": [
    "# Diana camargo\n",
    "#161002606\n"
   ]
  },
  {
   "cell_type": "markdown",
   "metadata": {},
   "source": [
    "# 1. E.ninguna de las anteriores\n",
    "# 2. C.98.8642\n",
    "# 3. A. (Valor verdadero -valor aprox /valor aproximado)*100\n"
   ]
  },
  {
   "cell_type": "markdown",
   "metadata": {},
   "source": [
    "# 4. B.(?)\n"
   ]
  },
  {
   "cell_type": "markdown",
   "metadata": {},
   "source": [
    "# 5. "
   ]
  },
  {
   "cell_type": "code",
   "execution_count": 4,
   "metadata": {
    "collapsed": false
   },
   "outputs": [
    {
     "name": "stdout",
     "output_type": "stream",
     "text": [
      "error verdadero 0.4072829\n"
     ]
    }
   ],
   "source": [
    "ev=43.4322629-43.02498\n",
    "print 'error verdadero', abs(ev)"
   ]
  },
  {
   "cell_type": "markdown",
   "metadata": {},
   "source": [
    "# 6. C. 2.7183"
   ]
  },
  {
   "cell_type": "markdown",
   "metadata": {},
   "source": [
    "# 7.\n"
   ]
  },
  {
   "cell_type": "code",
   "execution_count": 29,
   "metadata": {
    "collapsed": false
   },
   "outputs": [
    {
     "name": "stdout",
     "output_type": "stream",
     "text": [
      "derivadaAdelante:  6.804\n"
     ]
    }
   ],
   "source": [
    "\n",
    "import math\n",
    "xi=0.0\n",
    "xi1=0.1                \n",
    "fxi=(4*(xi**4))-(2*(xi**2))+(7*xi) \n",
    "fxi1=(4*(xi1**4))-(2*(xi1**2))+(7*xi1)\n",
    "derivada=(fxi1-fxi)/(0.1)\n",
    "print \"derivadaAdelante: \", derivada\n"
   ]
  },
  {
   "cell_type": "markdown",
   "metadata": {},
   "source": [
    "# Rta= D (?)"
   ]
  },
  {
   "cell_type": "markdown",
   "metadata": {},
   "source": [
    "# 8."
   ]
  },
  {
   "cell_type": "code",
   "execution_count": 15,
   "metadata": {
    "collapsed": false
   },
   "outputs": [
    {
     "name": "stdout",
     "output_type": "stream",
     "text": [
      "es:  0.005 %\n"
     ]
    }
   ],
   "source": [
    "n=4\n",
    "es=(0.5*(10**(2-n)))\n",
    "print 'es: ', es, '%'"
   ]
  },
  {
   "cell_type": "markdown",
   "metadata": {},
   "source": [
    "# 9. "
   ]
  },
  {
   "cell_type": "code",
   "execution_count": 25,
   "metadata": {
    "collapsed": false
   },
   "outputs": [
    {
     "name": "stdout",
     "output_type": "stream",
     "text": [
      "derivadaAdelante:  0.372312841135\n"
     ]
    }
   ],
   "source": [
    "import math\n",
    "xi=0.5\n",
    "xi1=0.75                \n",
    "fxi=math.sin(3*xi)+(xi**2) \n",
    "fxi1=math.sin(3*xi1)+(xi1**2) \n",
    "derivada=(fxi1-fxi)/(0.25)\n",
    "print \"derivadaAdelante: \", derivada"
   ]
  },
  {
   "cell_type": "markdown",
   "metadata": {},
   "source": [
    "# rta= B.  1.19287, 2. 0134 ,  0.37231"
   ]
  },
  {
   "cell_type": "markdown",
   "metadata": {},
   "source": [
    "# 10."
   ]
  },
  {
   "cell_type": "code",
   "execution_count": 42,
   "metadata": {
    "collapsed": false
   },
   "outputs": [
    {
     "name": "stdout",
     "output_type": "stream",
     "text": [
      "ERPV=Error Relativo Porcentual Verdadero\n",
      "ERPA=Error Relativo Porcentual Aproximado\n",
      "________________________________________________________\n",
      "|Iteraccion | f(x)aprox    |  ERPV (%)  |  ERPA (%)   |\n",
      "_______________________________________________________\n",
      "|    0      |    1.000000  |  42.382812 |   100.000000|\n",
      "_______________________________________________________\n",
      "|    1      |    1.375000  |  3.551136  |   27.272727 |\n",
      "valor funcion: 1.423828125\n",
      "\n",
      "Valor Aproximado=  1.375\n"
     ]
    }
   ],
   "source": [
    "import matplotlib.pyplot as plt\n",
    "import math as mt\n",
    "import numpy\n",
    "###h=xi+1 -xi; xi+1=1, xi=0\n",
    "print 'ERPV=Error Relativo Porcentual Verdadero'\n",
    "print 'ERPA=Error Relativo Porcentual Aproximado'\n",
    "print (\"________________________________________________________\")\n",
    "print \"|%-5s | %-9s  | %-9s  | %-10s  |\" %('Iteraccion','f(x)aprox  ',' ERPV (%)',' ERPA (%)')\n",
    "orden=1\n",
    "x=1\n",
    "xmas1=1.125\n",
    "vver=xmas1**3\n",
    "der=[0,0,0,0,0]\n",
    "der[0]=x**3\n",
    "der[1]=3*x**2\n",
    "der[2]=6*x\n",
    "der[3]=6\n",
    "vfimas1=0.0\n",
    "nfimas1=0.0\n",
    "fimas1=[0.0,0.0,0.0,0.0,0.0]\n",
    "for i in range (2):\n",
    "    vfimas1=nfimas1\n",
    "    #fi+1=f(xi)+f'(xi)*h+ (f''(xi)*(h^2)/2!) + ... + ((fn(xi)*h^n)/n!)\n",
    "    fimas1[i]=(der[i]*(xmas1-x)**i)/mt.factorial(i)\n",
    "    nfimas1=fimas1[i]+nfimas1\n",
    "    ev=vver-nfimas1\n",
    "    erpv=abs((ev*100)/nfimas1)\n",
    "    erpa=abs((nfimas1-vfimas1)*(100/nfimas1))\n",
    "    print (\"_______________________________________________________\")\n",
    "    print\"|    %-6d |    %-9f |  %-9f |   %-10f|\" %(i,nfimas1,erpv,erpa)\n",
    "print 'valor funcion:',vver\n",
    "print '\\nValor Aproximado= ',nfimas1"
   ]
  },
  {
   "cell_type": "markdown",
   "metadata": {},
   "source": [
    "# Rta: B 1.4238281 y 1.375 "
   ]
  },
  {
   "cell_type": "markdown",
   "metadata": {},
   "source": [
    "# 11. A. falsa posicion"
   ]
  },
  {
   "cell_type": "markdown",
   "metadata": {},
   "source": [
    "# 12"
   ]
  },
  {
   "cell_type": "code",
   "execution_count": 4,
   "metadata": {
    "collapsed": false
   },
   "outputs": [
    {
     "name": "stdout",
     "output_type": "stream",
     "text": [
      "######Ejemplo 5.6 Chapra#####\n",
      " Metodo PUNTO FIJO \n",
      " ###Diana Camargo###\n",
      "f(x)=e^-x   - x\n",
      "Error Tolerado= 0.05 %\n",
      "ERPA=Error Relativo Porcentual Aproximado\n",
      "_____________________________________________________\n",
      "|Iteraccion |     xi+1     |  ERPA (%)  | ERPV (%)  |\n",
      "____________________________________________________\n",
      "|    1      |   0.833333  |  340.000000|\n",
      "____________________________________________________\n",
      "|    2      |   -1.003086 |  183.076923|\n",
      "____________________________________________________\n",
      "|    3      |   -0.829899 |  20.868539 |\n",
      "____________________________________________________\n",
      "|    4      |   -1.006260 |  17.526424 |\n",
      "____________________________________________________\n",
      "|    5      |   -0.826356 |  21.770788 |\n",
      "\n",
      "Valor Aproximado=  -0.82635590052\n"
     ]
    }
   ],
   "source": [
    "import math as mt\n",
    "import matplotlib\n",
    "import numpy as np\n",
    "n=5\n",
    "es=0.5*(10**(2-n))*100 #Error tolerado\n",
    "print '######Ejemplo 5.6 Chapra#####\\n Metodo PUNTO FIJO \\n ###Diana Camargo###'\n",
    "print 'f(x)=e^-x   - x' \n",
    "print 'Error Tolerado=', es, '%'\n",
    "print 'ERPA=Error Relativo Porcentual Aproximado'\n",
    "print (\"_____________________________________________________\")\n",
    "print \"|%-5s | %-12s | %-9s  | %-9s |\" %('Iteraccion','    xi+1  ',' ERPA (%)','ERPV (%)')\n",
    "\n",
    "#Despejando x\n",
    "#xi+1=(x2-2.5)/1.8\n",
    "\n",
    "ximas1=-2.0\n",
    "i=1\n",
    "ii=0\n",
    "erpa=0.0\n",
    "while(i<6):\n",
    "    xi=ximas1\n",
    "    ximas1=((xi**2)-2.5)/1.8\n",
    "    erpa=abs((ximas1-xi)/(ximas1))*100\n",
    "    print (\"____________________________________________________\")\n",
    "    print\"|    %-6d |   %-9f |  %-10f|\" %(i,ximas1,erpa)\n",
    "    if (erpa<es):\n",
    "        break\n",
    "    i=i+1\n",
    "    ii=ii+1\n",
    "print '\\nValor Aproximado= ',ximas1"
   ]
  },
  {
   "cell_type": "markdown",
   "metadata": {
    "collapsed": true
   },
   "source": [
    "# Rta: A -0.826356"
   ]
  },
  {
   "cell_type": "markdown",
   "metadata": {},
   "source": [
    "# 13."
   ]
  },
  {
   "cell_type": "code",
   "execution_count": 8,
   "metadata": {
    "collapsed": false
   },
   "outputs": [
    {
     "name": "stdout",
     "output_type": "stream",
     "text": [
      "____________________________________________________\n",
      "|    1      |   -1.12068965517 |  78.461538 | \n",
      "____________________________________________________\n",
      "|    2      |   -0.92937213134 |  20.585675 | \n",
      "____________________________________________________\n",
      "|    3      |   -0.919368044611 |  1.088148  | \n",
      "____________________________________________________\n",
      "|    4      |   -0.919340540074 |  0.002992  | \n",
      "\n",
      "Valor Aproximado=  -0.919340540074\n"
     ]
    }
   ],
   "source": [
    "import math as mt\n",
    "import matplotlib\n",
    "import numpy as np\n",
    "#Hallando la derivada de la función\n",
    "#f'(x)= -2*x +1.8\n",
    "ximas1=-2.0\n",
    "i=1\n",
    "ii=0\n",
    "erpa=0.0\n",
    "while(i<6):\n",
    "    xi=ximas1\n",
    "    ximas1=xi-((-xi**2)+(1.8*xi)+2.5)/((-2*xi)+1.8)\n",
    "    erpa=abs((ximas1-xi)/(ximas1))*100\n",
    "    print (\"____________________________________________________\")\n",
    "    print\"|    %-6d |   %-9s |  %-10f| \" %(i,ximas1,erpa)\n",
    "    if (erpa<es):\n",
    "        break\n",
    "    i=i+1\n",
    "    ii=ii+1\n",
    "print '\\nValor Aproximado= ',ximas1"
   ]
  },
  {
   "cell_type": "markdown",
   "metadata": {},
   "source": [
    "# rta= C. -0.919341"
   ]
  },
  {
   "cell_type": "markdown",
   "metadata": {},
   "source": [
    "# 14 . C. -1.006260..."
   ]
  },
  {
   "cell_type": "markdown",
   "metadata": {},
   "source": [
    "# 15. D. segundo orden"
   ]
  },
  {
   "cell_type": "code",
   "execution_count": null,
   "metadata": {
    "collapsed": true
   },
   "outputs": [],
   "source": []
  }
 ],
 "metadata": {
  "kernelspec": {
   "display_name": "Python 2",
   "language": "python",
   "name": "python2"
  },
  "language_info": {
   "codemirror_mode": {
    "name": "ipython",
    "version": 2
   },
   "file_extension": ".py",
   "mimetype": "text/x-python",
   "name": "python",
   "nbconvert_exporter": "python",
   "pygments_lexer": "ipython2",
   "version": "2.7.11"
  }
 },
 "nbformat": 4,
 "nbformat_minor": 0
}
