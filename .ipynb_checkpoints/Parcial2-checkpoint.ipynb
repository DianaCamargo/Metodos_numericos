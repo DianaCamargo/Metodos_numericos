{
 "cells": [
  {
   "cell_type": "markdown",
   "metadata": {},
   "source": [
    "# 1)"
   ]
  },
  {
   "cell_type": "code",
   "execution_count": 3,
   "metadata": {
    "collapsed": false
   },
   "outputs": [
    {
     "name": "stdout",
     "output_type": "stream",
     "text": [
      "Media= 60.8636363636\n",
      "Desviacion estandar= 4.68364659796\n"
     ]
    }
   ],
   "source": [
    "import math\n",
    "x= [64.0, 54.2, 65.1, 58.3, 55.7, 60.2, 62.5, 67.9, 66.6, 55.8, 59.2]\n",
    "n=len(x)\n",
    "def sumarLista(lista):\n",
    "    sum=0\n",
    "    for i in range(0,len(lista)):\n",
    "        sum=sum+lista[i]\n",
    " \n",
    "    return sum\n",
    "media=sumarLista(x)/n\n",
    "st=0\n",
    "i=0\n",
    "while(i<n):\n",
    "    resta=((x[i]-media)**2)\n",
    "    st+=resta\n",
    "    i+=1\n",
    "desvi=math.sqrt((st)/(n-1))\n",
    "print \"Media=\",media\n",
    "print \"Desviacion estandar=\",desvi"
   ]
  },
  {
   "cell_type": "markdown",
   "metadata": {},
   "source": [
    "# 2)"
   ]
  },
  {
   "cell_type": "code",
   "execution_count": 3,
   "metadata": {
    "collapsed": false
   },
   "outputs": [
    {
     "name": "stdout",
     "output_type": "stream",
     "text": [
      "valor obtenido por interpolacion cuadratica: 7.5901157\n"
     ]
    }
   ],
   "source": [
    "import math\n",
    "import matplotlib.pyplot as plt\n",
    "%matplotlib inline\n",
    "\n",
    "i=1\n",
    "\n",
    "coef,equis,function,nF=[],[],[],[]\n",
    "\n",
    "valor=3\n",
    "x0=2\n",
    "x1=4\n",
    "x2=5\n",
    "\n",
    "if(valor>0):\n",
    "    def funcion(num):\n",
    "        value=math.exp(num)\n",
    "        return value\n",
    "\n",
    "    def coeficientes():\n",
    "        coef.append(funcion(x0))\n",
    "        coef.append((funcion(x1)-funcion(x0))/(x1-x0))\n",
    "        coef.append((((funcion(x2)-funcion(x1))/(x2-x1))-((funcion(x1)-funcion(x0))/(x1-x0)))/(x2-x0))\n",
    "\n",
    "    def cuadratica(i):\n",
    "        fx2=coef[0]+(coef[1]*(i-x0))+(coef[2]*(i-x0)*(i-x1))\n",
    "        return fx2\n",
    "\n",
    "    def valorAprx(a,b,x):\n",
    "        fx=coef[0]+(coef[1]*(x-a))+(coef[2]*(x-a)*(x-b))\n",
    "        return fx\n",
    "\n",
    "    coeficientes()\n",
    "\n",
    "    while(i<=30):\n",
    "        function.append(funcion(i))\n",
    "        equis.append(i)\n",
    "        nF.append(cuadratica(i))\n",
    "        i+=0.2\n",
    "\n",
    "    print \"valor obtenido por interpolacion cuadratica: %.7f\"%(valorAprx(x0,x1,valor))"
   ]
  },
  {
   "cell_type": "markdown",
   "metadata": {},
   "source": [
    "# 3)"
   ]
  },
  {
   "cell_type": "code",
   "execution_count": 5,
   "metadata": {
    "collapsed": false
   },
   "outputs": [
    {
     "name": "stdout",
     "output_type": "stream",
     "text": [
      "X1:  -0.326018158236 \n",
      "x2:  0.177821011673 \n",
      "x3:  -0.122360570687\n"
     ]
    }
   ],
   "source": [
    "#Primera ecuacion\n",
    "a11=0.4\n",
    "a12=0.12\n",
    "a13=-1.3\n",
    "b1=0.05\n",
    "#Segunda ecuacion\n",
    "a21=0.1\n",
    "a22=-0.24\n",
    "a23=2.0\n",
    "b2=-0.32\n",
    "#Tercera ecuacion\n",
    "a31=0.3\n",
    "a32=1.6\n",
    "a33=0.3\n",
    "b3=0.15\n",
    "#Determinante\n",
    "det=a11*((a22*a33)-(a23*a32))-a12*((a21*a33)-(a23*a31))+a13*((a21*a32)-(a22*a31))\n",
    "#solucion por cramer\n",
    "x1=(b1*((a22*a33)-(a23*a32))-a12*((b2*a33)-(a23*b3))+a13*((b2*a32)-(a22*b3)))/det\n",
    "x2=(a11*((b2*a33)-(a23*b3))-b1*((a21*a33)-(a23*a31))+a13*((a21*b3)-(b2*a31)))/det\n",
    "x3=(a11*((a22*b3)-(b2*a32))-a12*((a21*b3)-(b2*a31))+b1*((a21*a32)-(a22*a31)))/det\n",
    "print 'X1: ',x1, '\\nx2: ',x2, '\\nx3: ',x3"
   ]
  },
  {
   "cell_type": "markdown",
   "metadata": {},
   "source": [
    "# 4)"
   ]
  },
  {
   "cell_type": "code",
   "execution_count": 9,
   "metadata": {
    "collapsed": false
   },
   "outputs": [
    {
     "name": "stdout",
     "output_type": "stream",
     "text": [
      "a0= 0.785 y a1= 0.425\n"
     ]
    }
   ],
   "source": [
    "import matplotlib.pyplot as plt\n",
    "%matplotlib inline\n",
    "\n",
    "def calculo():\n",
    "    \n",
    "    xi=[1,2,3,4,5] \n",
    "    yi=[1,2,1.30,3.75,2.25]\n",
    "    n,y,t,sumax,sumay,mult,sumCuadrado=len(xi),[],[],0.0,0.0,0.0,0.0\n",
    "    for i in range (n):\n",
    "        sumax += xi[i]\n",
    "        sumay += yi[i]\n",
    "        mult += xi[i]*yi[i]\n",
    "        sumCuadrado += xi[i]**2\n",
    "    a1 = (n*mult-(sumax*sumay))/(n*sumCuadrado-sumax**2)\n",
    "    xmedia = sumax/n\n",
    "    ymedia = sumay/n\n",
    "    a0 = ymedia-a1*xmedia\n",
    "    for j in range(n+1):\n",
    "        y.append(a0+a1*j)\n",
    "        t.append(j)\n",
    "    print \"a0=\",a0,\"y a1=\",a1\n",
    "calculo()"
   ]
  },
  {
   "cell_type": "markdown",
   "metadata": {},
   "source": [
    "# 5)"
   ]
  },
  {
   "cell_type": "code",
   "execution_count": 12,
   "metadata": {
    "collapsed": false
   },
   "outputs": [
    {
     "name": "stdout",
     "output_type": "stream",
     "text": [
      "Coeficiente de correlacion =  0.626832748979\n"
     ]
    }
   ],
   "source": [
    "import math\n",
    "import matplotlib.pyplot as plt\n",
    "import matplotlib.pyplot as plt2\n",
    "%matplotlib inline \n",
    "\n",
    "x=[1,2,3,4.0,5]\n",
    "y=[1,2,1.30,3.75,2.25]\n",
    "x2=[ 6, 7, 11, 15, 17, 21, 23, 29, 29, 37, 39,10] \n",
    "y2= [29, 21, 29, 14, 21, 15, 7, 7, 13, 0, 3,10]\n",
    "\n",
    "tiempo,ecuacion1,ecuacion2,valores=[],[],[],[]\n",
    "n,n2=len(x),len(x2)\n",
    "\n",
    "for t in range (1, 16):\n",
    "    tiempo.append(t)\n",
    "\n",
    "def sumProd(vec1,vec2, cont):\n",
    "    suma1=0\n",
    "    for i in range(cont):\n",
    "        suma1+=(vec1[i]*vec2[i])\n",
    "    return suma1\n",
    "\n",
    "def sumXY(vec1,vec2,cont):\n",
    "    suma2=0\n",
    "    suma3=0\n",
    "    for j in range (cont):\n",
    "        suma2+=vec1[j]\n",
    "        suma3+=vec2[j]\n",
    "    producto=suma2*suma3\n",
    "    return producto\n",
    "\n",
    "def sumCuadr(vec1, cont):\n",
    "    suma4=0\n",
    "    for k in range(cont):\n",
    "        suma4+=math.pow(vec1[k],2)\n",
    "    return suma4\n",
    "\n",
    "def cuadrado(vec1, cont):    \n",
    "    suma5=0\n",
    "    for l in range(cont):\n",
    "        suma5+=vec1[l]\n",
    "    return (math.pow(suma5,2))\n",
    "\n",
    "def mediaX(vec1, cont): \n",
    "    suma6=0\n",
    "    for o in range(cont):\n",
    "        suma6+=vec1[o]\n",
    "    return (suma6/len(vec1))\n",
    "\n",
    "def mediaY(vec2, cont):\n",
    "    suma7=0\n",
    "    for m in range(cont):\n",
    "        suma7+=vec2[m]\n",
    "    return (suma7/len(vec2))\n",
    "\n",
    "def raices(vec1,vec2,cont):\n",
    "    raiz1=0\n",
    "    raiz2=0\n",
    "    sumx=0\n",
    "    sumcx=0\n",
    "    sumy=0\n",
    "    sumcy=0\n",
    "    for k in range(cont):\n",
    "        sumx+=math.pow(vec1[k],2)\n",
    "        sumcx+=vec1[k]\n",
    "        sumy+=math.pow(vec2[k],2)\n",
    "        sumcy+=vec2[k]\n",
    "    raiz1=math.sqrt(((cont*sumx)-(math.pow(sumcx,2))))\n",
    "    raiz2=math.sqrt(((cont*sumy)-(math.pow(sumcy,2))))\n",
    "    return (raiz1*raiz2)\n",
    "\n",
    "def coeficiente(vec1,vec2,cont):\n",
    "    r=(((cont*sumProd(vec1,vec2,cont))-sumXY(vec1,vec2,cont))/(raices(vec1,vec2,cont)))\n",
    "    return (r)\n",
    "    \n",
    "a1A=(n*sumProd(x,y,n)-sumXY(x,y,n))/(n*sumCuadr(x,n)-cuadrado(x,n))\n",
    "a0A=mediaY(y,n)-a1A*mediaX(x,n)\n",
    "\n",
    "a1B=(n2*sumProd(x2,y2,n2)-sumXY(x2,y2,n2))/(n2*sumCuadr(x2,n2)-cuadrado(x2,n2))\n",
    "a0B=mediaY(y2,n2)-a1B*mediaX(x2,n2)\n",
    "\n",
    "for w in range (40):\n",
    "    func1=a0A+(a1A*w)\n",
    "    ecuacion1.append(func1)\n",
    "    func2=a0B+(a1B*w)\n",
    "    ecuacion2.append(func2)\n",
    "    valores.append(w)\n",
    "    \n",
    "print \"Coeficiente de correlacion = \", coeficiente(x,y,n)\n"
   ]
  },
  {
   "cell_type": "markdown",
   "metadata": {},
   "source": [
    "# 6)"
   ]
  },
  {
   "cell_type": "code",
   "execution_count": 1,
   "metadata": {
    "collapsed": false
   },
   "outputs": [
    {
     "name": "stdout",
     "output_type": "stream",
     "text": [
      "valor obtenido con interpolacion lineal es: 75.5657205 \n"
     ]
    }
   ],
   "source": [
    "import math\n",
    "import matplotlib.pyplot as plt\n",
    "%matplotlib inline \n",
    "\n",
    "vec1A,vec1B,function,equis,coef=[],[],[],[],[]\n",
    "\n",
    "valor=3\n",
    "pto0=1\n",
    "pto1=5\n",
    "\n",
    "if(valor>0):\n",
    "    real=math.log(valor)\n",
    "\n",
    "    def funcion(num):\n",
    "        value=math.exp(num)\n",
    "        return value\n",
    "\n",
    "    def evaluar(x1, x0):\n",
    "        fx= funcion(x0)+((funcion(x1)-funcion(x0))/(x1-x0))*(valor-x0)\n",
    "        return fx\n",
    "\n",
    "    def error(apr):\n",
    "        if(valor!=1):\n",
    "            Et=math.fabs((real-apr)/real*100)\n",
    "            return Et\n",
    "        else:\n",
    "            Et=0\n",
    "            return Et\n",
    "\n",
    "    def vectores():\n",
    "        i=1\n",
    "        vec1A.append(pto0)\n",
    "        vec1A.append(pto1)\n",
    "        vec1B.append(funcion(pto0))\n",
    "        vec1B.append(funcion(pto1))\n",
    "        while(i<=20):\n",
    "            function.append(funcion(i))\n",
    "            equis.append(i)\n",
    "            i+=0.1\n",
    "    print \"valor obtenido con interpolacion lineal es: %.7f \" %(evaluar(pto1,pto0))\n",
    "\n",
    "vectores()\n"
   ]
  },
  {
   "cell_type": "markdown",
   "metadata": {},
   "source": [
    "# 11)"
   ]
  },
  {
   "cell_type": "code",
   "execution_count": 3,
   "metadata": {
    "collapsed": false
   },
   "outputs": [
    {
     "name": "stdout",
     "output_type": "stream",
     "text": [
      "El determinante es: 481.0\n"
     ]
    }
   ],
   "source": [
    "import numpy as np\n",
    "b =[0,0,0]\n",
    "a=np.array([[4, 5, 6,0], [11.0, 0, 3,0], [7, 9, 2,0]])\n",
    "det=(((a[0][0])*((a[1][1])*(a[2][2])-(a[1][2])*(a[2][1])))-((a[0][1])*((a[1][0])*(a[2][2])-(a[1][2])*(a[2][0])))+\n",
    "       ((a[0][2])*((a[1][0])*(a[2][1])-(a[1][1])*(a[2][0]))))\n",
    "print (\"El determinante es: \"+str(det))\n"
   ]
  },
  {
   "cell_type": "markdown",
   "metadata": {},
   "source": [
    "# 12)"
   ]
  },
  {
   "cell_type": "code",
   "execution_count": 6,
   "metadata": {
    "collapsed": false
   },
   "outputs": [
    {
     "name": "stdout",
     "output_type": "stream",
     "text": [
      "f( 6 )= 3.335\n"
     ]
    }
   ],
   "source": [
    "\n",
    "def calculo():\n",
    "    xx=6 #porque se va a calcular f(6)\n",
    "    xi=[1,2,3,4,5] \n",
    "    yi=[1,2,1.30,3.75,2.25]\n",
    "    n,y,t,sumax,sumay,mult,sumCuadrado=len(xi),[],[],0.0,0.0,0.0,0.0\n",
    "    for i in range (n):\n",
    "        sumax += xi[i]\n",
    "        sumay += yi[i]\n",
    "        mult += xi[i]*yi[i]\n",
    "        sumCuadrado += xi[i]**2\n",
    "    a1 = (n*mult-(sumax*sumay))/(n*sumCuadrado-sumax**2)\n",
    "    xmedia = sumax/n\n",
    "    ymedia = sumay/n\n",
    "    a0 = ymedia-a1*xmedia\n",
    "    for j in range(n+1):\n",
    "        y.append(a0+a1*j)\n",
    "        t.append(j)\n",
    "    #print \"a0=\",a0,\"\\na1=\",a1\n",
    "    fxx=a0+a1*xx\n",
    "    print \"f(\",xx,\")=\",fxx\n",
    "calculo()"
   ]
  },
  {
   "cell_type": "code",
   "execution_count": null,
   "metadata": {
    "collapsed": true
   },
   "outputs": [],
   "source": []
  }
 ],
 "metadata": {
  "kernelspec": {
   "display_name": "Python 2",
   "language": "python",
   "name": "python2"
  },
  "language_info": {
   "codemirror_mode": {
    "name": "ipython",
    "version": 2
   },
   "file_extension": ".py",
   "mimetype": "text/x-python",
   "name": "python",
   "nbconvert_exporter": "python",
   "pygments_lexer": "ipython2",
   "version": "2.7.11"
  }
 },
 "nbformat": 4,
 "nbformat_minor": 0
}
