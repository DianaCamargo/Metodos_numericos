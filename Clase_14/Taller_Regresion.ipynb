{
 "cells": [
  {
   "cell_type": "markdown",
   "metadata": {},
   "source": [
    "# 1.  Desarrollar los Problemas 17.1 a 17.6 (Pag. 499 y 500 del Libro, o 523 y 524 del PDF)."
   ]
  },
  {
   "cell_type": "markdown",
   "metadata": {},
   "source": [
    "# 17.1 Dados los datos   "
   ]
  },
  {
   "cell_type": "code",
   "execution_count": 3,
   "metadata": {
    "collapsed": false
   },
   "outputs": [
    {
     "name": "stdout",
     "output_type": "stream",
     "text": [
      "[[  8.8   9.5   9.8   9.4  10. ]\n",
      " [  9.4  10.1   9.2  11.3   9.4]\n",
      " [ 10.   10.4   7.9  10.4   9.8]\n",
      " [  9.8   9.5   8.9   8.8  10.6]\n",
      " [ 10.1   9.5   9.6  10.2   8.9]]\n"
     ]
    }
   ],
   "source": [
    "import numpy as np\n",
    "print np.array([[8.8, 9.5, 9.8, 9.4, 10.0],[9.4, 10.1, 9.2, 11.3, 9.4],[10.0, 10.4, 7.9, 10.4, 9.8],[9.8, 9.5, 8.9, 8.8, 10.6],[10.1, 9.5, 9.6, 10.2, 8.9]])"
   ]
  },
  {
   "cell_type": "markdown",
   "metadata": {},
   "source": [
    "# Determine a) la media, b) la desviación estándar, c) la varianza, d) el coeficiente de variación, y e) el intervalo de confianza del 95% para la media"
   ]
  },
  {
   "cell_type": "code",
   "execution_count": 17,
   "metadata": {
    "collapsed": false
   },
   "outputs": [
    {
     "name": "stdout",
     "output_type": "stream",
     "text": [
      "a)Media= 9.652 \n",
      "\n",
      "b)Desviacion estantar= 0.703041013503 \n",
      "\n",
      "c)Varianza= 11.8624 \n",
      "\n",
      "d)Coeficiente variacion= 7.28388948925%\n"
     ]
    }
   ],
   "source": [
    "import math\n",
    "x=[8.8,9.5,9.8,9.4,10.0,9.4,10.1,9.2,11.3,9.4,10.0,10.4,7.9,10.4,9.8,9.8,9.5,8.9,8.8,10.6,10.1,9.5,9.6,10.2,8.9]\n",
    "n=25\n",
    "j=0;\n",
    "suma=0.0;\n",
    "while(j<n):\n",
    "    suma+=x[j]\n",
    "    j+=1    \n",
    "media=suma/n \n",
    "st=0\n",
    "i=0\n",
    "while(i<n):\n",
    "    resta=((x[i]-media)**2)\n",
    "    st+=resta\n",
    "    i+=1\n",
    "desvi=math.sqrt((st)/(n-1))  \n",
    "print \"a)Media= \"+str(media),\"\\n\\nb)Desviacion estantar= \"+ str(desvi),\"\\n\\nc)Varianza= \"+str(st),\"\\n\\nd)Coeficiente variacion= \"+str((desvi/media)*100)+\"%\""
   ]
  },
  {
   "cell_type": "markdown",
   "metadata": {},
   "source": [
    "# 17.2 Construya un histograma de los datos del problema 17.1. Use un rango de 7.5 a 11.5 con intervalos de 0.5. "
   ]
  },
  {
   "cell_type": "code",
   "execution_count": 30,
   "metadata": {
    "collapsed": false
   },
   "outputs": [
    {
     "data": {
      "image/png": "[encoded data removed]",
      "text/plain": [
       "<matplotlib.figure.Figure at 0x72a6278>"
      ]
     },
     "metadata": {},
     "output_type": "display_data"
    }
   ],
   "source": [
    "import random\n",
    "from matplotlib.pylab import hist, show\n",
    "%matplotlib inline\n",
    "x=[8.8,9.5,9.8,9.4,10.0,9.4,10.1,9.2,11.3,9.4,10.0,10.4,7.9,10.4,9.8,9.8,9.5,8.9,8.8,10.6,10.1,9.5,9.6,10.2,8.9]\n",
    "maxx=max(x)\n",
    "minx=min(x)\n",
    "hist(x,10,(minx,maxx),histtype=\"stepfilled\",color='m')\n",
    "show()"
   ]
  },
  {
   "cell_type": "markdown",
   "metadata": {},
   "source": [
    "# 17.3 Dados los datos "
   ]
  },
  {
   "cell_type": "code",
   "execution_count": 6,
   "metadata": {
    "collapsed": false
   },
   "outputs": [
    {
     "name": "stdout",
     "output_type": "stream",
     "text": [
      "[[ 28.65  26.55  26.65  27.65  27.35  28.35  26.85]\n",
      " [ 28.65  29.65  27.85  27.05  28.25  28.35  26.75]\n",
      " [ 27.65  28.45  28.65  28.45  31.65  26.35  27.75]\n",
      " [ 29.25  27.65  28.65  27.65  28.55  27.55  27.25]]\n"
     ]
    }
   ],
   "source": [
    "print np.array([[28.65, 26.55, 26.65, 27.65, 27.35, 28.35, 26.85],[28.65, 29.65, 27.85, 27.05, 28.25, 28.35, 26.75],[27.65, 28.45, 28.65, 28.45, 31.65, 26.35, 27.75],[29.25, 27.65, 28.65, 27.65, 28.55, 27.55, 27.25]])"
   ]
  },
  {
   "cell_type": "markdown",
   "metadata": {},
   "source": [
    "# Determine a) la media, b) la desviación estándar, c) la varianza, d) el coeficiente de variación, y e) el intervalo de confianza del 90% para la media. f ) Construya un histograma. Use un rango de 26 a 32 con incrementos de 0.5. g) Si se supone que la distribución es normal y que la estimación de la desviación estándar es válida, calcule el rango (es decir, los valores inferior y superior) que agrupa al 68% de los datos. Determine si esta es una estimación válida para los datos del problema. "
   ]
  },
  {
   "cell_type": "code",
   "execution_count": 41,
   "metadata": {
    "collapsed": false
   },
   "outputs": [
    {
     "name": "stdout",
     "output_type": "stream",
     "text": [
      "a)Media= 28.0035714286 \n",
      "\n",
      "b)Desviacion estantar= 1.09729706395 \n",
      "\n",
      "c)Varianza= 32.5096428571 \n",
      "\n",
      "d)Coeficiente variacion= 3.9184182873%\n"
     ]
    },
    {
     "data": {
      "image/png": "[encoded data removed]",
      "text/plain": [
       "<matplotlib.figure.Figure at 0x7a2c550>"
      ]
     },
     "metadata": {},
     "output_type": "display_data"
    }
   ],
   "source": [
    "import random\n",
    "from matplotlib.pylab import hist, show\n",
    "%matplotlib inline\n",
    "x=[28.65,26.55,26.65,27.65,27.35,28.35,26.85,28.65,29.65,27.85,27.05,28.25,28.35,26.75,27.65,28.45,28.65,28.45,31.65,26.35,27.75,29.25,27.65,28.65,27.65,28.55,27.55,27.25]\n",
    "tam=len(x)\n",
    "maxx=max(x)\n",
    "minx=min(x)\n",
    "k=0;\n",
    "suma=0.0;\n",
    "while(k<tam):\n",
    "    suma+=x[k]\n",
    "    k+=1    \n",
    "media=suma/tam \n",
    "st=0\n",
    "i=0\n",
    "while(i<tam):\n",
    "    resta=((x[i]-media)**2)\n",
    "    st+=resta\n",
    "    i+=1\n",
    "desvi=math.sqrt((st)/(tam-1))\n",
    "print \"a)Media= \"+str(media),\"\\n\\nb)Desviacion estantar= \"+ str(desvi),\"\\n\\nc)Varianza= \"+str(st),\"\\n\\nd)Coeficiente variacion= \"+str((desvi/media)*100)+\"%\"\n",
    "hist(x,10,(minx,maxx),color='y')\n",
    "#hist(x,25, (26,32,))\n",
    "show()"
   ]
  },
  {
   "cell_type": "markdown",
   "metadata": {},
   "source": [
    "# 17.4 Utilice la regresión por mínimos cuadrados para ajustar una línea recta a"
   ]
  },
  {
   "cell_type": "markdown",
   "metadata": {},
   "source": [
    "# x|0|2|4|6|9|11|12|15|17|19|  \n",
    "# y|5|6|7|6|9| 8 | 7 |10|12|12|"
   ]
  },
  {
   "cell_type": "markdown",
   "metadata": {},
   "source": [
    "# Además de la pendiente y la intersección, calcule el error estándar de la estimación y el coeficiente de correlación. Haga una gráfica de los datos y la línea de regresión. Después repita el problema, pero ahora efectúe la regresión de x versus y, es decir, intercambie las variables. Interprete sus resultados. "
   ]
  },
  {
   "cell_type": "code",
   "execution_count": 51,
   "metadata": {
    "collapsed": false
   },
   "outputs": [
    {
     "name": "stdout",
     "output_type": "stream",
     "text": [
      "|Xi     |Yi             |(Yi-Y)^2   |(Yi-a0-a1Xi)^2)|\n",
      "|-------|---------------|-----------|---------------|\n",
      "|0      |5              |10.24      |0.0220417432411|\n",
      "|2      |6              |4.84       |0.196714159155|\n",
      "|4      |7              |1.44       |0.545507476814|\n",
      "|6      |6              |4.84       |0.933842256966|\n",
      "|9      |9              |0.64       |0.953034736123|\n",
      "|11     |8              |0.04       |0.531010889464|\n",
      "|12     |7              |1.44       |4.33128896383|\n",
      "|15     |10             |3.24       |0.0192057411662|\n",
      "|17     |12             |14.44      |1.33743512044|\n",
      "|19     |12             |14.44      |0.20388419985|\n",
      "Error estandar estimado 1.0650096999\n",
      "Coeficiente de correlacion 0.998778468119\n"
     ]
    },
    {
     "data": {
      "image/png": "[encoded data removed]",
      "text/plain": [
       "<matplotlib.figure.Figure at 0x77fc978>"
      ]
     },
     "metadata": {},
     "output_type": "display_data"
    },
    {
     "data": {
      "image/png": "[encoded data removed]",
      "text/plain": [
       "<matplotlib.figure.Figure at 0x8810f28>"
      ]
     },
     "metadata": {},
     "output_type": "display_data"
    }
   ],
   "source": [
    "import math\n",
    "import numpy as np\n",
    "import matplotlib.pyplot as ptl\n",
    "%matplotlib inline\n",
    "x=[0,2,4,6,9,11,12,15,17,19]\n",
    "y=[5,6,7,6,9,8,7,10,12,12]\n",
    "a1=0.0\n",
    "n=10\n",
    "i=0\n",
    "sum1=0.0\n",
    "sum2=0.0\n",
    "sum3=0.0\n",
    "sum4=0.0\n",
    "while(i<n):\n",
    "    sum1+=(x[i])*(y[i])\n",
    "    sum2+=x[i]\n",
    "    sum3+=y[i]\n",
    "    sum4+=(x[i])**2\n",
    "    i+=1\n",
    "tot1=n*sum1\n",
    "tot2=sum3*sum2\n",
    "tot3=n*sum4\n",
    "tot4=sum2**2\n",
    "a1=(tot1-tot2)/(tot3-tot4)\n",
    "a0=sum3/n-(a1*(sum2/n))\n",
    "sm1=0.0\n",
    "sm2=0.0\n",
    "sr=0.0\n",
    "st=0.0\n",
    "j=0\n",
    "print \"|%-7s|%-15s|%-11s|%-11s|\"%(\"Xi\",\"Yi\",\"(Yi-Y)^2\",\"(Yi-a0-a1Xi)^2)\")\n",
    "print \"|%-7s|%-15s|%-11s|%-12s|\"%(\"-------\",\"---------------\",\"-----------\",\"---------------\")\n",
    "while(j<n):\n",
    "    to1=(y[j]-(sum3/n))**2\n",
    "    sm1+=to1\n",
    "    to2=(y[j]-a0-a1*x[j])**2\n",
    "    sm2+=to2\n",
    "    sr+=(y[j]-a0-a1*x[j])**2\n",
    "    st+=(y[j]-(sum3/3))**2\n",
    "    print \"|%-7s|%-15.5s|%-11s|%-11s|\"%(x[j],y[j],to1,to2)\n",
    "    j+=1\n",
    "Ers=math.sqrt(sr/(n-2))\n",
    "coe=math.sqrt((st-sr)/(st))\n",
    "print \"Error estandar estimado \"+str(Ers)\n",
    "print \"Coeficiente de correlacion \"+str(coe)\n",
    "w=np.arange(0,20,0.1)\n",
    "z=a0+a1*w\n",
    "ptl.plot(w,z,'blue')\n",
    "ptl.plot(x,y,'co')\n",
    "ptl.title(\"Ejercicio 17.4 \", fontsize = 20)\n",
    "ptl.legend(loc=\"upper left\")\n",
    "ptl.grid(True) \n",
    "ptl.show()\n",
    "w=np.arange(0,20,0.1)\n",
    "z=a0+a1*w\n",
    "ptl.plot(z,w,'c')\n",
    "ptl.plot(y,x,'co')\n",
    "ptl.title(\"Variables intercambiadas\", fontsize = 20)\n",
    "ptl.legend(loc=\"upper left\")\n",
    "ptl.grid(True)\n",
    "ptl.show()"
   ]
  },
  {
   "cell_type": "markdown",
   "metadata": {},
   "source": [
    "# 17.5 Use la regresión por mínimos cuadrados para ajustar una línea recta a \n",
    "# x| 6 | 7 | 11| 15| 17| 21|23|29| 29|37|39|  \n",
    "# y|29|21| 29| 14| 21| 15| 7 | 7 | 13| 0 | 3 |\n",
    "\n",
    "# Además de la pendiente y la intersección, calcule el error estándar de la estimación y el coeficiente de correlación. Haga una gráfica de los datos y la línea de regresión. ¿Si otra persona hiciera una medición adicional de x = 10, y = 10, usted pensaría, con base en una evaluación visual y el error estándar, que la medición era válida o inválida? Justifique su conclusión. \n"
   ]
  },
  {
   "cell_type": "code",
   "execution_count": 67,
   "metadata": {
    "collapsed": false
   },
   "outputs": [
    {
     "name": "stdout",
     "output_type": "stream",
     "text": [
      "|Xi     |Yi             |(Yi-Y)^2   |(Yi-a0-a1Xi)^2)|\n",
      "|-------|---------------|-----------|---------------|\n",
      "|6      |29             |179.56     |4.81518373014  |\n",
      "|7      |21             |29.16      |24.756588998   |\n",
      "|11     |29             |179.56     |40.2538531629  |\n",
      "|15     |14             |2.56       |28.4645273108  |\n",
      "|17     |21             |29.16      |11.0548278647  |\n",
      "|21     |15             |0.36       |0.416117786207 |\n",
      "|23     |7              |73.96      |32.4311135471  |\n",
      "|29     |7              |73.96      |0.510573822304 |\n",
      "|29     |13             |6.76       |27.9360399917  |\n",
      "|37     |0              |243.36     |1.15382162844  |\n",
      "Error estandar estimado 4.63401348512\n",
      "Coeficiente de correlacion 0.993875449953\n"
     ]
    },
    {
     "data": {
      "image/png": "[encoded data removed]",
      "text/plain": [
       "<matplotlib.figure.Figure at 0x7a5f0f0>"
      ]
     },
     "metadata": {},
     "output_type": "display_data"
    }
   ],
   "source": [
    "x=[6,7,11,15,17,21,23,29,29,37,39]\n",
    "y=[29,21,29,14,21,15,7,7,13,0,3]\n",
    "\n",
    "a1=0.0\n",
    "n=10\n",
    "i=0\n",
    "sum1=0.0\n",
    "sum2=0.0\n",
    "sum3=0.0\n",
    "sum4=0.0\n",
    "while(i<n):\n",
    "    sum1+=(x[i])*(y[i])\n",
    "    sum2+=x[i]\n",
    "    sum3+=y[i]\n",
    "    sum4+=(x[i])**2\n",
    "    i+=1\n",
    "tot1=n*sum1\n",
    "tot2=sum3*sum2\n",
    "tot3=n*sum4\n",
    "tot4=sum2**2\n",
    "\n",
    "a1=(tot1-tot2)/(tot3-tot4)\n",
    "a0=sum3/n-(a1*(sum2/n))\n",
    "sm1=0.0\n",
    "sm2=0.0\n",
    "sr=0.0\n",
    "st=0.0\n",
    "j=0\n",
    "print \"|%-7s|%-15s|%-11s|%-12s|\"%(\"Xi\",\"Yi\",\"(Yi-Y)^2\",\"(Yi-a0-a1Xi)^2)\")\n",
    "print \"|%-7s|%-15s|%-11s|%-12s|\"%(\"-------\",\"---------------\",\"-----------\",\"---------------\")\n",
    "while(j<n):\n",
    "    to1=(y[j]-(sum3/n))**2\n",
    "    sm1+=to1\n",
    "    to2=(y[j]-a0-a1*x[j])**2\n",
    "    sm2+=to2\n",
    "    sr+=(y[j]-a0-a1*x[j])**2\n",
    "    st+=(y[j]-(sum3/3))**2\n",
    "    print \"|%-7s|%-15.5s|%-11s|%-15s|\"%(x[j],y[j],to1,to2)\n",
    "    j+=1\n",
    "Ers=math.sqrt(sr/(n-2))\n",
    "coe=math.sqrt((st-sr)/(st))\n",
    "print \"Error estandar estimado \"+str(Ers)\n",
    "print \"Coeficiente de correlacion \"+str(coe)\n",
    "w=np.arange(0,50,0.5)\n",
    "z=a0+a1*w\n",
    "ptl.plot(w,z,'blue',label='Regresion lineal')\n",
    "ptl.plot(x,y,'ro')\n",
    "ptl.title(\"Ejercicio 17.4\", fontsize = 20)\n",
    "ptl.legend(loc=\"upper right\")\n",
    "ptl.grid(True)\n",
    "ptl.show()"
   ]
  },
  {
   "cell_type": "markdown",
   "metadata": {},
   "source": [
    "# rta: No la considero valida porque aunque el error estandar sería solo un poco mayor, la regresion lineal varia y obtendria una pendiente diferente, y la recta siendo proyectada, se veria el cambio considerable. Yo descartaria ese dato."
   ]
  },
  {
   "cell_type": "markdown",
   "metadata": {},
   "source": [
    "# 17.6 Con el mismo enfoque que se empleó para obtener las ecuaciones (17.15) y (17.16), obtenga el ajuste por mínimos cuadrados del modelo siguiente:\n",
    "# y = a1x + e\n",
    "# Es decir, determine la pendiente que resulta en el ajuste por mínimos cuadrados para una línea recta con intersección en el origen. Ajuste los datos siguientes con dicho modelo e ilustre el resultado con una gráfica.\n",
    "\n",
    "# x| 2| 4| 6| 7|10|11|14|17|20|  \n",
    "# y| 1| 2| 5| 2| 8 | 7 | 6 | 9 |12|\n",
    " "
   ]
  },
  {
   "cell_type": "code",
   "execution_count": 68,
   "metadata": {
    "collapsed": false
   },
   "outputs": [
    {
     "name": "stdout",
     "output_type": "stream",
     "text": [
      "a1 =  0.557677616501 \n",
      "a0 =  0.139037433155 \n",
      "Coeficiente de correlacion=  0.917128851729 \n",
      "Error estandar de la estimacion =  1.56240900641\n"
     ]
    },
    {
     "data": {
      "image/png": "[encoded data removed]",
      "text/plain": [
       "<matplotlib.figure.Figure at 0x7a5f7f0>"
      ]
     },
     "metadata": {},
     "output_type": "display_data"
    }
   ],
   "source": [
    "import math\n",
    "import matplotlib.pyplot as plt\n",
    "%matplotlib inline \n",
    "\n",
    "x= [2, 4, 6, 7, 10, 11, 14, 17, 20] \n",
    "y =[1, 2, 5, 2, 8, 7, 6, 9, 12]\n",
    "\n",
    "tiempo,ecuacion1,valores,logy,logx=[],[],[],[],[]\n",
    "n=len(x)\n",
    "\n",
    "for t in range (1, 16):\n",
    "    tiempo.append(t)\n",
    "\n",
    "def sumProd(vec1,vec2, cont):\n",
    "    suma1=0\n",
    "    for i in range(cont):\n",
    "        suma1+=(vec1[i]*vec2[i])\n",
    "    return suma1\n",
    "def sumXY(vec1,vec2,cont):\n",
    "    suma2=0\n",
    "    suma3=0\n",
    "    for j in range (cont):\n",
    "        suma2+=vec1[j]\n",
    "        suma3+=vec2[j]\n",
    "    producto=suma2*suma3\n",
    "    return producto\n",
    "def sumCuadr(vec1, cont):\n",
    "    suma4=0\n",
    "    for k in range(cont):\n",
    "        suma4+=math.pow(vec1[k],2)\n",
    "    return suma4\n",
    "def cuadrado(vec1, cont):    \n",
    "    suma5=0\n",
    "    for l in range(cont):\n",
    "        suma5+=vec1[l]\n",
    "    return (math.pow(suma5,2))\n",
    "def mediaX(vec1, cont): \n",
    "    suma6=0.0\n",
    "    for o in range(cont):\n",
    "        suma6+=vec1[o]\n",
    "    return (suma6/len(vec1))\n",
    "def mediaY(vec2, cont):\n",
    "    suma7=0.0\n",
    "    for m in range(cont):\n",
    "        suma7+=vec2[m]\n",
    "    return (suma7/len(vec2))\n",
    "def raices(vec1,vec2,cont):\n",
    "    raiz1=0\n",
    "    raiz2=0\n",
    "    sumx=0\n",
    "    sumcx=0\n",
    "    sumy=0\n",
    "    sumcy=0\n",
    "    for k in range(cont):\n",
    "        sumx+=math.pow(vec1[k],2)\n",
    "        sumcx+=vec1[k]\n",
    "        sumy+=math.pow(vec2[k],2)\n",
    "        sumcy+=vec2[k]\n",
    "    raiz1=math.sqrt(((cont*sumx)-(math.pow(sumcx,2))))\n",
    "    raiz2=math.sqrt(((cont*sumy)-(math.pow(sumcy,2))))\n",
    "    return (raiz1*raiz2)\n",
    "def coeficiente(vec1,vec2,cont):\n",
    "    r=(((cont*sumProd(vec1,vec2,cont))-sumXY(vec1,vec2,cont))/(raices(vec1,vec2,cont)))\n",
    "    return (r)\n",
    "def error(vec1,vec2,a1,a0,cont):\n",
    "    sr=0\n",
    "    for p in range(cont):\n",
    "        sr+=math.pow(vec2[p]-a0-a1*vec1[p],2)\n",
    "    syx=math.sqrt(sr/(cont-2))\n",
    "    return syx    \n",
    "a1A=(n*sumProd(x,y,n)-sumXY(x,y,n))/(n*sumCuadr(x,n)-cuadrado(x,n))\n",
    "a0A=mediaY(y,n)-a1A*mediaX(x,n)\n",
    "for w in range (40):\n",
    "    func1=a0A+(a1A*w)\n",
    "    ecuacion1.append(func1)\n",
    "    valores.append(w)    \n",
    "for z in range(1,n):\n",
    "    logy.append(math.log(ecuacion1[z]))\n",
    "    logx.append(math.log(z))    \n",
    "print \"a1 = \", a1A,\"\\na0 = \", a0A,\"\\nCoeficiente de correlacion= \", coeficiente(x,y,n),\"\\nError estandar de la estimacion = \", error(x,y,a1A,a0A,n)\n",
    "plt.axis([0,18,0,10])\n",
    "plt.ylabel('f(x)')\n",
    "plt.xlabel('x')\n",
    "plt.plot(x, y, 'bo', label=\"Datos\")\n",
    "plt.plot(valores, ecuacion1, 'y', linewidth=2.0, label=\"a0+a1x\")\n",
    "plt.plot(logx, logy, 'r-', linewidth=2.0, label=\"Ln(y) VS Ln(x)\")\n",
    "plt.legend(loc = 2, numpoints = 2)\n",
    "plt.show()"
   ]
  },
  {
   "cell_type": "code",
   "execution_count": null,
   "metadata": {
    "collapsed": true
   },
   "outputs": [],
   "source": []
  }
 ],
 "metadata": {
  "kernelspec": {
   "display_name": "Python 2",
   "language": "python",
   "name": "python2"
  },
  "language_info": {
   "codemirror_mode": {
    "name": "ipython",
    "version": 2
   },
   "file_extension": ".py",
   "mimetype": "text/x-python",
   "name": "python",
   "nbconvert_exporter": "python",
   "pygments_lexer": "ipython2",
   "version": "2.7.11"
  }
 },
 "nbformat": 4,
 "nbformat_minor": 0
}
