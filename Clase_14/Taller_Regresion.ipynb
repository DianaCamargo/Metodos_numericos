{
 "cells": [
  {
   "cell_type": "markdown",
   "metadata": {},
   "source": [
    "# 1.  Desarrollar los Problemas 17.1 a 17.6 (Pag. 499 y 500 del Libro, o 523 y 524 del PDF)."
   ]
  },
  {
   "cell_type": "markdown",
   "metadata": {},
   "source": [
    "# 17.1 Dados los datos   "
   ]
  },
  {
   "cell_type": "code",
   "execution_count": 3,
   "metadata": {
    "collapsed": false
   },
   "outputs": [
    {
     "name": "stdout",
     "output_type": "stream",
     "text": [
      "[[  8.8   9.5   9.8   9.4  10. ]\n",
      " [  9.4  10.1   9.2  11.3   9.4]\n",
      " [ 10.   10.4   7.9  10.4   9.8]\n",
      " [  9.8   9.5   8.9   8.8  10.6]\n",
      " [ 10.1   9.5   9.6  10.2   8.9]]\n"
     ]
    }
   ],
   "source": [
    "import numpy as np\n",
    "print np.array([[8.8, 9.5, 9.8, 9.4, 10.0],[9.4, 10.1, 9.2, 11.3, 9.4],[10.0, 10.4, 7.9, 10.4, 9.8],[9.8, 9.5, 8.9, 8.8, 10.6],[10.1, 9.5, 9.6, 10.2, 8.9]])"
   ]
  },
  {
   "cell_type": "markdown",
   "metadata": {},
   "source": [
    "# Determine a) la media, b) la desviación estándar, c) la varianza, d) el coeficiente de variación, y e) el intervalo de confianza del 95% para la media"
   ]
  },
  {
   "cell_type": "markdown",
   "metadata": {},
   "source": [
    "# 17.2 Construya un histograma de los datos del problema 17.1. Use un rango de 7.5 a 11.5 con intervalos de 0.5. "
   ]
  },
  {
   "cell_type": "markdown",
   "metadata": {},
   "source": [
    "# 17.3 Dados los datos "
   ]
  },
  {
   "cell_type": "code",
   "execution_count": 6,
   "metadata": {
    "collapsed": false
   },
   "outputs": [
    {
     "name": "stdout",
     "output_type": "stream",
     "text": [
      "[[ 28.65  26.55  26.65  27.65  27.35  28.35  26.85]\n",
      " [ 28.65  29.65  27.85  27.05  28.25  28.35  26.75]\n",
      " [ 27.65  28.45  28.65  28.45  31.65  26.35  27.75]\n",
      " [ 29.25  27.65  28.65  27.65  28.55  27.55  27.25]]\n"
     ]
    }
   ],
   "source": [
    "print np.array([[28.65, 26.55, 26.65, 27.65, 27.35, 28.35, 26.85],[28.65, 29.65, 27.85, 27.05, 28.25, 28.35, 26.75],[27.65, 28.45, 28.65, 28.45, 31.65, 26.35, 27.75],[29.25, 27.65, 28.65, 27.65, 28.55, 27.55, 27.25]])"
   ]
  },
  {
   "cell_type": "markdown",
   "metadata": {},
   "source": [
    "# Determine a) la media, b) la desviación estándar, c) la varianza, d) el coeficiente de variación, y e) el intervalo de confianza del 90% para la media. f ) Construya un histograma. Use un rango de 26 a 32 con incrementos de 0.5. g) Si se supone que la distribución es normal y que la estimación de la desviación estándar es válida, calcule el rango (es decir, los valores inferior y superior) que agrupa al 68% de los datos. Determine si esta es una estimación válida para los datos del problema. "
   ]
  },
  {
   "cell_type": "markdown",
   "metadata": {},
   "source": [
    "# 17.4 Utilice la regresión por mínimos cuadrados para ajustar una línea recta a"
   ]
  },
  {
   "cell_type": "markdown",
   "metadata": {},
   "source": [
    "# x|0|2|4|6|9|11|12|15|17|19|  \n",
    "# y|5|6|7|6|9| 8 | 7 |10|12|12|"
   ]
  },
  {
   "cell_type": "markdown",
   "metadata": {},
   "source": [
    "# Además de la pendiente y la intersección, calcule el error estándar de la estimación y el coeficiente de correlación. Haga una gráfica de los datos y la línea de regresión. Después repita el problema, pero ahora efectúe la regresión de x versus y, es decir, intercambie las variables. Interprete sus resultados. "
   ]
  },
  {
   "cell_type": "markdown",
   "metadata": {},
   "source": [
    "# 17.5 Use la regresión por mínimos cuadrados para ajustar una línea recta a \n",
    "# x| 6 | 7 | 11| 15| 17| 21|23|29| 29|37|39|  \n",
    "# y|29|21| 29| 14| 21| 15| 7 | 7 | 13| 0 | 3 |\n",
    "\n",
    "# Además de la pendiente y la intersección, calcule el error estándar de la estimación y el coeficiente de correlación. Haga una gráfica de los datos y la línea de regresión. ¿Si otra persona hiciera una medición adicional de x = 10, y = 10, usted pensaría, con base en una evaluación visual y el error estándar, que la medición era válida o inválida? Justifique su conclusión. \n"
   ]
  },
  {
   "cell_type": "markdown",
   "metadata": {},
   "source": [
    "# 17.6 Con el mismo enfoque que se empleó para obtener las ecuaciones (17.15) y (17.16), obtenga el ajuste por mínimos cuadrados del modelo siguiente:\n",
    "# y = a1x + e\n",
    "# Es decir, determine la pendiente que resulta en el ajuste por mínimos cuadrados para una línea recta con intersección en el origen. Ajuste los datos siguientes con dicho modelo e ilustre el resultado con una gráfica.\n",
    "\n",
    "# x| 2| 4| 6| 7|10|11|14|17|20|  \n",
    "# y| 1| 2| 5| 2| 8 | 7 | 6 | 9 |12|\n",
    " "
   ]
  },
  {
   "cell_type": "code",
   "execution_count": null,
   "metadata": {
    "collapsed": true
   },
   "outputs": [],
   "source": []
  }
 ],
 "metadata": {
  "kernelspec": {
   "display_name": "Python 2",
   "language": "python",
   "name": "python2"
  },
  "language_info": {
   "codemirror_mode": {
    "name": "ipython",
    "version": 2
   },
   "file_extension": ".py",
   "mimetype": "text/x-python",
   "name": "python",
   "nbconvert_exporter": "python",
   "pygments_lexer": "ipython2",
   "version": "2.7.11"
  }
 },
 "nbformat": 4,
 "nbformat_minor": 0
}
