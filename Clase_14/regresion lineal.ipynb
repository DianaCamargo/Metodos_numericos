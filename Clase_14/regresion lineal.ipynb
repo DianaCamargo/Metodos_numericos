{
 "cells": [
  {
   "cell_type": "code",
   "execution_count": 29,
   "metadata": {
    "collapsed": false
   },
   "outputs": [
    {
     "name": "stdout",
     "output_type": "stream",
     "text": [
      "x  --  f(x)\n",
      "1  --  0.8\n",
      "2  --  1.4\n",
      "3  --  0.6\n",
      "4  --  3.9\n",
      "5  --  7.8\n",
      "6  --  6.1\n",
      "7  --  0.3\n",
      "8  --  7.7\n",
      "9  --  2.3\n",
      "10  --  8.9\n",
      "La ecuacion lineal es y=a+bx, \n",
      "donde a= 0.573333333333 y b= 0.619393939394\n"
     ]
    },
    {
     "data": {
      "image/png": "[encoded data removed]",
      "text/plain": [
       "<matplotlib.figure.Figure at 0x71440b8>"
      ]
     },
     "metadata": {},
     "output_type": "display_data"
    }
   ],
   "source": [
    "import numpy as np\n",
    "import math\n",
    "import matplotlib.pyplot as plt\n",
    "%matplotlib inline \n",
    "#xarray=[1, 2, 3, 4, 5 ]\n",
    "#yarray=[5, 5, 5, 6.8, 9]\n",
    "xarray = [1, 2, 3, 4, 5, 6, 7, 8, 9, 10]\n",
    "yarray = [0.8, 1.4, 0.6, 3.9, 7.8, 6.1, 0.3, 7.7, 2.3, 8.9]\n",
    "x2=0\n",
    "y=0\n",
    "x=0\n",
    "xy=0\n",
    "n=len(xarray)\n",
    "print \"x\",\" -- \",\"f(x)\"\n",
    "for i in range(n):\n",
    "    #Tabla de datos\n",
    "    print xarray[i],\" -- \",yarray[i]\n",
    "    #Calculo de terminos\n",
    "    x2 += xarray[i]*xarray[i]\n",
    "    y  += yarray[i]\n",
    "    x  += xarray[i]\n",
    "    xy += xarray[i]*yarray[i]\n",
    "#Coeficiente parcial de regresion\n",
    "b=(n*xy-x*y)/(n*x2-x*x)\n",
    "#Calculo del intercepto\n",
    "a=(y-b*x)/n\n",
    "#Recta tendencial\n",
    "#y=a+bx\n",
    "print \"La ecuacion lineal es y=a+bx, \\ndonde a=\",a,\"y b=\",b\n",
    "\n",
    "w=np.arange(min(xarray),max(xarray),0.5)\n",
    "z=a+b*w\n",
    "plt.plot(w,z,'blue',label='Regresion lineal')\n",
    "plt.plot(xarray,yarray,'ro')\n",
    "plt.legend(loc=\"upper right\")\n",
    "plt.grid(True)\n",
    "plt.show()"
   ]
  },
  {
   "cell_type": "code",
   "execution_count": 33,
   "metadata": {
    "collapsed": false
   },
   "outputs": [
    {
     "name": "stdout",
     "output_type": "stream",
     "text": [
      "|Xi     |Yi             |(Yi-Y)^2   |(Yi-a0-a1Xi)^2)|\n",
      "|-------|---------------|-----------|---------------|\n",
      "|1      |0.8            |10.1124    |0.154234710744 |\n",
      "|2      |1.4            |6.6564     |0.16984389348  |\n",
      "|3      |0.6            |11.4244    |3.35444775023  |\n",
      "|4      |3.9            |0.0064     |0.720955371901 |\n",
      "|5      |7.8            |14.5924    |17.0543970615  |\n",
      "|6      |6.1            |4.4944     |3.27719706152  |\n",
      "|7      |0.3            |13.5424    |21.2437190083  |\n",
      "|8      |7.7            |13.8384    |4.71547805326  |\n",
      "|9      |2.3            |2.8224     |14.8061711662  |\n",
      "|10     |8.9            |24.2064    |4.54852561983  |\n",
      "Error estandar estimado 2.95898989727\n",
      "Coeficiente de correlacion 0.962989158494\n",
      "0.573333333333 0.619393939394\n"
     ]
    },
    {
     "data": {
      "image/png": "[encoded data removed]",
      "text/plain": [
       "<matplotlib.figure.Figure at 0x40ccdd8>"
      ]
     },
     "metadata": {},
     "output_type": "display_data"
    }
   ],
   "source": [
    "x= [1, 2, 3, 4, 5, 6, 7, 8, 9, 10]\n",
    "y= [0.8, 1.4, 0.6, 3.9, 7.8, 6.1, 0.3, 7.7, 2.3, 8.9]\n",
    "a1=0.0\n",
    "n=len(x)\n",
    "i=0\n",
    "sum1=0.0\n",
    "sum2=0.0\n",
    "sum3=0.0\n",
    "sum4=0.0\n",
    "while(i<n):\n",
    "    sum1+=(x[i])*(y[i])\n",
    "    sum2+=x[i]\n",
    "    sum3+=y[i]\n",
    "    sum4+=(x[i])**2\n",
    "    i+=1\n",
    "tot1=n*sum1\n",
    "tot2=sum3*sum2\n",
    "tot3=n*sum4\n",
    "tot4=sum2**2\n",
    "\n",
    "a1=(tot1-tot2)/(tot3-tot4)\n",
    "a0=sum3/n-(a1*(sum2/n))\n",
    "sm1=0.0\n",
    "sm2=0.0\n",
    "sr=0.0\n",
    "st=0.0\n",
    "j=0\n",
    "print \"|%-7s|%-15s|%-11s|%-12s|\"%(\"Xi\",\"Yi\",\"(Yi-Y)^2\",\"(Yi-a0-a1Xi)^2)\")\n",
    "print \"|%-7s|%-15s|%-11s|%-12s|\"%(\"-------\",\"---------------\",\"-----------\",\"---------------\")\n",
    "while(j<n):\n",
    "    to1=(y[j]-(sum3/n))**2\n",
    "    sm1+=to1\n",
    "    to2=(y[j]-a0-a1*x[j])**2\n",
    "    sm2+=to2\n",
    "    sr+=(y[j]-a0-a1*x[j])**2\n",
    "    st+=(y[j]-(sum3/3))**2\n",
    "    print \"|%-7s|%-15.5s|%-11s|%-15s|\"%(x[j],y[j],to1,to2)\n",
    "    j+=1\n",
    "Ers=math.sqrt(sr/(n-2))\n",
    "coe=math.sqrt((st-sr)/(st))\n",
    "print \"Error estandar estimado \"+str(Ers)\n",
    "print \"Coeficiente de correlacion \"+str(coe)\n",
    "w=np.arange(min(x),max(y),0.5)\n",
    "z=a0+a1*w\n",
    "print a0,a1\n",
    "plt.plot(w,z,'blue',label='Regresion lineal')\n",
    "plt.plot(x,y,'ro')\n",
    "plt.title(\"grafica\", fontsize = 20)\n",
    "plt.legend(loc=\"upper right\")\n",
    "plt.grid(True)\n",
    "plt.show()"
   ]
  },
  {
   "cell_type": "code",
   "execution_count": 42,
   "metadata": {
    "collapsed": false
   },
   "outputs": [
    {
     "name": "stdout",
     "output_type": "stream",
     "text": [
      "\n",
      "X a evaluar en la funcion lineal: 1.5\n",
      "\n",
      "Valor de x0: 1\n",
      "\n",
      "Valor de x1: 2\n",
      "El valor real de f(1.500000)= 0.40546511\n",
      "\n",
      "INTERPOLACIÓN LINEAL:\n",
      "\n",
      "1.50242424242\n",
      "1.5\n",
      "1.50242424242\n",
      "1.5\n",
      "Con una interpolación desde x0=1 hasta x1=2, se obtiene: 1.5000000 . Que representa un error del 269.9    \n"
     ]
    },
    {
     "data": {
      "image/png": "[encoded data removed]",
      "text/plain": [
       "<matplotlib.figure.Figure at 0x8614128>"
      ]
     },
     "metadata": {},
     "output_type": "display_data"
    }
   ],
   "source": [
    "####Interpolacion lineal\n",
    "\n",
    "import math\n",
    "import matplotlib.pyplot as plt\n",
    "%matplotlib inline \n",
    "a=0.573333333333\n",
    "b=0.619393939394\n",
    "vec1A,vec1B,function,equis,coef=[],[],[],[],[]\n",
    "\n",
    "valor=float((raw_input(\"\\nX a evaluar en la funcion lineal: \")))\n",
    "pto0=float((raw_input(\"\\nValor de x0: \")))\n",
    "pto1=float((raw_input(\"\\nValor de x1: \")))\n",
    "\n",
    "if(valor>0):\n",
    "    real=math.log(valor)\n",
    "\n",
    "    def funcion(num):\n",
    "        value=a+b*num\n",
    "        return value\n",
    "\n",
    "    def evaluar(x1, x0,xx):\n",
    "        fx= funcion(x0)+((funcion(x1)-funcion(x0))/(x1-x0))*(valor-x0)\n",
    "        print fx\n",
    "        #fx=(((funcion(xx)-funcion(x1))*(x0-x1))/(funcion(x0)-funcion(x1)))+x1\n",
    "        #print fx\n",
    "        return fx\n",
    "\n",
    "    def error(apr):\n",
    "        if(valor!=1):\n",
    "            Et=math.fabs((real-apr)/real*100)\n",
    "            return Et\n",
    "        else:\n",
    "            Et=0\n",
    "            return Et\n",
    "\n",
    "    def vectores():\n",
    "        i=1\n",
    "        vec1A.append(pto0)\n",
    "        vec1A.append(pto1)\n",
    "        vec1B.append(funcion(pto0))\n",
    "        vec1B.append(funcion(pto1))\n",
    "        while(i<=20):\n",
    "            function.append(funcion(i))\n",
    "            equis.append(i)\n",
    "            i+=0.1\n",
    "\n",
    "    print \"El valor real de f(%f)= %.8f\"%(valor,real)\n",
    "    print \"\\nINTERPOLACIÓN LINEAL:\\n\"\n",
    "    print \"Con una interpolación desde x0=%d hasta x1=%d, se obtiene: %.7f . Que representa un error del %.1f\\\n",
    "    \" %(pto0,pto1,evaluar(pto1,pto0,valor), error(evaluar(pto1,pto0,valor)))\n",
    "\n",
    "    vectores()\n",
    "\n",
    "    plt.title(\"Interpolacion Lineal\")\n",
    "    plt.axis([0,10,0,2.5])\n",
    "    plt.grid(True)\n",
    "    plt.ylabel('f(x)')\n",
    "    plt.xlabel('x')\n",
    "    plt.plot(valor,real, 'mo',linewidth=3.0, label=\"Valor Verdadero\")\n",
    "    plt.plot(vec1A,vec1B, 'bo',linewidth=2.0, label=\"Estimacion Lineal\")\n",
    "    plt.plot(equis,function, 'r-',linewidth=2.0, label=\"f(x)\")\n",
    "    plt.legend(loc = 'lower right', numpoints = 1)\n",
    "    plt.show()\n",
    "else:\n",
    "    print \"ERROR. Ingrese un valor para X mayor a 0. \""
   ]
  },
  {
   "cell_type": "code",
   "execution_count": null,
   "metadata": {
    "collapsed": true
   },
   "outputs": [],
   "source": []
  }
 ],
 "metadata": {
  "kernelspec": {
   "display_name": "Python 2",
   "language": "python",
   "name": "python2"
  },
  "language_info": {
   "codemirror_mode": {
    "name": "ipython",
    "version": 2
   },
   "file_extension": ".py",
   "mimetype": "text/x-python",
   "name": "python",
   "nbconvert_exporter": "python",
   "pygments_lexer": "ipython2",
   "version": "2.7.11"
  }
 },
 "nbformat": 4,
 "nbformat_minor": 0
}
