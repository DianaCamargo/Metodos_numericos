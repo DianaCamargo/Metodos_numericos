{
 "cells": [
  {
   "cell_type": "code",
   "execution_count": 5,
   "metadata": {
    "collapsed": false
   },
   "outputs": [
    {
     "data": {
      "image/png": "[encoded data removed]",
      "text/plain": [
       "<matplotlib.figure.Figure at 0x6fe1828>"
      ]
     },
     "metadata": {},
     "output_type": "display_data"
    }
   ],
   "source": [
    "import matplotlib.pyplot as plt\n",
    "%matplotlib inline\n",
    "\n",
    "def grafica():\n",
    "    n,y,t,sumax,sumay,mult,sumCuadrado=7,[],[],0.0,0.0,0.0,0.0\n",
    "    xi=[1,2,3,4,5,6,7]\n",
    "    yi=[0.5,2.5,2.0,4.0,3.5,6.0,5.5]\n",
    "    for i in range (n):\n",
    "        sumax += xi[i]\n",
    "        sumay += yi[i]\n",
    "        mult += xi[i]*yi[i]\n",
    "        sumCuadrado += xi[i]**2\n",
    "    a1 = (n*mult-(sumax*sumay))/(n*sumCuadrado-sumax**2)\n",
    "    xmedia = sumax/n\n",
    "    ymedia = sumay/n\n",
    "    a0 = ymedia-a1*xmedia\n",
    "    for j in range(n+1):\n",
    "        y.append(a0+a1*j)\n",
    "        t.append(j)\n",
    "    \n",
    "    plt.plot(t,y)\n",
    "    plt.plot(xi,yi, 'o')\n",
    "    #plt.xlabel('Xi')\n",
    "    #plt.ylabel('Yi')\n",
    "    plt.axis([0,8,0,7])\n",
    "    plt.grid()\n",
    "    plt.show()\n",
    "grafica()"
   ]
  },
  {
   "cell_type": "code",
   "execution_count": null,
   "metadata": {
    "collapsed": true
   },
   "outputs": [],
   "source": []
  }
 ],
 "metadata": {
  "kernelspec": {
   "display_name": "Python 2",
   "language": "python",
   "name": "python2"
  },
  "language_info": {
   "codemirror_mode": {
    "name": "ipython",
    "version": 2
   },
   "file_extension": ".py",
   "mimetype": "text/x-python",
   "name": "python",
   "nbconvert_exporter": "python",
   "pygments_lexer": "ipython2",
   "version": "2.7.11"
  }
 },
 "nbformat": 4,
 "nbformat_minor": 0
}
