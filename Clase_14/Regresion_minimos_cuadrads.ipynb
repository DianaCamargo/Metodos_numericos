{
 "cells": [
  {
   "cell_type": "code",
   "execution_count": 9,
   "metadata": {
    "collapsed": false
   },
   "outputs": [
    {
     "name": "stdout",
     "output_type": "stream",
     "text": [
      "a0 0.785 a1 0.425\n"
     ]
    },
    {
     "data": {
      "image/png": "[encoded data removed]",
      "text/plain": [
       "<matplotlib.figure.Figure at 0x763cd68>"
      ]
     },
     "metadata": {},
     "output_type": "display_data"
    }
   ],
   "source": [
    "import matplotlib.pyplot as plt\n",
    "%matplotlib inline\n",
    "\n",
    "def grafica():\n",
    "    \n",
    "    #xi=[1,2,3,4,5,6,7]\n",
    "    xi=[1,2,3,4,5] \n",
    "    #yi=[0.5,2.5,2.0,4.0,3.5,6.0,5.5]\n",
    "    yi=[1,2,1.30,3.75,2.25]\n",
    "    n,y,t,sumax,sumay,mult,sumCuadrado=len(xi),[],[],0.0,0.0,0.0,0.0\n",
    "    for i in range (n):\n",
    "        sumax += xi[i]\n",
    "        sumay += yi[i]\n",
    "        mult += xi[i]*yi[i]\n",
    "        sumCuadrado += xi[i]**2\n",
    "    a1 = (n*mult-(sumax*sumay))/(n*sumCuadrado-sumax**2)\n",
    "    xmedia = sumax/n\n",
    "    ymedia = sumay/n\n",
    "    a0 = ymedia-a1*xmedia\n",
    "    for j in range(n+1):\n",
    "        y.append(a0+a1*j)\n",
    "        t.append(j)\n",
    "    print \"a0\",a0,\"a1\",a1\n",
    "    plt.plot(t,y)\n",
    "    plt.plot(xi,yi, 'o')\n",
    "    #plt.xlabel('Xi')\n",
    "    #plt.ylabel('Yi')\n",
    "    plt.axis([0,8,0,7])\n",
    "    plt.grid()\n",
    "    plt.show()\n",
    "grafica()"
   ]
  },
  {
   "cell_type": "code",
   "execution_count": 17,
   "metadata": {
    "collapsed": false
   },
   "outputs": [
    {
     "name": "stdout",
     "output_type": "stream",
     "text": [
      "a0= 0.785 \n",
      "a1= 0.425\n",
      "f( 6 )= 3.335\n"
     ]
    },
    {
     "data": {
      "image/png": "[encoded data removed]",
      "text/plain": [
       "<matplotlib.figure.Figure at 0x733e358>"
      ]
     },
     "metadata": {},
     "output_type": "display_data"
    }
   ],
   "source": [
    "import matplotlib.pyplot as plt\n",
    "%matplotlib inline\n",
    "\n",
    "def grafica():\n",
    "    xx=6 #porque se va a calcular f(6)\n",
    "    #xi=[1,2,3,4,5,6,7]\n",
    "    xi=[1,2,3,4,5] \n",
    "    #yi=[0.5,2.5,2.0,4.0,3.5,6.0,5.5]\n",
    "    yi=[1,2,1.30,3.75,2.25]\n",
    "    n,y,t,sumax,sumay,mult,sumCuadrado=len(xi),[],[],0.0,0.0,0.0,0.0\n",
    "    for i in range (n):\n",
    "        sumax += xi[i]\n",
    "        sumay += yi[i]\n",
    "        mult += xi[i]*yi[i]\n",
    "        sumCuadrado += xi[i]**2\n",
    "    a1 = (n*mult-(sumax*sumay))/(n*sumCuadrado-sumax**2)\n",
    "    xmedia = sumax/n\n",
    "    ymedia = sumay/n\n",
    "    a0 = ymedia-a1*xmedia\n",
    "    for j in range(n+1):\n",
    "        y.append(a0+a1*j)\n",
    "        t.append(j)\n",
    "    print \"a0=\",a0,\"\\na1=\",a1\n",
    "    fxx=a0+a1*xx\n",
    "    print \"f(\",xx,\")=\",fxx\n",
    "    plt.plot(t,y)\n",
    "    plt.plot(xi,yi, 'o')\n",
    "    #plt.xlabel('Xi')\n",
    "    #plt.ylabel('Yi')\n",
    "    plt.axis([0,8,0,7])\n",
    "    plt.show()\n",
    "grafica()"
   ]
  },
  {
   "cell_type": "code",
   "execution_count": null,
   "metadata": {
    "collapsed": true
   },
   "outputs": [],
   "source": []
  }
 ],
 "metadata": {
  "kernelspec": {
   "display_name": "Python 2",
   "language": "python",
   "name": "python2"
  },
  "language_info": {
   "codemirror_mode": {
    "name": "ipython",
    "version": 2
   },
   "file_extension": ".py",
   "mimetype": "text/x-python",
   "name": "python",
   "nbconvert_exporter": "python",
   "pygments_lexer": "ipython2",
   "version": "2.7.11"
  }
 },
 "nbformat": 4,
 "nbformat_minor": 0
}
