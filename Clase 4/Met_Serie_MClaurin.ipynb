{
 "cells": [
  {
   "cell_type": "code",
   "execution_count": 169,
   "metadata": {
    "collapsed": false
   },
   "outputs": [
    {
     "name": "stdout",
     "output_type": "stream",
     "text": [
      "######METODO NUMERICO SERIE MCLAURIN#####\n",
      " Diana Camargo\n",
      "f(x)=e^x\n",
      "Error Tolerado= 0.05\n",
      "ERPV=Error Relativo Porcentual Verdadero\n",
      "ERPA=Error Relativo Porcentual Aproximado\n",
      "________________________________________________________\n",
      "|Iteraccion | e**x aprox   |    ERPV    |    ERPA     |\n",
      "_______________________________________________________\n",
      "|    1      |    1.500000  |  9.914751  |   0.333333  |\n",
      "_______________________________________________________\n",
      "|    2      |    1.625000  |  1.459771  |   0.076923  |\n",
      "_______________________________________________________\n",
      "|    3      |    1.645833  |  0.175470  |   0.012658  |\n",
      "\n",
      "Valor Aproximado=  1.64583333333\n"
     ]
    }
   ],
   "source": [
    "import matplotlib.pyplot as plt\n",
    "import math as mt\n",
    "import numpy\n",
    "n=3\n",
    "es=0.5*(10**(2-n))\n",
    "print '######METODO NUMERICO SERIE MCLAURIN#####\\n Diana Camargo'\n",
    "print 'f(x)=e^x'\n",
    "print 'Error Tolerado=', es\n",
    "print 'ERPV=Error Relativo Porcentual Verdadero'\n",
    "print 'ERPA=Error Relativo Porcentual Aproximado'\n",
    "print (\"________________________________________________________\")\n",
    "print \"|%-5s | %-9s  | %-9s  | %-10s  |\" %('Iteraccion','e**x aprox ','   ERPV','   ERPA')\n",
    "\n",
    "x=0.5\n",
    "resu=0.0\n",
    "nresu=1.0\n",
    "vver=0.0\n",
    "vver=mt.e**(x)\n",
    "i=1\n",
    "erpa=0.0\n",
    "y=[]\n",
    "u=[]\n",
    "ever=[]\n",
    "ea=[]\n",
    "while True:\n",
    "    vresu=nresu\n",
    "    resu=(x**(i))/mt.factorial(i)\n",
    "    nresu= resu+nresu\n",
    "    ev=vver-nresu\n",
    "    erpv=(ev*100)/nresu\n",
    "    erpa=(nresu-vresu)/nresu\n",
    "    print (\"_______________________________________________________\")\n",
    "    print\"|    %-6d |    %-9f |  %-9f |   %-10f|\" %(i,nresu,erpv,erpa)\n",
    "    y.append(nresu)\n",
    "    u.append(i)\n",
    "    ever.append(erpv)\n",
    "    ea.append(erpa)\n",
    "    i=i+1 \n",
    "    \n",
    "    if (erpa<es):\n",
    "        break \n",
    "plt.plot(u,y,'r-', label='e^x=')\n",
    "plt.plot(u,ever,'b--', label='error verd')\n",
    "plt.plot(u,ea,'g--', label='error aprox')\n",
    "plt.title(\"SERIE MCLAURIN\")\n",
    "plt.xlabel(\"x\")\n",
    "plt.xlim(0.9, 3)\n",
    "plt.ylabel(\"f(x)\")\n",
    "plt.ylim(0, 2)\n",
    "plt.legend(loc=6)\n",
    "plt.show()\n",
    "print '\\nValor Aproximado= ',nresu      "
   ]
  },
  {
   "cell_type": "code",
   "execution_count": null,
   "metadata": {
    "collapsed": true
   },
   "outputs": [],
   "source": []
  }
 ],
 "metadata": {
  "kernelspec": {
   "display_name": "Python 2",
   "language": "python",
   "name": "python2"
  },
  "language_info": {
   "codemirror_mode": {
    "name": "ipython",
    "version": 2
   },
   "file_extension": ".py",
   "mimetype": "text/x-python",
   "name": "python",
   "nbconvert_exporter": "python",
   "pygments_lexer": "ipython2",
   "version": "2.7.11"
  }
 },
 "nbformat": 4,
 "nbformat_minor": 0
}
