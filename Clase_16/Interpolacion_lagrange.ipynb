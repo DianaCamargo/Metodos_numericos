{
 "cells": [
  {
   "cell_type": "code",
   "execution_count": 62,
   "metadata": {
    "collapsed": false
   },
   "outputs": [
    {
     "name": "stdout",
     "output_type": "stream",
     "text": [
      "Ingrese el grado del polinomio: 2\n",
      "Resultado con interpolacion lagrange para\n",
      "polinomio 1er y 2do grado: 0.565844 y  0.462098 respectivamente\n"
     ]
    },
    {
     "data": {
      "image/png": "[encoded data removed]",
      "text/plain": [
       "<matplotlib.figure.Figure at 0x77edbe0>"
      ]
     },
     "metadata": {},
     "output_type": "display_data"
    }
   ],
   "source": [
    "import numpy as np\n",
    "import matplotlib.pyplot as plt\n",
    "%matplotlib inline \n",
    "n=int(input(\"Ingrese el grado del polinomio: \"))+1\n",
    "X=2\n",
    "x=[1,4,6]\n",
    "y=[0,1.386294,1.791760]\n",
    "def lagrange(x,y,n,X):\n",
    "    suma=0\n",
    "    for i in range(n):\n",
    "        producto=y[i]\n",
    "        for j in range (n):\n",
    "            if (i!=j):\n",
    "                producto=producto*(X-x[j])/(x[i]-x[j])\n",
    "        suma=suma+producto\n",
    "        #grafica(x,suma)\n",
    "    return suma\n",
    "def grafica(lagr,X):\n",
    "    plt.plot(X,lagr[1],'ko',label='1er grado')\n",
    "    plt.plot(X,lagr[2],'ro',label='2do grado')\n",
    "    plt.title(\"Polinomio Primer y segundo grado\")\n",
    "    plt.xlim(0,4)\n",
    "    plt.ylim(0.3,0.8)\n",
    "    plt.legend(loc=1)\n",
    "    plt.grid(True)\n",
    "    plt.show\n",
    "lagr=[]\n",
    "for k in range(1,n+1):\n",
    "    lagr.append(lagrange(x,y,k,X))\n",
    "print \"Resultado con interpolacion lagrange para\\npolinomio 1er y 2do grado:\",lagr[n-1], \"y \", lagr[n-2],\"respectivamente\"\n",
    "grafica(lagr,X)\n"
   ]
  },
  {
   "cell_type": "code",
   "execution_count": null,
   "metadata": {
    "collapsed": true
   },
   "outputs": [],
   "source": []
  }
 ],
 "metadata": {
  "kernelspec": {
   "display_name": "Python 2",
   "language": "python",
   "name": "python2"
  },
  "language_info": {
   "codemirror_mode": {
    "name": "ipython",
    "version": 2
   },
   "file_extension": ".py",
   "mimetype": "text/x-python",
   "name": "python",
   "nbconvert_exporter": "python",
   "pygments_lexer": "ipython2",
   "version": "2.7.11"
  }
 },
 "nbformat": 4,
 "nbformat_minor": 0
}
