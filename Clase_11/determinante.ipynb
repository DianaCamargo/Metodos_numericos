{
 "cells": [
  {
   "cell_type": "code",
   "execution_count": 7,
   "metadata": {
    "collapsed": false
   },
   "outputs": [
    {
     "name": "stdout",
     "output_type": "stream",
     "text": [
      "()\n",
      "El determinante es: 481.0\n",
      "()\n",
      "x1: 0.0\n",
      "x2: 0.0\n",
      "x3: 0.0\n"
     ]
    }
   ],
   "source": [
    "import numpy as np\n",
    "a,b = [],[0,0,0]\n",
    "\"\"\"\n",
    "def ingreso() :\n",
    "    fila=[]\n",
    "    i,j=0,0\n",
    "    while(i<3):\n",
    "        while(j<3):\n",
    "            num=float(input(\"Ingrese el valor de A%d%d: \" %(i,j)))\n",
    "            fila.append(num)\n",
    "            j+=1\n",
    "        j=0\n",
    "        a.append(fila)\n",
    "        fila = []\n",
    "        rep=float(input(\"Ingrese el valor de B%d%d: \" %(i,j)))\n",
    "        b.append(rep)\n",
    "        i+=1\n",
    "\n",
    "ingreso() \"\"\"\n",
    "a=np.array([[4, 5, 6,0], [11.0, 0, 3,0], [7, 9, 2,0]])\n",
    "det=(((a[0][0])*((a[1][1])*(a[2][2])-(a[1][2])*(a[2][1])))-((a[0][1])*((a[1][0])*(a[2][2])-(a[1][2])*(a[2][0])))+\n",
    "       ((a[0][2])*((a[1][0])*(a[2][1])-(a[1][1])*(a[2][0]))))\n",
    "print ()\n",
    "print (\"El determinante es: \"+str(det))\n",
    "det1=(((b[0])*((a[1][1])*(a[2][2])-(a[1][2])*(a[2][1])))-((a[0][1])*((b[1])*(a[2][2])-(a[1][2])*(b[2])))+((a[0][2])*\n",
    "        ((b[1])*(a[2][1])-(a[1][1])*(b[2]))))\n",
    "print ()\n",
    "x1=(det1/det)\n",
    "print (\"x1: \"+str(x1))\n",
    "det2=(((a[0][0])*((b[1])*(a[2][2])-(a[1][2])*(b[2])))-((b[0])*((a[1][0])*(a[2][2])-(a[1][2])*(a[2][0])))+((a[0][2])*\n",
    "        ((a[1][0])*(b[2])-(b[1])*(a[2][0]))))\n",
    "x2=(det2/det)\n",
    "print (\"x2: \"+str(x2))\n",
    "det3=(((a[0][0])*((a[1][1])*(b[2])-(b[1])*(a[2][1])))-((a[0][1])*((a[1][0])*(b[2])-(b[1])*(a[2][0])))+((b[0])*\n",
    "        ((a[1][0])*(a[2][1])-(a[1][1])*(a[2][0]))))\n",
    "x3=(det3/det)\n",
    "print (\"x3: \"+str(x3))"
   ]
  },
  {
   "cell_type": "code",
   "execution_count": null,
   "metadata": {
    "collapsed": true
   },
   "outputs": [],
   "source": []
  }
 ],
 "metadata": {
  "kernelspec": {
   "display_name": "Python 2",
   "language": "python",
   "name": "python2"
  },
  "language_info": {
   "codemirror_mode": {
    "name": "ipython",
    "version": 2
   },
   "file_extension": ".py",
   "mimetype": "text/x-python",
   "name": "python",
   "nbconvert_exporter": "python",
   "pygments_lexer": "ipython2",
   "version": "2.7.11"
  }
 },
 "nbformat": 4,
 "nbformat_minor": 0
}
