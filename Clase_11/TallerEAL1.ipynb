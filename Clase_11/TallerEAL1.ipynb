{
 "cells": [
  {
   "cell_type": "markdown",
   "metadata": {},
   "source": [
    "# 1. Implementar los dos pasos de eliminacion de gaus simple (Eliminacion hacia adelante y sustitucion hacia atras)"
   ]
  },
  {
   "cell_type": "markdown",
   "metadata": {},
   "source": [
    "# a) Eliminacion hacia adelante (Cualquier tamaño)"
   ]
  },
  {
   "cell_type": "code",
   "execution_count": 1,
   "metadata": {
    "collapsed": false
   },
   "outputs": [
    {
     "name": "stdout",
     "output_type": "stream",
     "text": [
      "Para este método el num de incognitas debe ser igual al numero de acuaciones.\n",
      "Digite el numero de ecuaciones:  3\n",
      "\n",
      "Ingrese en orden las constantes de las ecuaciones...\n",
      "Ecuacion 1:\n",
      "3\n",
      "-0.1\n",
      "-0.2\n",
      "7.85\n",
      "[[3.0 -0.1 -0.2 7.85]] \n",
      "\n",
      "Ecuacion 2:\n",
      "0.1\n",
      "7\n",
      "-0.3\n",
      "-19.3\n",
      "[[0.1 7.0 -0.3 -19.3]] \n",
      "\n",
      "Ecuacion 3:\n",
      "0.3\n",
      "-0.2\n",
      "10\n",
      "71.4\n",
      "[[0.3 -0.2 10.0 71.4]] \n",
      "\n",
      "\n",
      "La matriz triangular resultante es:\n",
      "\n",
      "[[3.0 -0.1 -0.2 7.85]]\n",
      "[[0.0 7.0033 -0.2933 -19.5617]]\n",
      "[[0.0 0.0 10.012 70.0843]]\n"
     ]
    }
   ],
   "source": [
    "import math as mt\n",
    "import numpy as np\n",
    "print \"Para este método el num de incognitas debe ser igual al numero de acuaciones.\"\n",
    "tam=int(input(\"Digite el numero de ecuaciones:  \"))\n",
    "tam2=tam+1\n",
    "matriz = np.array([[None] * (tam2) for i in range(tam)])\n",
    "print \"\\nIngrese en orden las constantes de las ecuaciones...\"\n",
    "for e in range (tam):\n",
    "    print \"Ecuacion \"+repr(e+1)+\":\"\n",
    "    for f in range (tam2):\n",
    "        a=float(input())\n",
    "        matriz[e][f]=a\n",
    "    print matriz[[e][0]:[e+1][0]],\"\\n\"\n",
    "#Eliminacion hacia adelante\n",
    "for k in range (tam-1):\n",
    "    for i in range (k+1,tam):\n",
    "        factor=matriz[i][k]/matriz[k][k]\n",
    "        for j in range (k,tam2):\n",
    "            matriz[i][j]=(matriz[i][j]-(factor*matriz[k][j]))\n",
    "print \"\\nLa matriz triangular resultante es:\\n\"\n",
    "#print matriz\n",
    "for e in range (tam):\n",
    "    print (matriz[[e][0]:[e+1][0]])"
   ]
  },
  {
   "cell_type": "markdown",
   "metadata": {},
   "source": [
    "\n",
    "# b) Sustitucion hacia atrás"
   ]
  },
  {
   "cell_type": "code",
   "execution_count": 2,
   "metadata": {
    "collapsed": false
   },
   "outputs": [
    {
     "name": "stdout",
     "output_type": "stream",
     "text": [
      "\n",
      "X1= 3.000000376\n",
      "\n",
      "X2= -2.50004872003\n",
      "\n",
      "X3= 7.00003\n"
     ]
    }
   ],
   "source": [
    "ntam=tam-1\n",
    "xn=round(matriz[ntam][tam]/matriz[ntam][ntam],5)\n",
    "x=[]\n",
    "suma=0.0\n",
    "for k in range (tam):\n",
    "    x.append(0)\n",
    "x[ntam]=xn\n",
    "i=ntam-1\n",
    "while(i>=0):\n",
    "    suma=matriz[i][tam]\n",
    "    j=i+1\n",
    "    while(j<=ntam):\n",
    "        suma=suma -matriz[i][j]*x[j]\n",
    "        j=j+1\n",
    "    x[i]=suma/matriz[i][i]\n",
    "    i=i-1\n",
    "for g in range(ntam+1):\n",
    "    print \"\\nX\"+repr(g+1)+\"=\",x[g]"
   ]
  },
  {
   "cell_type": "markdown",
   "metadata": {},
   "source": [
    "# 2. Desarrollar los ejercicios  del 9.1 al 9.8 del chapra"
   ]
  },
  {
   "cell_type": "markdown",
   "metadata": {},
   "source": [
    "# ...9.1. Escriba de manera matricial el conjunto siguiente de ecuaciones: [50 = 5*X3+2*X2]; [10–X1=X3]; [3*X2 + 8*X1 = 20]         y halle la transpuesta         \n"
   ]
  },
  {
   "cell_type": "code",
   "execution_count": 3,
   "metadata": {
    "collapsed": false
   },
   "outputs": [
    {
     "name": "stdout",
     "output_type": "stream",
     "text": [
      "3\n",
      "Matriz de coeficientes=\n",
      "[[ 0  2  5 50]\n",
      " [ 1  0  1 10]\n",
      " [ 8  3  0 20]]\n",
      "\n",
      "Transpuesta=\n",
      "[[  0.   1.   8.]\n",
      " [  2.   0.   3.]\n",
      " [  5.   1.   0.]\n",
      " [ 50.  10.  20.]]\n"
     ]
    }
   ],
   "source": [
    "m=np.array([[0,2,5,50],[1,0,1,10],[8,3,0,20]])\n",
    "tam=len(m)\n",
    "print tam\n",
    "m2=np.zeros((4, 3))  # Matriz de ceros\n",
    "#matriz = np.array([[None] * (4) for i in range(4)])\n",
    "print \"Matriz de coeficientes=\\n\",m\n",
    "for i in range(tam):\n",
    "    for j in range(tam+1):\n",
    "        m2[j][i] = m[i][j]\n",
    "print \"\\nTranspuesta=\\n\",m2\n",
    "#Tambien puedo usar:\n",
    "#print np.transpose(m)"
   ]
  },
  {
   "cell_type": "markdown",
   "metadata": {},
   "source": [
    "# 9.2. segun las matrices definidas (A, B, C ,D, E, F, G):"
   ]
  },
  {
   "cell_type": "code",
   "execution_count": 4,
   "metadata": {
    "collapsed": false
   },
   "outputs": [
    {
     "name": "stdout",
     "output_type": "stream",
     "text": [
      "A:\n",
      "[[4 7]\n",
      " [1 2]\n",
      " [5 6]] \n",
      "B:\n",
      "[[4 2 7]\n",
      " [1 2 7]\n",
      " [1 0 4]] \n",
      "C:\n",
      "[[3]\n",
      " [6]\n",
      " [1]] \n",
      "D:\n",
      "[[ 9  4  3 -6]\n",
      " [ 2 -1  7  5]] \n",
      "E:\n",
      "[[1 5 8]\n",
      " [7 2 3]\n",
      " [4 0 6]] \n",
      "F:\n",
      "[[3 0 1]\n",
      " [1 7 3]] \n",
      "G:\n",
      "[[7 6 4]]\n"
     ]
    }
   ],
   "source": [
    "A=np.array([[4,7],[1,2],[5,6]])\n",
    "B=np.array([[4,2,7],[1,2,7],[1,0,4]])\n",
    "C=np.array([[3],[6],[1]])\n",
    "D=np.array([[9,4,3,-6],[2,-1,7,5]])\n",
    "E=np.array([[1,5,8],[7,2,3],[4,0,6]])\n",
    "F=np.array([[3,0,1],[1,7,3]])\n",
    "G=np.array([[7,6,4]])\n",
    "print \"A:\\n\",A,\"\\nB:\\n\",B,\"\\nC:\\n\",C,\"\\nD:\\n\",D,\"\\nE:\\n\",E,\"\\nF:\\n\",F,\"\\nG:\\n\",G\n",
    "#print np.shape(D)"
   ]
  },
  {
   "cell_type": "markdown",
   "metadata": {},
   "source": [
    "# a)¿Cuales son las dimensiones de las matrices? "
   ]
  },
  {
   "cell_type": "markdown",
   "metadata": {},
   "source": [
    "# rta: respectivamente son: 3x2 , 3x3 , 3x1 , 2x4 , 3x3, 2x3, 1x3"
   ]
  },
  {
   "cell_type": "markdown",
   "metadata": {},
   "source": [
    "# b)Identifique las matrices cuadrada, columna y renglón"
   ]
  },
  {
   "cell_type": "markdown",
   "metadata": {},
   "source": [
    "# rta: cuadrada: B,E ... Columna=C ... Renglón= G"
   ]
  },
  {
   "cell_type": "markdown",
   "metadata": {},
   "source": [
    "# c)¿Cuales son los valores de los elementos a12, b23, d32, e22, f12 y g12?"
   ]
  },
  {
   "cell_type": "markdown",
   "metadata": {},
   "source": [
    "# rta: a12=7 ; b23=7 ; d32=no existe ; e22=2  ; f12=0  ; g12=6  ."
   ]
  },
  {
   "cell_type": "code",
   "execution_count": 5,
   "metadata": {
    "collapsed": false
   },
   "outputs": [
    {
     "name": "stdout",
     "output_type": "stream",
     "text": [
      "Fila= 0\n",
      "col= 1\n",
      "6\n"
     ]
    }
   ],
   "source": [
    "f=int(input(\"Fila= \"))\n",
    "c=int(input(\"col= \"))\n",
    "print G[f][c]"
   ]
  },
  {
   "cell_type": "markdown",
   "metadata": {},
   "source": [
    "# d) Ejecute las siguientes operaciones: "
   ]
  },
  {
   "cell_type": "markdown",
   "metadata": {},
   "source": [
    "# ...... 1) [E] + [B]"
   ]
  },
  {
   "cell_type": "code",
   "execution_count": 6,
   "metadata": {
    "collapsed": false
   },
   "outputs": [
    {
     "name": "stdout",
     "output_type": "stream",
     "text": [
      "[[ 5  7 15]\n",
      " [ 8  4 10]\n",
      " [ 5  0 10]]\n"
     ]
    }
   ],
   "source": [
    "#Se suma punto a punto\n",
    "SumaEB=E+B\n",
    "print SumaEB "
   ]
  },
  {
   "cell_type": "markdown",
   "metadata": {},
   "source": [
    "# .....2) [A] + [F]  "
   ]
  },
  {
   "cell_type": "code",
   "execution_count": 7,
   "metadata": {
    "collapsed": false
   },
   "outputs": [
    {
     "name": "stdout",
     "output_type": "stream",
     "text": [
      "[3L, 2L] [2L, 3L]\n",
      "[[ 7  7  2]\n",
      " [ 3 12  9]\n",
      " [ 7  7  2]]\n"
     ]
    }
   ],
   "source": [
    "import cv2\n",
    "x,y=A.shape\n",
    "xx,yy=F.shape\n",
    "f=[x,xx]\n",
    "c=[y,yy]\n",
    "print f,c\n",
    "RA=np.resize(A,(max(c),max(f)))\n",
    "RF=np.resize(F,(max(c),max(f)))\n",
    "SumaAF=RA+RF\n",
    "print SumaAF"
   ]
  },
  {
   "cell_type": "markdown",
   "metadata": {},
   "source": [
    "# Rta: No se pueden sumar matrices de dimensiones diferentes"
   ]
  },
  {
   "cell_type": "markdown",
   "metadata": {},
   "source": [
    "# .....3) [B] – [E] "
   ]
  },
  {
   "cell_type": "code",
   "execution_count": 8,
   "metadata": {
    "collapsed": false
   },
   "outputs": [
    {
     "name": "stdout",
     "output_type": "stream",
     "text": [
      "[[ 3 -3 -1]\n",
      " [-6  0  4]\n",
      " [-3  0 -2]]\n"
     ]
    }
   ],
   "source": [
    "RestaBE=B-E\n",
    "print RestaBE "
   ]
  },
  {
   "cell_type": "markdown",
   "metadata": {},
   "source": [
    "# .....4) 7 × [B] \n"
   ]
  },
  {
   "cell_type": "code",
   "execution_count": 9,
   "metadata": {
    "collapsed": false
   },
   "outputs": [
    {
     "name": "stdout",
     "output_type": "stream",
     "text": [
      "[[28 14 49]\n",
      " [ 7 14 49]\n",
      " [ 7  0 28]]\n"
     ]
    }
   ],
   "source": [
    "Mul7B=7*B\n",
    "print Mul7B "
   ]
  },
  {
   "cell_type": "markdown",
   "metadata": {},
   "source": [
    "# .....5) [E] × [B] "
   ]
  },
  {
   "cell_type": "code",
   "execution_count": 10,
   "metadata": {
    "collapsed": false
   },
   "outputs": [
    {
     "name": "stdout",
     "output_type": "stream",
     "text": [
      "Producto punto E*B:\n",
      "[[ 4 10 56]\n",
      " [ 7  4 21]\n",
      " [ 4  0 24]]\n",
      "\n",
      "Producto Matricial:\n",
      "[[17 12 74]\n",
      " [33 18 75]\n",
      " [22  8 52]]\n"
     ]
    }
   ],
   "source": [
    "MulEB=E*B\n",
    "g=np.dot(E,B)\n",
    "print \"Producto punto E*B:\\n\",MulEB \n",
    "print \"\\nProducto Matricial:\\n\",g"
   ]
  },
  {
   "cell_type": "markdown",
   "metadata": {},
   "source": [
    "# ..... 6) {C}T "
   ]
  },
  {
   "cell_type": "code",
   "execution_count": 11,
   "metadata": {
    "collapsed": false
   },
   "outputs": [
    {
     "name": "stdout",
     "output_type": "stream",
     "text": [
      "Transpuesta de C:\n",
      "[[3 6 1]]\n"
     ]
    }
   ],
   "source": [
    "print \"Transpuesta de C:\\n\",np.transpose(C)"
   ]
  },
  {
   "cell_type": "markdown",
   "metadata": {},
   "source": [
    "# ....7) [B] × [A] "
   ]
  },
  {
   "cell_type": "code",
   "execution_count": 12,
   "metadata": {
    "collapsed": false
   },
   "outputs": [
    {
     "name": "stdout",
     "output_type": "stream",
     "text": [
      "[[53 74]\n",
      " [41 53]\n",
      " [24 31]]\n"
     ]
    }
   ],
   "source": [
    "print np.dot(B,A)"
   ]
  },
  {
   "cell_type": "markdown",
   "metadata": {},
   "source": [
    "# ....8) [D]T "
   ]
  },
  {
   "cell_type": "code",
   "execution_count": 13,
   "metadata": {
    "collapsed": false
   },
   "outputs": [
    {
     "name": "stdout",
     "output_type": "stream",
     "text": [
      "[[ 9  2]\n",
      " [ 4 -1]\n",
      " [ 3  7]\n",
      " [-6  5]]\n"
     ]
    }
   ],
   "source": [
    "print np.transpose(D)"
   ]
  },
  {
   "cell_type": "markdown",
   "metadata": {},
   "source": [
    "# ....9) [A] × {C} "
   ]
  },
  {
   "cell_type": "code",
   "execution_count": 14,
   "metadata": {
    "collapsed": false
   },
   "outputs": [
    {
     "name": "stdout",
     "output_type": "stream",
     "text": [
      "[[4 7]\n",
      " [1 2]\n",
      " [5 6]] hhh\n",
      "[[3 6 1]]\n"
     ]
    },
    {
     "ename": "ValueError",
     "evalue": "shapes (3,2) and (1,3) not aligned: 2 (dim 1) != 1 (dim 0)",
     "output_type": "error",
     "traceback": [
      "\u001b[1;31m---------------------------------------------------------------------------\u001b[0m",
      "\u001b[1;31mValueError\u001b[0m                                Traceback (most recent call last)",
      "\u001b[1;32m<ipython-input-14-8b967c43d8d4>\u001b[0m in \u001b[0;36m<module>\u001b[1;34m()\u001b[0m\n\u001b[0;32m      2\u001b[0m \u001b[1;32mprint\u001b[0m \u001b[0mA\u001b[0m\u001b[1;33m,\u001b[0m\u001b[1;34m\"hhh\"\u001b[0m\u001b[1;33m\u001b[0m\u001b[0m\n\u001b[0;32m      3\u001b[0m \u001b[1;32mprint\u001b[0m \u001b[0mRC\u001b[0m\u001b[1;33m\u001b[0m\u001b[0m\n\u001b[1;32m----> 4\u001b[1;33m \u001b[1;32mprint\u001b[0m \u001b[0mnp\u001b[0m\u001b[1;33m.\u001b[0m\u001b[0mdot\u001b[0m\u001b[1;33m(\u001b[0m\u001b[0mA\u001b[0m\u001b[1;33m,\u001b[0m\u001b[0mRC\u001b[0m\u001b[1;33m)\u001b[0m\u001b[1;33m\u001b[0m\u001b[0m\n\u001b[0m",
      "\u001b[1;31mValueError\u001b[0m: shapes (3,2) and (1,3) not aligned: 2 (dim 1) != 1 (dim 0)"
     ]
    }
   ],
   "source": [
    "RC=np.transpose(C) #{c} tupla? \n",
    "print A,\"hhh\"\n",
    "print RC\n",
    "print np.dot(A,RC)"
   ]
  },
  {
   "cell_type": "markdown",
   "metadata": {},
   "source": [
    "# rta: no se puede pues el numero de columnas de [A] no es igual al numero de filas de {C}"
   ]
  },
  {
   "cell_type": "markdown",
   "metadata": {},
   "source": [
    "# ....10) [I] × [B] "
   ]
  },
  {
   "cell_type": "markdown",
   "metadata": {},
   "source": [
    "# rta: [I] inversa(?)"
   ]
  },
  {
   "cell_type": "markdown",
   "metadata": {},
   "source": [
    "# ....11) [E]T [E]"
   ]
  },
  {
   "cell_type": "code",
   "execution_count": null,
   "metadata": {
    "collapsed": false
   },
   "outputs": [],
   "source": [
    "TE=np.transpose(E)\n",
    "print np.dot(TE,E)"
   ]
  },
  {
   "cell_type": "markdown",
   "metadata": {},
   "source": [
    "# ....12) {C}T {C}"
   ]
  },
  {
   "cell_type": "code",
   "execution_count": null,
   "metadata": {
    "collapsed": false
   },
   "outputs": [],
   "source": [
    "TC=np.transpose(C) #(?) Producto punto o matricial?\n",
    "print np.dot(C,TC)"
   ]
  },
  {
   "cell_type": "markdown",
   "metadata": {},
   "source": [
    "# 9.3.  Se definen tres matrices como sigue"
   ]
  },
  {
   "cell_type": "code",
   "execution_count": null,
   "metadata": {
    "collapsed": false,
    "scrolled": true
   },
   "outputs": [],
   "source": [
    "A=np.array([[1,6],[3,10],[7,4]])\n",
    "B=np.array([[1,3],[0.5,2]])\n",
    "C=np.array([[2,-2],[-3,1]])\n",
    "print \"A:\\n\",A,\"\\nB:\\n\",B,\"\\nC:\\n\",C"
   ]
  },
  {
   "cell_type": "markdown",
   "metadata": {},
   "source": [
    "# a),b)y c) Ejecute todas las multiplicaciones que sea posible calcular entre parejas de las matrices, explique porqué no se pueden multiplicar entre las demas parejas y porqué es importante el orden de la multiplicacion"
   ]
  },
  {
   "cell_type": "code",
   "execution_count": null,
   "metadata": {
    "collapsed": false
   },
   "outputs": [],
   "source": [
    "AB=np.dot(A,B)\n",
    "AC=np.dot(A,C)\n",
    "BC=np.dot(B,C)\n",
    "CB=np.dot(C,B)\n",
    "print \"A*B:\\n\",AB,\"\\nA*C:\\n\",AC,\"\\nB*C:\\n\",BC,\"\\nC*B:\\n\",CB"
   ]
  },
  {
   "cell_type": "markdown",
   "metadata": {},
   "source": [
    "# Rta: No se puede multiplicar entre las demás parejas porque el numero de columnas de la primera matriz  multiplicar no es igual al numero de filas de la segunda; y es importante el orden como podemos ver B*C no es igual a C*B; pues para multiplicar dos matrices es necesario tomar el renglon de la primera y multiplicarlo punto a punto con la columna de la segunda,  luego sumar estos valores para obtener el primer valor de la matriz resultante; la multiplicacion matricial así no cumpliría la propiedad de conmutacion."
   ]
  },
  {
   "cell_type": "markdown",
   "metadata": {},
   "source": [
    "# 9.4 Use el método gráfico para resolver el sistema siguiente:  [4x1 – 8x2 = –24]; [x1 + 6x2 = 34] y Compruebe el resultado por medio de sustituirlo en las ecuaciones."
   ]
  },
  {
   "cell_type": "code",
   "execution_count": null,
   "metadata": {
    "collapsed": false
   },
   "outputs": [],
   "source": [
    "matriz=np.array([[4.0,-8.0,-24.0],[1,6.0,34.0]]) #POner punto float\n",
    "#Sustitucion dos ecuaciones con dos incognitas\n",
    "#x2=(matriz[0][2]-matriz[0][0])/matriz[0][1]\n",
    "x1=(matriz[1][2]-(matriz[1][1]*(matriz[0][2]/matriz[0][1])))/(matriz[1][0]-(matriz[1][1]*(matriz[0][0]/matriz[0][1])))\n",
    "x2=(matriz[0][2]-(matriz[0][0]*x1))/matriz[0][1]\n",
    "print \"x1:\",x1, \"\\nx2:\",x2"
   ]
  },
  {
   "cell_type": "markdown",
   "metadata": {},
   "source": [
    "# 9.5 Dado el sistema de ecuaciones siguiente [–1.1x1 + 10x2 = 120]; [–2x1 + 17.4x2 = 174]\n"
   ]
  },
  {
   "cell_type": "markdown",
   "metadata": {},
   "source": [
    "# a)  Resuélvalo gráficamente y compruebe el resultado con la sustitución en las ecuaciones. "
   ]
  },
  {
   "cell_type": "code",
   "execution_count": 25,
   "metadata": {
    "collapsed": false
   },
   "outputs": [
    {
     "name": "stdout",
     "output_type": "stream",
     "text": [
      "x1: 404.651162791 \n",
      "x2: 56.511627907\n"
     ]
    }
   ],
   "source": [
    "#Sustitucion dos ecuaciones con dos incognitas\n",
    "matriz=np.array([[-1.1,10,120],[-2,17.4,174]])\n",
    "#x2=(matriz[0][2]-matriz[0][0])/matriz[0][1]\n",
    "x1=(matriz[1][2]-(matriz[1][1]*(matriz[0][2]/matriz[0][1])))/(matriz[1][0]-(matriz[1][1]*(matriz[0][0]/matriz[0][1])))\n",
    "x2=(matriz[0][2]-(matriz[0][0]*x1))/matriz[0][1]\n",
    "print \"x1:\",x1, \"\\nx2:\",x2"
   ]
  },
  {
   "cell_type": "markdown",
   "metadata": {},
   "source": [
    "# b)  Calcule el determinante. "
   ]
  },
  {
   "cell_type": "code",
   "execution_count": 21,
   "metadata": {
    "collapsed": false
   },
   "outputs": [
    {
     "name": "stdout",
     "output_type": "stream",
     "text": [
      "Determinante: 0.86\n"
     ]
    }
   ],
   "source": [
    "\"\"\"print \"Este ejercicio es para tres ecuaciones\\n\"\n",
    "tam=3\n",
    "tam2=tam+1\n",
    "a = np.array([[None] * (tam2) for i in range(tam)])\n",
    "print \"Ingrese en orden las constantes de las ecuaciones...\"\n",
    "for e in range (tam):\n",
    "    print \"Ecuacion \"+repr(e+1)+\":\"\n",
    "    for f in range (tam2):\n",
    "        z=float(input())\n",
    "        a[e][f]=z\n",
    "    print a[[e][0]:[e+1][0]],\"\\n\"\n",
    "    \n",
    "#Determinante\n",
    "det=a[0][0]*((a[1][1]*a[2][2])-(a[1][2]*a[2][1]))-a[0][1]*((a[1][0]*a[2][2])-(a[1][2]*a[2][0]))+a[0][2]*((a[1][0]*a[2][1])-(a[1][1]*a[2][0]))\n",
    "\"\"\"\n",
    "a=np.array([[-1.1,10,120],[-2,17.4,174]])\n",
    "det=a[0][0]*a[1][1]-a[0][1]*a[1][0]\n",
    "print \"Determinante:\",det"
   ]
  },
  {
   "cell_type": "markdown",
   "metadata": {},
   "source": [
    "# c)  Resuelva por medio de la eliminación de incógnitas"
   ]
  },
  {
   "cell_type": "code",
   "execution_count": 24,
   "metadata": {
    "collapsed": false
   },
   "outputs": [
    {
     "name": "stdout",
     "output_type": "stream",
     "text": [
      "X1: 404.651162791 \n",
      "X2: 56.511627907\n"
     ]
    }
   ],
   "source": [
    "#Eliminacion de incognitas\n",
    "a=np.array([[-1.1,10,120],[-2,17.4,174]])\n",
    "x2=((a[0][0]*a[1][2])-(a[1][0]*a[0][2]))/((a[0][0]*a[1][1])-(a[0][1]*a[1][0]))\n",
    "x1=((a[1][1]*a[0][2])-(a[0][1]*a[1][2]))/((a[0][0]*a[1][1])-(a[0][1]*a[1][0]))\n",
    "print \"X1:\",x1,\"\\nX2:\",x2"
   ]
  },
  {
   "cell_type": "code",
   "execution_count": 43,
   "metadata": {
    "collapsed": false
   },
   "outputs": [
    {
     "name": "stdout",
     "output_type": "stream",
     "text": [
      "\n",
      "X1= 404.662909091\n",
      "\n",
      "X2= 56.51292\n"
     ]
    }
   ],
   "source": [
    "matriz=np.array([[-1.1,10,120],[-2,17.4,174]])\n",
    "tam=2\n",
    "tam2=tam+1\n",
    "for k in range (tam-1):\n",
    "    for i in range (k+1,tam):\n",
    "        factor=matriz[i][k]/matriz[k][k]\n",
    "        for j in range (k,tam2):\n",
    "            matriz[i][j]=round(matriz[i][j]-(factor*matriz[k][j]),4)\n",
    "ntam=tam-1\n",
    "xn=round(matriz[ntam][tam]/matriz[ntam][ntam],5)\n",
    "x=[]\n",
    "suma=0.0\n",
    "for k in range (tam):\n",
    "    x.append(0)\n",
    "x[ntam]=xn\n",
    "i=ntam-1\n",
    "while(i>=0):\n",
    "    suma=matriz[i][tam]\n",
    "    j=i+1\n",
    "    while(j<=ntam):\n",
    "        suma=suma -matriz[i][j]*x[j]\n",
    "        j=j+1\n",
    "    x[i]=suma/matriz[i][i]\n",
    "    i=i-1\n",
    "for g in range(ntam+1):\n",
    "    print \"\\nX\"+repr(g+1)+\"=\",x[g]"
   ]
  },
  {
   "cell_type": "markdown",
   "metadata": {},
   "source": [
    "# 9.6 Para el sistema de ecuaciones que sigue         :  [2x2 + 5x3 = 9]; [2x1 + x2 + x3 = 9], [3x1 + x2 = 10]\n",
    " "
   ]
  },
  {
   "cell_type": "markdown",
   "metadata": {},
   "source": [
    "# a)  Calcule el determinante.  "
   ]
  },
  {
   "cell_type": "code",
   "execution_count": 27,
   "metadata": {
    "collapsed": false
   },
   "outputs": [
    {
     "name": "stdout",
     "output_type": "stream",
     "text": [
      "Det: 1\n"
     ]
    }
   ],
   "source": [
    "a=np.array([[0,2,5,9],[2,1,1,9],[3,1,0,10]])\n",
    "#Determinante\n",
    "det=a[0][0]*((a[1][1]*a[2][2])-(a[1][2]*a[2][1]))-a[0][1]*((a[1][0]*a[2][2])-(a[1][2]*a[2][0]))+a[0][2]*((a[1][0]*a[2][1])-(a[1][1]*a[2][0]))\n",
    "print \"Det:\",det"
   ]
  },
  {
   "cell_type": "markdown",
   "metadata": {},
   "source": [
    "# b)  Use la regla de Cramer para encontrar cuál es el valor de las x."
   ]
  },
  {
   "cell_type": "code",
   "execution_count": 29,
   "metadata": {
    "collapsed": false
   },
   "outputs": [
    {
     "name": "stdout",
     "output_type": "stream",
     "text": [
      "X1:  6 \n",
      "x2:  -8 \n",
      "x3:  5\n"
     ]
    }
   ],
   "source": [
    "#solucion por cramer\n",
    "x1=(a[0][3]*((a[1][1]*a[2][2])-(a[1][2]*a[2][1]))-a[0][1]*((a[1][3]*a[2][2])-(a[1][2]*a[2][3]))+a[0][2]*((a[1][3]*a[2][1])-(a[1][1]*a[2][3])))/det\n",
    "x2=(a[0][0]*((a[1][3]*a[2][2])-(a[1][2]*a[2][3]))-a[0][3]*((a[1][0]*a[2][2])-(a[1][2]*a[2][0]))+a[0][2]*((a[1][0]*a[2][3])-(a[1][3]*a[2][0])))/det\n",
    "x3=(a[0][0]*((a[1][1]*a[2][3])-(a[1][3]*a[2][1]))-a[0][1]*((a[1][0]*a[2][3])-(a[1][3]*a[2][0]))+a[0][3]*((a[1][0]*a[2][1])-(a[1][1]*a[2][0])))/det\n",
    "print 'X1: ',x1, '\\nx2: ',x2, '\\nx3: ',x3"
   ]
  },
  {
   "cell_type": "markdown",
   "metadata": {},
   "source": [
    "# c)  Sustituya el resultado en las ecuaciones originales para efectos de comprobación."
   ]
  },
  {
   "cell_type": "code",
   "execution_count": 37,
   "metadata": {
    "collapsed": false
   },
   "outputs": [
    {
     "name": "stdout",
     "output_type": "stream",
     "text": [
      "Para ec1: 9 \n",
      "Para ec2: 9 \n",
      "Para ec3: 10\n"
     ]
    }
   ],
   "source": [
    "#Comprobacion \n",
    "ec1=2*x2 + 5*x3 #9\n",
    "ec2=2*x1 + x2 + x3 #9\n",
    "ec3=3*x1 + x2 #10\n",
    "print \"Para ec1:\",ec1,\"\\nPara ec2:\",ec2,\"\\nPara ec3:\",ec3"
   ]
  },
  {
   "cell_type": "markdown",
   "metadata": {},
   "source": [
    "# 9.7 Dadas las ec...  [0.5x1 – x2 = –9.5] ; [1.02x1 – 2x2 = –18.8]\n",
    " "
   ]
  },
  {
   "cell_type": "markdown",
   "metadata": {},
   "source": [
    "# a)  Calcule el determinante. "
   ]
  },
  {
   "cell_type": "code",
   "execution_count": 38,
   "metadata": {
    "collapsed": false
   },
   "outputs": [
    {
     "name": "stdout",
     "output_type": "stream",
     "text": [
      "Determinante: 0.02\n"
     ]
    }
   ],
   "source": [
    "a=np.array([[0.5,-1,-9.5],[1.02,-2,-18.8]])\n",
    "det=a[0][0]*a[1][1]-a[0][1]*a[1][0]\n",
    "print \"Determinante:\",det"
   ]
  },
  {
   "cell_type": "markdown",
   "metadata": {},
   "source": [
    "# b)  Resuelva por medio de la eliminación de incógnitas. "
   ]
  },
  {
   "cell_type": "code",
   "execution_count": 39,
   "metadata": {
    "collapsed": false
   },
   "outputs": [
    {
     "name": "stdout",
     "output_type": "stream",
     "text": [
      "X1: 10.0 \n",
      "X2: 14.5\n"
     ]
    }
   ],
   "source": [
    "a=np.array([[0.5,-1,-9.5],[1.02,-2,-18.8]])\n",
    "x2=((a[0][0]*a[1][2])-(a[1][0]*a[0][2]))/((a[0][0]*a[1][1])-(a[0][1]*a[1][0]))\n",
    "x1=((a[1][1]*a[0][2])-(a[0][1]*a[1][2]))/((a[0][0]*a[1][1])-(a[0][1]*a[1][0]))\n",
    "print \"X1:\",x1,\"\\nX2:\",x2"
   ]
  },
  {
   "cell_type": "markdown",
   "metadata": {},
   "source": [
    "# c)  Resuelva otra vez, pero modifique ligeramente el elemento a11 a 0.52. Interprete sus resultados. "
   ]
  },
  {
   "cell_type": "code",
   "execution_count": 42,
   "metadata": {
    "collapsed": false
   },
   "outputs": [
    {
     "name": "stdout",
     "output_type": "stream",
     "text": [
      "X1: -10.0 \n",
      "X2: 4.3\n"
     ]
    }
   ],
   "source": [
    "a=np.array([[0.52,-1,-9.5],[1.02,-2,-18.8]])\n",
    "x2=((a[0][0]*a[1][2])-(a[1][0]*a[0][2]))/((a[0][0]*a[1][1])-(a[0][1]*a[1][0]))\n",
    "x1=((a[1][1]*a[0][2])-(a[0][1]*a[1][2]))/((a[0][0]*a[1][1])-(a[0][1]*a[1][0]))\n",
    "print \"X1:\",x1,\"\\nX2:\",x2"
   ]
  },
  {
   "cell_type": "markdown",
   "metadata": {},
   "source": [
    "# rta: cualquier variacion en algun dato, por minima que parezca refeja una gran variacion en la solucion de un sistema de ecuaciones; podria considerarse que es un sistema mal condicionado, como la solucion se encuentra en la interseccion de las rectas, esto pasa porque las pendientes de las rectas estan muy cercanas, casi iguales (podemos ver que la determinante es casi cero, la matriz es casi singular)."
   ]
  },
  {
   "cell_type": "markdown",
   "metadata": {},
   "source": [
    "# 9.8 Dadas las ecuaciones siguientes [10x1 + 2x2 – x3 = 27]; [–3x1 – 6x2 + 2x3 = –61.5]; [x1 + x2 + 5x3 = –21.5] "
   ]
  },
  {
   "cell_type": "markdown",
   "metadata": {},
   "source": [
    "# a)  Resuelva por eliminación de Gauss simple. Efectúe todos los pasos del cálculo."
   ]
  },
  {
   "cell_type": "code",
   "execution_count": 49,
   "metadata": {
    "collapsed": false
   },
   "outputs": [
    {
     "name": "stdout",
     "output_type": "stream",
     "text": [
      "\n",
      "X1= 0.500002222222\n",
      "\n",
      "X2= 8.00001888889\n",
      "\n",
      "X3= -5.99994\n"
     ]
    }
   ],
   "source": [
    "matriz=np.array([[10,2,-1,27],[-3,-6,2,-61.5],[1,1,5,-21.5]])\n",
    "tam=3\n",
    "tam2=tam+1\n",
    "for k in range (tam-1):\n",
    "    for i in range (k+1,tam):\n",
    "        factor=matriz[i][k]/matriz[k][k]\n",
    "        for j in range (k,tam2):\n",
    "            matriz[i][j]=round(matriz[i][j]-(factor*matriz[k][j]),4)\n",
    "ntam=tam-1\n",
    "xn=round(matriz[ntam][tam]/matriz[ntam][ntam],5)\n",
    "x=[]\n",
    "suma=0.0\n",
    "for k in range (tam):\n",
    "    x.append(0)\n",
    "x[ntam]=xn\n",
    "i=ntam-1\n",
    "while(i>=0):\n",
    "    suma=matriz[i][tam]\n",
    "    j=i+1\n",
    "    while(j<=ntam):\n",
    "        suma=suma -matriz[i][j]*x[j]\n",
    "        j=j+1\n",
    "    x[i]=suma/matriz[i][i]\n",
    "    i=i-1\n",
    "for g in range(ntam+1):\n",
    "    print \"\\nX\"+repr(g+1)+\"=\",x[g]"
   ]
  },
  {
   "cell_type": "markdown",
   "metadata": {},
   "source": [
    "# b)  Sustituya los resultados en las ecuaciones originales a fin de comprobar sus respuestas."
   ]
  },
  {
   "cell_type": "code",
   "execution_count": 50,
   "metadata": {
    "collapsed": false
   },
   "outputs": [
    {
     "name": "stdout",
     "output_type": "stream",
     "text": [
      "Para ec1: 27.0 \n",
      "Para ec2: -61.5 \n",
      "Para ec3: -21.4996788889\n"
     ]
    }
   ],
   "source": [
    "ec1=10*x[0]+2*x[1]-x[2] # 27\n",
    "ec2=-3*x[0]-6*x[1]+2*x[2] # –61.5\n",
    "ec3=x[0]+x[1]+5*x[2] # –21.5\n",
    "print \"Para ec1:\",ec1,\"\\nPara ec2:\",ec2,\"\\nPara ec3:\",ec3"
   ]
  }
 ],
 "metadata": {
  "kernelspec": {
   "display_name": "Python 2",
   "language": "python",
   "name": "python2"
  },
  "language_info": {
   "codemirror_mode": {
    "name": "ipython",
    "version": 2
   },
   "file_extension": ".py",
   "mimetype": "text/x-python",
   "name": "python",
   "nbconvert_exporter": "python",
   "pygments_lexer": "ipython2",
   "version": "2.7.11"
  }
 },
 "nbformat": 4,
 "nbformat_minor": 0
}
