{
 "cells": [
  {
   "cell_type": "markdown",
   "metadata": {},
   "source": [
    "# Derivada centrada. Para f(x)=4x4−2x2+7x, ¿Cúal es el calculo de la primera derivada dado que xi−1=0, xi=0.1, xi+1=0.2?"
   ]
  },
  {
   "cell_type": "code",
   "execution_count": 1,
   "metadata": {
    "collapsed": false
   },
   "outputs": [
    {
     "name": "stdout",
     "output_type": "stream",
     "text": [
      "6.632\n"
     ]
    }
   ],
   "source": [
    "def f(x):\n",
    "    return 4*x**4 - 2*x**2 + 7*x\n",
    "\n",
    "def deriv_centrada(x,h):\n",
    "    fdev = ((f(x+h) - f(x-h))/(2*h))\n",
    "    return fdev\n",
    "\n",
    "print(deriv_centrada(0.1,0.1))"
   ]
  },
  {
   "cell_type": "markdown",
   "metadata": {},
   "source": [
    "# Dada la función f(x)=sen(3x)+x2, ¿Cúales son los valores de las aproximaciones de las derivadas hacia atras, hacia adelante y centrada para xi=0.5 y h=0.25?"
   ]
  },
  {
   "cell_type": "code",
   "execution_count": 2,
   "metadata": {
    "collapsed": false
   },
   "outputs": [
    {
     "name": "stdout",
     "output_type": "stream",
     "text": [
      "2.01342490632, 0.372312841135, 1.19286887373\n"
     ]
    }
   ],
   "source": [
    "import numpy as np\n",
    "\n",
    "def f(x):\n",
    "    return (np.sin(3*x) + x**2) \n",
    "\n",
    "def deriv_adelante(x,h):\n",
    "    fdev = (f(x+h)-f(x))/h\n",
    "    return fdev\n",
    "\n",
    "def deriv_atras(x,h):\n",
    "    fdev = (f(x)-f(x-h))/h\n",
    "    return fdev\n",
    "\n",
    "def deriv_centrada(x,h):\n",
    "    fdev = ((f(x+h) - f(x-h))/(2*h))\n",
    "    return fdev\n",
    "\n",
    "x = 0.5\n",
    "h = 0.25\n",
    "print(str(deriv_atras(x,h))+', '+str(deriv_adelante(x,h))+', '+str(deriv_centrada(x,h)))"
   ]
  },
  {
   "cell_type": "code",
   "execution_count": null,
   "metadata": {
    "collapsed": true
   },
   "outputs": [],
   "source": []
  }
 ],
 "metadata": {
  "kernelspec": {
   "display_name": "Python 2",
   "language": "python",
   "name": "python2"
  },
  "language_info": {
   "codemirror_mode": {
    "name": "ipython",
    "version": 2
   },
   "file_extension": ".py",
   "mimetype": "text/x-python",
   "name": "python",
   "nbconvert_exporter": "python",
   "pygments_lexer": "ipython2",
   "version": "2.7.11"
  }
 },
 "nbformat": 4,
 "nbformat_minor": 0
}
