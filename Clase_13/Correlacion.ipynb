{
 "cells": [
  {
   "cell_type": "code",
   "execution_count": 19,
   "metadata": {
    "collapsed": false
   },
   "outputs": [
    {
     "name": "stdout",
     "output_type": "stream",
     "text": [
      "Correlación_a_b: 0.997887933443\n",
      "Correlación_a_c: 0.99503586128\n"
     ]
    }
   ],
   "source": [
    "import math as mt\n",
    "import matplotlib.pyplot as plt\n",
    "#medida\n",
    "a=[10.00, 16.30,23.00,27.50,31.00,35.60,39.00,41.50,42.90,45.00,46.00,45.50,46.00,49.00,50.00]\n",
    "#modelo1\n",
    "b=[8.953,16.405,22.607,27.769,32.065,35.641,38.617,41.095,43.156,44.872,46.301,47.490,48.479, 49.303,49.988]\n",
    "#modelo2\n",
    "c=[11.240,18.570,23.729,27.556,30.509,32.855,34.766,36.351,37.687,38.829,39.816,40.678,41.437,42.110,42.712]\n",
    "Sumatc=0.00\n",
    "Sumatb=0.00\n",
    "Sumata=0.00\n",
    "Sumatab=0.00\n",
    "Sumatac=0.00\n",
    "Sumata2=0.00\n",
    "Sumatb2=0.00\n",
    "Sumatc2=0.00\n",
    "n=15\n",
    "u=[]\n",
    "for i in range(0,n):\n",
    "    Sumata=a[i]+Sumata\n",
    "    Sumatb=b[i]+Sumatb\n",
    "    Sumatc=c[i]+ Sumatc\n",
    "    Sumatab=(a[i]*b[i])+Sumatab\n",
    "    Sumatac=(a[i]*c[i])+Sumatac\n",
    "    Sumata2=((a[i])**2)+Sumata2\n",
    "    Sumatb2=((b[i])**2)+Sumatb2\n",
    "    Sumatc2=((c[i])**2)+Sumatc2\n",
    "    u.append(i)\n",
    "\n",
    "#print Sumata, Sumatb,Sumatc,Sumatab,Sumatac,Sumata2,Sumatb2,Sumatc2   \n",
    "#correlacion=(nsumatoria(xi.yi )- (sumat(xi))(sumat(yi)))/(raiz(nsumat(xi^2)-(sumatori(xi)^2))).(raiz(nsumator(yi^2)-(sumat(yi)^2)))\n",
    "correlacion1=(n*Sumatab-(Sumata*Sumatb))/((mt.sqrt(n*Sumata2-(Sumata**2)))*(mt.sqrt(n*Sumatb2-(Sumatb**2))))\n",
    "correlacion2=(n*Sumatac-(Sumata*Sumatc))/((mt.sqrt(n*Sumata2-(Sumata**2)))*(mt.sqrt(n*Sumatc2-(Sumatc**2))))\n",
    "print 'Correlación_a_b:',correlacion1\n",
    "print 'Correlación_a_c:',correlacion2\n",
    "plt.plot(a,b,'ro', label='Modelo1 vs Medido')\n",
    "plt.legend(loc=2)\n",
    "plt.show()\n",
    "plt.plot(a,c,'yo', label='Modelo2 vs Medido')\n",
    "plt.legend(loc=2)\n",
    "plt.show()"
   ]
  },
  {
   "cell_type": "code",
   "execution_count": 7,
   "metadata": {
    "collapsed": false
   },
   "outputs": [
    {
     "name": "stdout",
     "output_type": "stream",
     "text": [
      "|Xi     |Yi             |(Yi-Y)^2   |(Yi-a0-a1Xi)^2)|\n",
      "|-------|---------------|-----------|---------------|\n",
      "|1      |1              |1.1236     |0.0441         |\n",
      "|2      |2              |0.0036     |0.133225       |\n",
      "|3      |1.3            |0.5776     |0.5776         |\n",
      "|4.0    |3.75           |2.8561     |1.600225       |\n",
      "|5      |2.25           |0.0361     |0.4356         |\n",
      "Error estandar estimado 0.964494686351\n",
      "Coeficiente de correlacion 0.895012606749\n"
     ]
    },
    {
     "data": {
      "image/png": "[encoded data removed]",
      "text/plain": [
       "<matplotlib.figure.Figure at 0x706d668>"
      ]
     },
     "metadata": {},
     "output_type": "display_data"
    }
   ],
   "source": [
    "import math\n",
    "import matplotlib.pyplot as ptl\n",
    "import numpy as np\n",
    "%matplotlib inline\n",
    "x=[1,2,3,4.0,5]\n",
    "y=[1,2,1.30,3.75,2.25]\n",
    "\n",
    "a1=0.0\n",
    "n=len(x)\n",
    "i=0\n",
    "sum1=0.0\n",
    "sum2=0.0\n",
    "sum3=0.0\n",
    "sum4=0.0\n",
    "while(i<n):\n",
    "    sum1+=(x[i])*(y[i])\n",
    "    sum2+=x[i]\n",
    "    sum3+=y[i]\n",
    "    sum4+=(x[i])**2\n",
    "    i+=1\n",
    "tot1=n*sum1\n",
    "tot2=sum3*sum2\n",
    "tot3=n*sum4\n",
    "tot4=sum2**2\n",
    "\n",
    "a1=(tot1-tot2)/(tot3-tot4)\n",
    "a0=sum3/n-(a1*(sum2/n))\n",
    "sm1=0.0\n",
    "sm2=0.0\n",
    "sr=0.0\n",
    "st=0.0\n",
    "j=0\n",
    "print \"|%-7s|%-15s|%-11s|%-12s|\"%(\"Xi\",\"Yi\",\"(Yi-Y)^2\",\"(Yi-a0-a1Xi)^2)\")\n",
    "print \"|%-7s|%-15s|%-11s|%-12s|\"%(\"-------\",\"---------------\",\"-----------\",\"---------------\")\n",
    "while(j<n):\n",
    "    to1=(y[j]-(sum3/n))**2\n",
    "    sm1+=to1\n",
    "    to2=(y[j]-a0-a1*x[j])**2\n",
    "    sm2+=to2\n",
    "    sr+=(y[j]-a0-a1*x[j])**2\n",
    "    st+=(y[j]-(sum3/3))**2\n",
    "    print \"|%-7s|%-15.5s|%-11s|%-15s|\"%(x[j],y[j],to1,to2)\n",
    "    j+=1\n",
    "Ers=math.sqrt(sr/(n-2))\n",
    "coe=math.sqrt((st-sr)/(st))\n",
    "print \"Error estandar estimado \"+str(Ers)\n",
    "print \"Coeficiente de correlacion \"+str(coe)\n",
    "w=np.arange(0,50,0.5)\n",
    "z=a0+a1*w\n",
    "ptl.plot(w,z,'blue',label='Regresion lineal')\n",
    "ptl.plot(x,y,'ro')\n",
    "ptl.title(\"Ejercicio 17.4\", fontsize = 20)\n",
    "ptl.legend(loc=\"upper right\")\n",
    "ptl.grid(True)\n",
    "ptl.show()"
   ]
  },
  {
   "cell_type": "code",
   "execution_count": 9,
   "metadata": {
    "collapsed": false
   },
   "outputs": [
    {
     "name": "stdout",
     "output_type": "stream",
     "text": [
      "1:\n",
      " \n",
      "El coeficiente de correlacion es =  0.626832748979\n",
      "El error estandar de la estimacion es =  0.964494686351\n"
     ]
    },
    {
     "data": {
      "image/png": "[encoded data removed]",
      "text/plain": [
       "<matplotlib.figure.Figure at 0x706d860>"
      ]
     },
     "metadata": {},
     "output_type": "display_data"
    },
    {
     "name": "stdout",
     "output_type": "stream",
     "text": [
      "Agregando x=10 , y=10:\n",
      " \n",
      "El coeficiente de correlacion es =  -0.815879159879\n",
      "El error estandar de la estimacion es =  5.73690624011\n"
     ]
    },
    {
     "data": {
      "image/png": "[encoded data removed]",
      "text/plain": [
       "<matplotlib.figure.Figure at 0x85087f0>"
      ]
     },
     "metadata": {},
     "output_type": "display_data"
    }
   ],
   "source": [
    "import math\n",
    "import matplotlib.pyplot as plt\n",
    "import matplotlib.pyplot as plt2\n",
    "%matplotlib inline \n",
    "\n",
    "x=[1,2,3,4.0,5]\n",
    "y=[1,2,1.30,3.75,2.25]\n",
    "x2=[ 6, 7, 11, 15, 17, 21, 23, 29, 29, 37, 39,10] \n",
    "y2= [29, 21, 29, 14, 21, 15, 7, 7, 13, 0, 3,10]\n",
    "\n",
    "tiempo,ecuacion1,ecuacion2,valores=[],[],[],[]\n",
    "n,n2=len(x),len(x2)\n",
    "\n",
    "for t in range (1, 16):\n",
    "    tiempo.append(t)\n",
    "\n",
    "def sumProd(vec1,vec2, cont):\n",
    "    suma1=0\n",
    "    for i in range(cont):\n",
    "        suma1+=(vec1[i]*vec2[i])\n",
    "    return suma1\n",
    "\n",
    "def sumXY(vec1,vec2,cont):\n",
    "    suma2=0\n",
    "    suma3=0\n",
    "    for j in range (cont):\n",
    "        suma2+=vec1[j]\n",
    "        suma3+=vec2[j]\n",
    "    producto=suma2*suma3\n",
    "    return producto\n",
    "\n",
    "def sumCuadr(vec1, cont):\n",
    "    suma4=0\n",
    "    for k in range(cont):\n",
    "        suma4+=math.pow(vec1[k],2)\n",
    "    return suma4\n",
    "\n",
    "def cuadrado(vec1, cont):    \n",
    "    suma5=0\n",
    "    for l in range(cont):\n",
    "        suma5+=vec1[l]\n",
    "    return (math.pow(suma5,2))\n",
    "\n",
    "def mediaX(vec1, cont): \n",
    "    suma6=0\n",
    "    for o in range(cont):\n",
    "        suma6+=vec1[o]\n",
    "    return (suma6/len(vec1))\n",
    "\n",
    "def mediaY(vec2, cont):\n",
    "    suma7=0\n",
    "    for m in range(cont):\n",
    "        suma7+=vec2[m]\n",
    "    return (suma7/len(vec2))\n",
    "\n",
    "def raices(vec1,vec2,cont):\n",
    "    raiz1=0\n",
    "    raiz2=0\n",
    "    sumx=0\n",
    "    sumcx=0\n",
    "    sumy=0\n",
    "    sumcy=0\n",
    "    for k in range(cont):\n",
    "        sumx+=math.pow(vec1[k],2)\n",
    "        sumcx+=vec1[k]\n",
    "        sumy+=math.pow(vec2[k],2)\n",
    "        sumcy+=vec2[k]\n",
    "    raiz1=math.sqrt(((cont*sumx)-(math.pow(sumcx,2))))\n",
    "    raiz2=math.sqrt(((cont*sumy)-(math.pow(sumcy,2))))\n",
    "    return (raiz1*raiz2)\n",
    "\n",
    "def coeficiente(vec1,vec2,cont):\n",
    "    r=(((cont*sumProd(vec1,vec2,cont))-sumXY(vec1,vec2,cont))/(raices(vec1,vec2,cont)))\n",
    "    return (r)\n",
    "\n",
    "def error(vec1,vec2,a1,a0,cont):\n",
    "    sr=0\n",
    "    for p in range(cont):\n",
    "        sr+=math.pow(vec2[p]-a0-a1*vec1[p],2)\n",
    "    syx=math.sqrt(sr/(cont-2))\n",
    "    return syx\n",
    "    \n",
    "a1A=(n*sumProd(x,y,n)-sumXY(x,y,n))/(n*sumCuadr(x,n)-cuadrado(x,n))\n",
    "a0A=mediaY(y,n)-a1A*mediaX(x,n)\n",
    "\n",
    "a1B=(n2*sumProd(x2,y2,n2)-sumXY(x2,y2,n2))/(n2*sumCuadr(x2,n2)-cuadrado(x2,n2))\n",
    "a0B=mediaY(y2,n2)-a1B*mediaX(x2,n2)\n",
    "\n",
    "for w in range (40):\n",
    "    func1=a0A+(a1A*w)\n",
    "    ecuacion1.append(func1)\n",
    "    func2=a0B+(a1B*w)\n",
    "    ecuacion2.append(func2)\n",
    "    valores.append(w)\n",
    "    \n",
    "print \"1:\\n \"\n",
    "#print \"La pendiente o coeficiente a1 = \", a1A\n",
    "#print \"La interseccion eje Y o coeficiente a0 = \", a0A\n",
    "print \"El coeficiente de correlacion es = \", coeficiente(x,y,n)\n",
    "print \"El error estandar de la estimacion es = \", error(x,y,a1A,a0A,n)\n",
    "\n",
    "plt.title(\"Grafica #1\")\n",
    "plt.grid(True)\n",
    "plt.axis([0,40,0,30])\n",
    "plt.ylabel('f(x)')\n",
    "plt.xlabel('x')\n",
    "plt.plot(x, y, 'co', label=\"Valores iniciales\")\n",
    "plt.plot(valores, ecuacion1, 'm--', linewidth=2.0, label=\"y=30.391-0.780x\")\n",
    "plt.legend(loc = 'lower left', numpoints = 2)\n",
    "plt.show()\n",
    "\n",
    "print \"Agregando x=10 , y=10:\\n \"\n",
    "#print \"La pendiente o coeficiente a1 = \", a1B\n",
    "#print \"La interseccion eje Y o coeficiente a0 = \", a0B\n",
    "print \"El coeficiente de correlacion es = \", coeficiente(x2,y2,n2)\n",
    "print \"El error estandar de la estimacion es = \", error(x2,y2,a1B,a0B,n2)\n",
    "\n",
    "plt2.title(\"Grafica #2\")\n",
    "plt2.grid(True)\n",
    "plt2.axis([0,40,0,30])\n",
    "plt2.ylabel('f(x)')\n",
    "plt2.xlabel('x')\n",
    "plt2.plot(x2, y2, 'ro', label=\"Valores iniciales\")\n",
    "plt2.plot(valores, ecuacion2, 'b--', linewidth=2.0, label=\"y=27.655-0.683x\")\n",
    "plt2.legend(loc = 'lower left', numpoints = 2)\n",
    "plt2.show()"
   ]
  },
  {
   "cell_type": "code",
   "execution_count": null,
   "metadata": {
    "collapsed": true
   },
   "outputs": [],
   "source": []
  }
 ],
 "metadata": {
  "kernelspec": {
   "display_name": "Python 2",
   "language": "python",
   "name": "python2"
  },
  "language_info": {
   "codemirror_mode": {
    "name": "ipython",
    "version": 2
   },
   "file_extension": ".py",
   "mimetype": "text/x-python",
   "name": "python",
   "nbconvert_exporter": "python",
   "pygments_lexer": "ipython2",
   "version": "2.7.11"
  }
 },
 "nbformat": 4,
 "nbformat_minor": 0
}
