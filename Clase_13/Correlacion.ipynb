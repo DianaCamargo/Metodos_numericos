{
 "cells": [
  {
   "cell_type": "code",
   "execution_count": 19,
   "metadata": {
    "collapsed": false
   },
   "outputs": [
    {
     "name": "stdout",
     "output_type": "stream",
     "text": [
      "Correlación_a_b: 0.997887933443\n",
      "Correlación_a_c: 0.99503586128\n"
     ]
    }
   ],
   "source": [
    "import math as mt\n",
    "import matplotlib.pyplot as plt\n",
    "#medida\n",
    "a=[10.00, 16.30,23.00,27.50,31.00,35.60,39.00,41.50,42.90,45.00,46.00,45.50,46.00,49.00,50.00]\n",
    "#modelo1\n",
    "b=[8.953,16.405,22.607,27.769,32.065,35.641,38.617,41.095,43.156,44.872,46.301,47.490,48.479, 49.303,49.988]\n",
    "#modelo2\n",
    "c=[11.240,18.570,23.729,27.556,30.509,32.855,34.766,36.351,37.687,38.829,39.816,40.678,41.437,42.110,42.712]\n",
    "Sumatc=0.00\n",
    "Sumatb=0.00\n",
    "Sumata=0.00\n",
    "Sumatab=0.00\n",
    "Sumatac=0.00\n",
    "Sumata2=0.00\n",
    "Sumatb2=0.00\n",
    "Sumatc2=0.00\n",
    "n=15\n",
    "u=[]\n",
    "for i in range(0,n):\n",
    "    Sumata=a[i]+Sumata\n",
    "    Sumatb=b[i]+Sumatb\n",
    "    Sumatc=c[i]+ Sumatc\n",
    "    Sumatab=(a[i]*b[i])+Sumatab\n",
    "    Sumatac=(a[i]*c[i])+Sumatac\n",
    "    Sumata2=((a[i])**2)+Sumata2\n",
    "    Sumatb2=((b[i])**2)+Sumatb2\n",
    "    Sumatc2=((c[i])**2)+Sumatc2\n",
    "    u.append(i)\n",
    "\n",
    "#print Sumata, Sumatb,Sumatc,Sumatab,Sumatac,Sumata2,Sumatb2,Sumatc2   \n",
    "#correlacion=(nsumatoria(xi.yi )- (sumat(xi))(sumat(yi)))/(raiz(nsumat(xi^2)-(sumatori(xi)^2))).(raiz(nsumator(yi^2)-(sumat(yi)^2)))\n",
    "correlacion1=(n*Sumatab-(Sumata*Sumatb))/((mt.sqrt(n*Sumata2-(Sumata**2)))*(mt.sqrt(n*Sumatb2-(Sumatb**2))))\n",
    "correlacion2=(n*Sumatac-(Sumata*Sumatc))/((mt.sqrt(n*Sumata2-(Sumata**2)))*(mt.sqrt(n*Sumatc2-(Sumatc**2))))\n",
    "print 'Correlación_a_b:',correlacion1\n",
    "print 'Correlación_a_c:',correlacion2\n",
    "plt.plot(a,b,'ro', label='Modelo1 vs Medido')\n",
    "plt.legend(loc=2)\n",
    "plt.show()\n",
    "plt.plot(a,c,'yo', label='Modelo2 vs Medido')\n",
    "plt.legend(loc=2)\n",
    "plt.show()"
   ]
  },
  {
   "cell_type": "code",
   "execution_count": null,
   "metadata": {
    "collapsed": true
   },
   "outputs": [],
   "source": []
  }
 ],
 "metadata": {
  "kernelspec": {
   "display_name": "Python 2",
   "language": "python",
   "name": "python2"
  },
  "language_info": {
   "codemirror_mode": {
    "name": "ipython",
    "version": 2
   },
   "file_extension": ".py",
   "mimetype": "text/x-python",
   "name": "python",
   "nbconvert_exporter": "python",
   "pygments_lexer": "ipython2",
   "version": "2.7.11"
  }
 },
 "nbformat": 4,
 "nbformat_minor": 0
}
