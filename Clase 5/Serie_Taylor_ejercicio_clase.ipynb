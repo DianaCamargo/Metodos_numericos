{
 "cells": [
  {
   "cell_type": "code",
   "execution_count": 2,
   "metadata": {
    "collapsed": false
   },
   "outputs": [
    {
     "name": "stdout",
     "output_type": "stream",
     "text": [
      "######### SERIE DE TAYLOR #################\n",
      "\n",
      " Diana Camargo\n",
      "#### Aproximacion de f(x)=f(x) = –0.1x4–0.15x3–0.5x2–0.25x+1.2 en x=1####\n",
      "ERPV=Error Relativo Porcentual Verdadero\n",
      "ERPA=Error Relativo Porcentual Aproximado\n",
      "________________________________________________________\n",
      "|Iteraccion | f(x)aprox    |  ERPV (%)  |  ERPA (%)   |\n",
      "_______________________________________________________\n",
      "|    0      |    1.200000  |  83.333333 |   100.000000|\n",
      "_______________________________________________________\n",
      "|    1      |    0.950000  |  78.947368 |   26.315789 |\n",
      "_______________________________________________________\n",
      "|    2      |    0.450000  |  55.555556 |   111.111111|\n",
      "_______________________________________________________\n",
      "|    3      |    0.300000  |  33.333333 |   50.000000 |\n",
      "_______________________________________________________\n",
      "|    4      |    0.200000  |  0.000000  |   50.000000 |\n",
      "\n",
      "Valor Aproximado=  0.2\n"
     ]
    }
   ],
   "source": [
    "import matplotlib.pyplot as plt\n",
    "import math as mt\n",
    "import numpy\n",
    "#terea 4.2\n",
    "print '######### SERIE DE TAYLOR #################'\n",
    "print '\\n Diana Camargo'\n",
    "print '#### Aproximacion de f(x)=f(x) = –0.1x4–0.15x3–0.5x2–0.25x+1.2 en x=1####'\n",
    "###h=xi+1 -xi; xi+1=1, xi=0\n",
    "###Funciones definidas---derivadas####\n",
    "print 'ERPV=Error Relativo Porcentual Verdadero'\n",
    "print 'ERPA=Error Relativo Porcentual Aproximado'\n",
    "print (\"________________________________________________________\")\n",
    "print \"|%-5s | %-9s  | %-9s  | %-10s  |\" %('Iteraccion','f(x)aprox  ',' ERPV (%)',' ERPA (%)')\n",
    "orden=4\n",
    "x=0\n",
    "xmas1=1\n",
    "vver=-0.1*xmas1**(4)-(0.15)*xmas1**(3)-0.5*xmas1**(2)-0.25*xmas1+1.2\n",
    "der=[0,0,0,0,0]\n",
    "der[0]=-0.1*x**(4)-(0.15)*x**(3)-0.5*x**(2)-0.25*x+1.2\n",
    "der[1]=-0.4*x**(3)-((0.15*3)*x**(2))-(1*x)-0.25\n",
    "der[2]=-(0.4*3)*x**(2)-((0.15*6)*x)-1\n",
    "der[3]=-(0.4*6)*x-(0.15*6)\n",
    "der[4]=-(0.4*6)\n",
    "vfimas1=0.0\n",
    "nfimas1=0.0\n",
    "fimas1=[0.0,0.0,0.0,0.0,0.0]\n",
    "y=[]\n",
    "u=[]\n",
    "ea=[]\n",
    "ever=[]\n",
    "for i in range (5):\n",
    "    vfimas1=nfimas1\n",
    "    #fi+1=f(xi)+f'(xi)*h+ (f''(xi)*(h^2)/2!) + ... + ((fn(xi)*h^n)/n!)\n",
    "    fimas1[i]=(der[i]*(xmas1-x)**i)/mt.factorial(i)\n",
    "    nfimas1=fimas1[i]+nfimas1\n",
    "    ev=vver-nfimas1\n",
    "    erpv=abs((ev*100)/nfimas1)\n",
    "    erpa=abs((nfimas1-vfimas1)*(100/nfimas1))\n",
    "    print (\"_______________________________________________________\")\n",
    "    print\"|    %-6d |    %-9f |  %-9f |   %-10f|\" %(i,nfimas1,erpv,erpa)\n",
    "    y.append(nfimas1)\n",
    "    u.append(i)\n",
    "    ever.append(erpv)\n",
    "    ea.append(erpa)\n",
    "###################grafica################\n",
    "plt.plot(u,y,'r-', label='f(x)')\n",
    "plt.plot(u,ever,'b--', label='error verd')\n",
    "plt.plot(u,ea,'g--', label='error aprox')\n",
    "plt.title(\"SERIE TAYLOR\")\n",
    "plt.xlabel(\"x\")\n",
    "#plt.xlim(0.9, 3)\n",
    "plt.ylabel(\"f(x)\")\n",
    "#plt.ylim(0, 2)\n",
    "plt.legend(loc=1)\n",
    "plt.show()\n",
    "print '\\nValor Aproximado= ',nfimas1"
   ]
  },
  {
   "cell_type": "markdown",
   "metadata": {},
   "source": [
    "# "
   ]
  }
 ],
 "metadata": {
  "kernelspec": {
   "display_name": "Python 2",
   "language": "python",
   "name": "python2"
  },
  "language_info": {
   "codemirror_mode": {
    "name": "ipython",
    "version": 2
   },
   "file_extension": ".py",
   "mimetype": "text/x-python",
   "name": "python",
   "nbconvert_exporter": "python",
   "pygments_lexer": "ipython2",
   "version": "2.7.11"
  }
 },
 "nbformat": 4,
 "nbformat_minor": 0
}
