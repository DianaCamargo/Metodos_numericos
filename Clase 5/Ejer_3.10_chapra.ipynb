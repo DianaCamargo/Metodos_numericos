{
 "cells": [
  {
   "cell_type": "code",
   "execution_count": 52,
   "metadata": {
    "collapsed": false
   },
   "outputs": [
    {
     "name": "stdout",
     "output_type": "stream",
     "text": [
      "######Ejercicio 3.10 Chapra#####\n",
      " Diana Camargo\n",
      "f(x)=x2 – 5000.002x + 10\n",
      "Error Tolerado= 5.0 %\n",
      "ERPV=Error Relativo Porcentual Verdadero\n",
      "ERPA=Error Relativo Porcentual Aproximado\n",
      "0.002\n",
      "5000.0 0.0\n",
      "yyy 10.0\n",
      "|f(x)con x2 aprox  | ERPV         |\n",
      "______________________________\n",
      "|  -0.000000       |   0.000000  |\n",
      "______________________________\n",
      "|f(x)con x1 aprox  | ERPV         |\n",
      "______________________________\n",
      "|  10.000000       |   100.000000 |\n"
     ]
    }
   ],
   "source": [
    "\n",
    "import matplotlib.pyplot as plt\n",
    "import math as mt\n",
    "import numpy\n",
    "n=3\n",
    "es=0.5*(10**(2-n))*100\n",
    "print '######Ejercicio 3.10 Chapra#####\\n Diana Camargo'\n",
    "print 'f(x)=x2 – 5000.002x + 10' \n",
    "print 'Error Tolerado=', es, '%'\n",
    "print 'ERPV=Error Relativo Porcentual Verdadero'\n",
    "print 'ERPA=Error Relativo Porcentual Aproximado'\n",
    "resu1=0.0\n",
    "resu2=0.0\n",
    "vver1=0.0\n",
    "vver2=0.0\n",
    "ev=0.0\n",
    "a=1\n",
    "b=-5000.002\n",
    "c=10\n",
    "x1=0.0\n",
    "x2=0.0\n",
    "x1=(-b+mt.sqrt(b**(2)-(4*a*c)))/2*a\n",
    "x2=-2*c/(b-mt.sqrt(b**(2)-(4*a*c)))\n",
    "vver1=(x1**2)-(5000.002*x1)+10\n",
    "vver2=(x2**2)-(5000.002*x2)+10\n",
    "print x2\n",
    "x1=round(x1,5)\n",
    "x2=round(x2,2)\n",
    "print x1, x2\n",
    "resu1=(x1**2)-(5000.002*x1)+10\n",
    "resu2=(x2**2)-(5000.002*x2)+10\n",
    "print 'yyy',resu2\n",
    "ev=vver1-resu1\n",
    "erpv=abs((ev*100)/resu1)\n",
    "print \"|%-5s  | %-9s    |\" %('f(x)con x2 aprox','ERPV')\n",
    "print (\"______________________________\")\n",
    "print\"|  %-8f       |   %-9f |\" %(resu1,erpv)\n",
    "ev=vver2-resu2\n",
    "erpv=abs((ev*100)/resu2)\n",
    "print (\"______________________________\")\n",
    "print \"|%-5s  | %-9s    |\" %('f(x)con x1 aprox','ERPV')\n",
    "print (\"______________________________\")\n",
    "print\"|  %-8f       |   %-9f |\" %(resu2,erpv)"
   ]
  },
  {
   "cell_type": "code",
   "execution_count": null,
   "metadata": {
    "collapsed": true
   },
   "outputs": [],
   "source": []
  }
 ],
 "metadata": {
  "kernelspec": {
   "display_name": "Python 2",
   "language": "python",
   "name": "python2"
  },
  "language_info": {
   "codemirror_mode": {
    "name": "ipython",
    "version": 2
   },
   "file_extension": ".py",
   "mimetype": "text/x-python",
   "name": "python",
   "nbconvert_exporter": "python",
   "pygments_lexer": "ipython2",
   "version": "2.7.11"
  }
 },
 "nbformat": 4,
 "nbformat_minor": 0
}
