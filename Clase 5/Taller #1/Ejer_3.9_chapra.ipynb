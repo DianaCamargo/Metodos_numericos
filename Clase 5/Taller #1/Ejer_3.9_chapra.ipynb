{
 "cells": [
  {
   "cell_type": "code",
   "execution_count": 24,
   "metadata": {
    "collapsed": false
   },
   "outputs": [
    {
     "name": "stdout",
     "output_type": "stream",
     "text": [
      "######METODO NUMERICO SERIE MCLAURINm ejercicio 3.9 chapra #####\n",
      " Diana Camargo\n",
      "f(x)=cos(x)\n",
      "Error Tolerado= 5e-07\n",
      "ERPV=Error Relativo Porcentual Verdadero\n",
      "ERPA=Error Relativo Porcentual Aproximado\n",
      "________________________________________________________\n",
      "|Iteraccion | cos(x) aprox   |    ERPV    |    ERPA     |\n",
      "0.587785252292\n",
      "_______________________________________________________\n",
      "|    1      |    0.555868  |  5.741914  |   0.798989  |\n",
      "_______________________________________________________\n",
      "|    2      |    0.588743  |  0.162739  |   0.055840  |\n",
      "_______________________________________________________\n",
      "|    3      |    0.587770  |  0.002601  |   0.001656  |\n",
      "_______________________________________________________\n",
      "|    4      |    0.587785  |  0.000026  |   0.000026  |\n",
      "_______________________________________________________\n",
      "|    5      |    0.587785  |  0.000000  |   0.000000  |\n",
      "\n",
      "Valor Aproximado=  0.587785251272\n"
     ]
    }
   ],
   "source": [
    "import matplotlib.pyplot as plt\n",
    "import math as mt\n",
    "import numpy\n",
    "n=8\n",
    "es=0.5*(10**(2-n))\n",
    "print '######METODO NUMERICO SERIE MCLAURINm ejercicio 3.9 chapra #####\\n Diana Camargo'\n",
    "print 'f(x)=cos(x)'\n",
    "print 'Error Tolerado=', es\n",
    "print 'ERPV=Error Relativo Porcentual Verdadero'\n",
    "print 'ERPA=Error Relativo Porcentual Aproximado'\n",
    "print (\"________________________________________________________\")\n",
    "print \"|%-5s | %-9s  | %-9s  | %-10s  |\" %('Iteraccion','cos(x) aprox ','   ERPV','   ERPA')\n",
    "\n",
    "x=0.3*mt.pi\n",
    "resu=0.0\n",
    "nresu=1.0\n",
    "vver=0.0\n",
    "vver=mt.cos(x)\n",
    "print vver\n",
    "i=2\n",
    "ii=1\n",
    "erpa=0.0\n",
    "y=[]\n",
    "u=[]\n",
    "ever=[]\n",
    "ea=[]\n",
    "while True:\n",
    "    vresu=nresu\n",
    "    resu=(x**(i))/mt.factorial(i)\n",
    "    \n",
    "    if (ii%2==0):\n",
    "        nresu=nresu+resu\n",
    "    else:\n",
    "        nresu=nresu-resu\n",
    "    ev=vver-nresu\n",
    "    erpv=abs((ev*100)/nresu)\n",
    "    erpa=abs((nresu-vresu)/nresu)\n",
    "    print (\"_______________________________________________________\")\n",
    "    print\"|    %-6d |    %-9f |  %-9f |   %-10f|\" %(ii,nresu,erpv,erpa)\n",
    "    y.append(nresu)\n",
    "    u.append(ii)\n",
    "    ever.append(erpv)\n",
    "    ea.append(erpa)\n",
    "    i=i+2 \n",
    "    ii=ii+1\n",
    "    \n",
    "    if (erpa<es):\n",
    "        break \n",
    "plt.plot(u,y,'r-', label='cos(x); x=0.3*pi')\n",
    "plt.plot(u,ever,'b--', label='error verd')\n",
    "plt.plot(u,ea,'g--', label='error aprox')\n",
    "plt.title(\"SERIE MCLAURIN\")\n",
    "plt.xlabel(\"x\")\n",
    "#plt.xlim(0.9, 3)\n",
    "plt.ylabel(\"f(x)\")\n",
    "#plt.ylim(0, 2)\n",
    "plt.legend(loc=6)\n",
    "plt.show()\n",
    "print '\\nValor Aproximado= ',nresu      "
   ]
  },
  {
   "cell_type": "code",
   "execution_count": null,
   "metadata": {
    "collapsed": true
   },
   "outputs": [],
   "source": []
  }
 ],
 "metadata": {
  "kernelspec": {
   "display_name": "Python 2",
   "language": "python",
   "name": "python2"
  },
  "language_info": {
   "codemirror_mode": {
    "name": "ipython",
    "version": 2
   },
   "file_extension": ".py",
   "mimetype": "text/x-python",
   "name": "python",
   "nbconvert_exporter": "python",
   "pygments_lexer": "ipython2",
   "version": "2.7.11"
  }
 },
 "nbformat": 4,
 "nbformat_minor": 0
}
