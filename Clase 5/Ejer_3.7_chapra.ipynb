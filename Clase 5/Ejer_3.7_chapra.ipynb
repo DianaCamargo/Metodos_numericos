{
 "cells": [
  {
   "cell_type": "code",
   "execution_count": 20,
   "metadata": {
    "collapsed": false
   },
   "outputs": [
    {
     "name": "stdout",
     "output_type": "stream",
     "text": [
      "######Ejercicio 3.7 Chapra#####\n",
      " Diana Camargo\n",
      "f(x)=y = x3 – 7x2 + 8x + 0.35; x=1,37\n",
      "Error Tolerado= 5.0 %\n",
      "ERPV=Error Relativo Porcentual Verdadero\n",
      "ERPA=Error Relativo Porcentual Aproximado\n",
      "_______________________________\n",
      "|aprox    | ERPV         |\n",
      "______________________________\n",
      "|0.743000 |   0.007133  |\n",
      "|0.743000 |   0.007133  |\n",
      "\n",
      "Valor Aproximado=  0.743\n"
     ]
    }
   ],
   "source": [
    "import matplotlib.pyplot as plt\n",
    "import math as mt\n",
    "import numpy\n",
    "n=3\n",
    "es=0.5*(10**(2-n))*100\n",
    "print '######Ejercicio 3.7 Chapra#####\\n Diana Camargo'\n",
    "print 'f(x)=y = x3 – 7x2 + 8x + 0.35; x=1,37' \n",
    "print 'Error Tolerado=', es, '%'\n",
    "print 'ERPV=Error Relativo Porcentual Verdadero'\n",
    "print 'ERPA=Error Relativo Porcentual Aproximado'\n",
    "print (\"_______________________________\")\n",
    "print \"|%-5s  | %-9s    |\" %('aprox  ','ERPV')\n",
    "\n",
    "x=1.37\n",
    "resu=0.000\n",
    "vver=0.0\n",
    "vver=(x**(3))-(7*(x**(2)))+8*x+0.35\n",
    "resu=round(vver,3)\n",
    "ev=vver-resu\n",
    "erpv=(ev*100)/resu\n",
    "print (\"______________________________\")\n",
    "print\"|%-6f |   %-9f |\" %(resu,erpv)\n",
    "vver=((((x-7)*x)+8)*x)+0.35\n",
    "resu=round(vver,3)\n",
    "ev=vver-resu\n",
    "erpv=(ev*100)/resu\n",
    "print\"|%-6f |   %-9f |\" %(resu,erpv)\n",
    "\n",
    "print '\\nValor Aproximado= ',resu "
   ]
  },
  {
   "cell_type": "code",
   "execution_count": null,
   "metadata": {
    "collapsed": true
   },
   "outputs": [],
   "source": []
  }
 ],
 "metadata": {
  "kernelspec": {
   "display_name": "Python 2",
   "language": "python",
   "name": "python2"
  },
  "language_info": {
   "codemirror_mode": {
    "name": "ipython",
    "version": 2
   },
   "file_extension": ".py",
   "mimetype": "text/x-python",
   "name": "python",
   "nbconvert_exporter": "python",
   "pygments_lexer": "ipython2",
   "version": "2.7.11"
  }
 },
 "nbformat": 4,
 "nbformat_minor": 0
}
