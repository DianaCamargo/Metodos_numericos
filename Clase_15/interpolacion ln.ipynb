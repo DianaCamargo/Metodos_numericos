{
 "cells": [
  {
   "cell_type": "code",
   "execution_count": 1,
   "metadata": {
    "collapsed": false
   },
   "outputs": [
    {
     "name": "stdout",
     "output_type": "stream",
     "text": [
      "x= 1 y= 0.0\n",
      "x= 2 y= 0.69314718056\n",
      "x= 3 y= 1.09861228867\n",
      "x= 4 y= 1.38629436112\n",
      "x= 5 y= 1.60943791243\n",
      "x= 6 y= 1.79175946923\n"
     ]
    },
    {
     "data": {
      "image/png": "[encoded data removed]",
      "text/plain": [
       "<matplotlib.figure.Figure at 0x6def828>"
      ]
     },
     "metadata": {},
     "output_type": "display_data"
    }
   ],
   "source": [
    "import math\n",
    "import numpy as np\n",
    "import matplotlib.pyplot as ptl\n",
    "%matplotlib inline\n",
    "def ln(x):\n",
    "    return math.log(x)\n",
    "\n",
    "def f(X0,X1,X):\n",
    "    return (ln(X0)+((ln(X1)-ln(X0))/(X1-X0))*(X-X0))\n",
    "\n",
    "def m(X1,X0):\n",
    "    return((ln(X1)-ln(X0))/(X1-X0))\n",
    "\n",
    "def arr():\n",
    "    x=[]\n",
    "    y=[]\n",
    "    X=1\n",
    "    while(X<=6):\n",
    "        x.append(X)\n",
    "        y.append(ln(X))\n",
    "        print 'x= '+str(X)+' y= '+str(ln(X))\n",
    "        X+=1\n",
    "    graf(x,y)    \n",
    "            \n",
    "\n",
    "def graf(x,y):\n",
    "    ptl.title(\"Solucion_Grafica_Ecuaciones_Lineales\")\n",
    "    ptl.plot(x,y,'ko')\n",
    "    xi=1\n",
    "    xf=2\n",
    "    while(xi<=5):\n",
    "        x=np.arange(xi,xf,0.1)\n",
    "        y=(m(xf,xi)*x)-(m(xf,xi)*xi)+(ln(xi))\n",
    "        ptl.plot(x,y,'-g')\n",
    "        xf+=1\n",
    "        xi+=1\n",
    "    ptl.grid(True)\n",
    "    ptl.show()   \n",
    "arr()   "
   ]
  },
  {
   "cell_type": "code",
   "execution_count": null,
   "metadata": {
    "collapsed": true
   },
   "outputs": [],
   "source": []
  }
 ],
 "metadata": {
  "kernelspec": {
   "display_name": "Python 2",
   "language": "python",
   "name": "python2"
  },
  "language_info": {
   "codemirror_mode": {
    "name": "ipython",
    "version": 2
   },
   "file_extension": ".py",
   "mimetype": "text/x-python",
   "name": "python",
   "nbconvert_exporter": "python",
   "pygments_lexer": "ipython2",
   "version": "2.7.11"
  }
 },
 "nbformat": 4,
 "nbformat_minor": 0
}
