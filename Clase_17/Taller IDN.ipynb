{
 "cells": [
  {
   "cell_type": "markdown",
   "metadata": {
    "collapsed": true
   },
   "source": [
    "# 1. Implemente la regla del trapecio de un segmento y múltiples segmentos (sub 21.1.2) de la Figura 21.9."
   ]
  },
  {
   "cell_type": "markdown",
   "metadata": {},
   "source": [
    "# a) Un solo segmento"
   ]
  },
  {
   "cell_type": "code",
   "execution_count": 14,
   "metadata": {
    "collapsed": false
   },
   "outputs": [],
   "source": [
    "def Trapecio(h,f):\n",
    "    trap=h*(f[0]+f[1])/2\n",
    "    return trap"
   ]
  },
  {
   "cell_type": "markdown",
   "metadata": {},
   "source": [
    "# b) Múltiples segmentos:"
   ]
  },
  {
   "cell_type": "code",
   "execution_count": 15,
   "metadata": {
    "collapsed": false
   },
   "outputs": [],
   "source": [
    "def TrapecioMult(h,f,n,a,b):\n",
    "    suma=f[0]\n",
    "    for i in range (1,n):\n",
    "        suma=suma+2*f[i]\n",
    "    suma=suma+f[n] #Donde f[2] es fn\n",
    "    trap=(b-a)*suma/(2*n)\n",
    "    return trap"
   ]
  },
  {
   "cell_type": "markdown",
   "metadata": {},
   "source": [
    "# 2.Desarrolle los Ejemplos 21.1 y 21.2."
   ]
  },
  {
   "cell_type": "markdown",
   "metadata": {},
   "source": [
    "# Ejemplo 21.1"
   ]
  },
  {
   "cell_type": "code",
   "execution_count": 16,
   "metadata": {
    "collapsed": false
   },
   "outputs": [
    {
     "name": "stdout",
     "output_type": "stream",
     "text": [
      "I= 0.1728 \n",
      "Et= 1.467733 \n",
      "ERPV= 89.4668379118 % \n",
      "Ea= 2.56\n"
     ]
    }
   ],
   "source": [
    "import numpy as np\n",
    "# integral de f(x)=0.2+25x–200x2+675x3–900x4+400x5 desde a=0 hasta b=0.8\n",
    "vver=1.640533\n",
    "def f(x):\n",
    "    return 0.2+25*x-200*(x**2)+675*(x**3)-900*(x**4)+400*(x**5)\n",
    "a=0.0\n",
    "b=0.8\n",
    "h=b-a\n",
    "fa=f(a)\n",
    "fb=f(b)\n",
    "f=[fa,fb]\n",
    "trap=Trapecio(h,f)\n",
    "Et=vver-trap\n",
    "erpv=abs(Et/vver)*100.0\n",
    "#–400 + 4 050x – 10 800x2 + 8 000x3  es la Segunda derivada de la funcion original\n",
    "#-48 es el valor de la integral de la segunda deriv de 0 a 8\n",
    "PromDeriv2=-48/(b-a)\n",
    "Ea=-(1.0/12.0)*PromDeriv2*((b-a)**3)\n",
    "print \"I=\",trap,\"\\nEt=\",Et,\"\\nERPV=\",erpv,\"% \\nEa=\",Ea"
   ]
  },
  {
   "cell_type": "markdown",
   "metadata": {},
   "source": [
    "# Ejemplo 21.2"
   ]
  },
  {
   "cell_type": "code",
   "execution_count": 17,
   "metadata": {
    "collapsed": false
   },
   "outputs": [
    {
     "name": "stdout",
     "output_type": "stream",
     "text": [
      "I= 1.0688 \n",
      "Et= 0.571733 \n",
      "ERPV= 34.8504418991 % \n",
      "Ea 0.64\n"
     ]
    }
   ],
   "source": [
    "def f(x):\n",
    "    return 0.2+25*x-200*(x**2)+675*(x**3)-900*(x**4)+400*(x**5)\n",
    "n=2\n",
    "h=0.4\n",
    "f=[f(a),f(a+h),f(b)]\n",
    "trap=TrapecioMult(h,f,n,a,b)\n",
    "Et=vver-trap\n",
    "erpv=abs(Et/vver)*100.0\n",
    "Ea=abs(((b-a)**3)/(12*(n**2))*PromDeriv2)\n",
    "print \"I=\",trap, \"\\nEt=\",Et,\"\\nERPV=\",erpv,\"% \\nEa\",Ea"
   ]
  },
  {
   "cell_type": "markdown",
   "metadata": {},
   "source": [
    "# 3. Implemente la regla de Simpson ⅓ para un segmento y múltiples segmentos (sub 21.2.2) de las Figuras 21.13a y 21.13c.\n"
   ]
  },
  {
   "cell_type": "markdown",
   "metadata": {},
   "source": [
    "# Simpson 1/3 Un segmento:"
   ]
  },
  {
   "cell_type": "code",
   "execution_count": 18,
   "metadata": {
    "collapsed": true
   },
   "outputs": [],
   "source": [
    "def Simp13 (h,f,a,b) :  \n",
    "    Simp13=(b-a)*(f[0]+4*f[1]+f[2])/6\n",
    "    return Simp13"
   ]
  },
  {
   "cell_type": "markdown",
   "metadata": {},
   "source": [
    "# Simpson 1/3 Múltiples segmentos"
   ]
  },
  {
   "cell_type": "code",
   "execution_count": 24,
   "metadata": {
    "collapsed": false
   },
   "outputs": [],
   "source": [
    "def Simp13m (h,n,f,a,b):\n",
    "    suma=f[0]  \n",
    "    for i in range (1,n-1,2):\n",
    "        suma=suma+4*f[i]+2*f[i+1]  \n",
    "    suma=suma+4*f[n-1]+f[n]  \n",
    "    Simp13m =h*suma/3\n",
    "    return Simp13m"
   ]
  },
  {
   "cell_type": "markdown",
   "metadata": {},
   "source": [
    "# 4. Desarrolle el Ejemplo 21.4 y 21.5.\n"
   ]
  },
  {
   "cell_type": "markdown",
   "metadata": {},
   "source": [
    "# Ejemplo 21.4"
   ]
  },
  {
   "cell_type": "code",
   "execution_count": 20,
   "metadata": {
    "collapsed": false
   },
   "outputs": [
    {
     "name": "stdout",
     "output_type": "stream",
     "text": [
      "I= 1.36746666667 \n",
      "Et= 0.273066333333 \n",
      "ERPV= 16.6449765615 % \n",
      "Ea= 0.273066666667\n"
     ]
    }
   ],
   "source": [
    "a=0.0\n",
    "b=0.8\n",
    "n=2\n",
    "h=(b-a)/n\n",
    "def f(x):\n",
    "    return 0.2+25*x-200*(x**2)+675*(x**3)-900*(x**4)+400*(x**5)\n",
    "f=[f(a),f(a+h),f(b)]\n",
    "sim13=Simp13(h,f,a,b)\n",
    "Et=vver-sim13\n",
    "erpv=abs(Et/vver)*100.0\n",
    "#DerivadaCuarta= –21600+48000x 15360-17280\n",
    "# -1920 es el valor de la integral de DerivadaCuarta de 0 a 8\n",
    "PromDeriv4=-1920/(b-a)\n",
    "Ea=-((b-a)**5)/(180*(n**4))*PromDeriv4\n",
    "print \"I=\",sim13,\"\\nEt=\",Et,\"\\nERPV=\",erpv,\"% \\nEa=\",Ea"
   ]
  },
  {
   "cell_type": "markdown",
   "metadata": {},
   "source": [
    "# Ejemplo 21.5 :"
   ]
  },
  {
   "cell_type": "code",
   "execution_count": 27,
   "metadata": {
    "collapsed": false
   },
   "outputs": [
    {
     "name": "stdout",
     "output_type": "stream",
     "text": [
      "I= 1.62346666667 \n",
      "Et= 0.0170663333333 \n",
      "ERPV= 1.0402919864 % \n",
      "Ea= 0.0170666666667\n"
     ]
    }
   ],
   "source": [
    "import math\n",
    "a=0.0\n",
    "b=0.8\n",
    "n=4\n",
    "h=(b-a)/n\n",
    "fun=[]\n",
    "x=[]\n",
    "def f(x):\n",
    "    return 0.2+25*x-200*(x**2)+675*(x**3)-900*(x**4)+400*(x**5)\n",
    "for i in range(n+1):\n",
    "    fun.append(f(a+(h*i)))\n",
    "\n",
    "sim13=Simp13m(h,n,fun,a,b)\n",
    "Et=vver-sim13\n",
    "erpv=abs(Et/vver)*100.0\n",
    "Ea=-((b-a)**5)/(180*(n**4))*PromDeriv4\n",
    "print \"I=\",sim13,\"\\nEt=\",Et,\"\\nERPV=\",erpv,\"% \\nEa=\",Ea"
   ]
  },
  {
   "cell_type": "markdown",
   "metadata": {},
   "source": [
    "# 5. Implemente la regla de Simpson ⅜ para un segmento y múltiples segmentos de las Figuras 21.13b y 21.13d.\n"
   ]
  },
  {
   "cell_type": "markdown",
   "metadata": {},
   "source": [
    "# Simpson 3/8 Un segmento:"
   ]
  },
  {
   "cell_type": "code",
   "execution_count": 33,
   "metadata": {
    "collapsed": true
   },
   "outputs": [],
   "source": [
    "def Simp38 (h,f):\n",
    "    Simp38=3*h*(f[0]+3*(f[1]+f[2])+f[3])/8 \n",
    "    return Simp38 "
   ]
  },
  {
   "cell_type": "markdown",
   "metadata": {},
   "source": [
    "# Simpson 3/8 Múltiples segmentos="
   ]
  },
  {
   "cell_type": "code",
   "execution_count": 109,
   "metadata": {
    "collapsed": false
   },
   "outputs": [],
   "source": [
    "def SimpInt(a,b,n,f):\n",
    "    h=(b-a)/n\n",
    "    suma=0.0\n",
    "    if (n==1):\n",
    "        suma=Trapecio(h,f[n-1],f[n])  \n",
    "    elif (n>1):\n",
    "        m=n   \n",
    "        odd=n/2-int(n/2)    \n",
    "        if (odd > 0 and n > 1):\n",
    "            suma=suma+Simp38(h,f[n-3],f[n-2],f[n-1],f[n])       \n",
    "            m = n-3 \n",
    "        if (m>1):\n",
    "            suma=suma+Simp13m(h,m,f,a,b)    \n",
    "    SimpInt=suma\n",
    "    return SimpInt"
   ]
  },
  {
   "cell_type": "markdown",
   "metadata": {},
   "source": [
    "# Ejemplo 21.6"
   ]
  },
  {
   "cell_type": "code",
   "execution_count": 111,
   "metadata": {
    "collapsed": false
   },
   "outputs": [
    {
     "name": "stdout",
     "output_type": "stream",
     "text": [
      "Integral Simpson 3/8 = 1.51917037037 \n",
      "Et= 0.12136262963 \n",
      "ERPV= 7.39775607255 % \n",
      "Ea= 0.121362962963\n"
     ]
    }
   ],
   "source": [
    "#Integrar f(x) = 0.2 + 25x – 200x2 + 675x3 – 900x4 + 400x5\n",
    "vver=1.640533\n",
    "a=0.0\n",
    "b=0.8\n",
    "n=3\n",
    "h=(b-a)/n\n",
    "fun=[]\n",
    "def f(x):\n",
    "    return 0.2+25*x-200*(x**2)+675*(x**3)-900*(x**4)+400*(x**5)\n",
    "for i in range(n+1):\n",
    "    fun.append(f(a+(h*i)))\n",
    "sim38=Simp38(h,fun)\n",
    "Et=vver-sim38\n",
    "erpv=abs(Et/vver)*100.0\n",
    "Ea=-((b-a)**5)/(6480)*PromDeriv4\n",
    "print \"Integral Simpson 3/8 =\",sim38,\"\\nEt=\",Et,\"\\nERPV=\",erpv,\"% \\nEa=\",Ea\n",
    "sim38m=SimpInt(a,b,n,fun)\n",
    "Et=vver-sim38m\n",
    "erpv=abs(Et/vver)*100.0\n",
    "#print \"Integral Simpson 3/8 m =\",sim38m,\"\\nEt=\",Et,\"\\nERPV=\",erpv,\"%\""
   ]
  },
  {
   "cell_type": "markdown",
   "metadata": {},
   "source": [
    "# 6. Implementar las fórmulas de diferencias divididas finitas de las Figuras 23.1, 23.2 y 23.3."
   ]
  },
  {
   "cell_type": "markdown",
   "metadata": {},
   "source": [
    "# 23.1 Fórmulas de diferencias divididas ﬁnitas hacia delante"
   ]
  },
  {
   "cell_type": "code",
   "execution_count": 55,
   "metadata": {
    "collapsed": false
   },
   "outputs": [],
   "source": [
    "def deriv1aa(h,f,i):\n",
    "    der1=(f[i+1]-f[i])/h\n",
    "    return der1\n",
    "def deriv1ab(h,f,i):\n",
    "    der1=(-3*f[i]+4*f[i+1]-f[i+2])/(2*h)\n",
    "    return der1\n",
    "def deriv2aa(h,f,i):\n",
    "    der2=(f[i]-2*f[i+1]+f[i+2])/(h**2)\n",
    "    return der2\n",
    "def deriv2ab(h,f,i):\n",
    "    der2=(2*f[i]-5*f[i+1]+4*f[i+2]-f[i+3])/(h**2)\n",
    "    return der2\n",
    "def deriv3aa(h,f,i):\n",
    "    der3=(-f[i]+3*f[i+1]-3*f[i+2]+f[i+3])/(h**3)\n",
    "    return der3\n",
    "def deriv3ab(h,f,i):\n",
    "    der3=(-5*f[i]+18*f[i+1]-24*f[i+2]+14*f[i+3]-3*f[i+4])/(2*(h**3))\n",
    "    return der3\n",
    "def deriv4aa(h,f,i):\n",
    "    der4=(f[i]-4*f[i+1]+6*f[i+2]-4*f[i+3]+f[i+4])/(h**4)\n",
    "    return der4\n",
    "def deriv4ab(h,f,i):\n",
    "    der4=(3*f[i]-14*f[i+1]+26*f[i+2]-24*f[i+3]+11*f[i+4]-2*f[i+5])/(h**4)\n",
    "    return der4"
   ]
  },
  {
   "cell_type": "markdown",
   "metadata": {},
   "source": [
    "# 23.2 Fórmulas de diferencias divididas ﬁnitas hacia atras"
   ]
  },
  {
   "cell_type": "code",
   "execution_count": 56,
   "metadata": {
    "collapsed": true
   },
   "outputs": [],
   "source": [
    "def deriv1ba(h,f,i):\n",
    "    der1=(f[i]-f[i-1])/h\n",
    "    return der1\n",
    "def deriv1bb(h,f,i):\n",
    "    der1=(3*f[i]-4*f[i-1]+f[i-2])/(2*h)\n",
    "    return der1\n",
    "def deriv2ba(h,f,i):\n",
    "    der2=(f[i]-2*f[i-1]+f[i-2])/(h**2)\n",
    "    return der2\n",
    "def deriv2bb(h,f,i):\n",
    "    der2=(2*f[i]-5*f[i-1]+4*f[i-2]-f[i-3])/(h**2)\n",
    "    return der2\n",
    "def deriv3ba(h,f,i):\n",
    "    der3=(f[i]-3*f[i-1]+3*f[i-2]-f[i-3])/(h**3)\n",
    "    return der3\n",
    "def deriv3bb(h,f,i):\n",
    "    der3=(5*f[i]-18*f[i-1]+24*f[i-2]-14*f[i-3]+3*f[i-4])/(2*(h**3))\n",
    "    return der3\n",
    "def deriv4ba(h,f,i):\n",
    "    der4=(f[i]-4*f[i-1]+6*f[i-2]-4*f[i-3]+f[i-4])/(h**4)\n",
    "    return der4\n",
    "def deriv3bb(h,f,i):\n",
    "    der4=(3*f[i]-14*f[i-1]+26*f[i-2]-24*f[i-3]+11*f[i-4]-2*f[i-5])/(h**4)\n",
    "    return der4"
   ]
  },
  {
   "cell_type": "markdown",
   "metadata": {},
   "source": [
    "# 23.3 Fórmulas de diferencias divididas ﬁnitas centradas"
   ]
  },
  {
   "cell_type": "code",
   "execution_count": 57,
   "metadata": {
    "collapsed": false
   },
   "outputs": [],
   "source": [
    "def deriv1ca(h,f,i):\n",
    "    der1=(f[i+1]-f[i-1])/(2*h)\n",
    "    return der1\n",
    "def deriv1cb(h,f,i):\n",
    "    der1=(-f[i+2]+8*f[i+1]-8*f[i-1]+f[i-2])/(12*h)\n",
    "    return der1\n",
    "def deriv2ca(h,f,i):\n",
    "    der2=(f[i+1]-2*f[i]+f[i-1])/(h**2)\n",
    "    return der2\n",
    "def deriv2cb(h,f,i):\n",
    "    der2=(-f[i+2]+16*f[i+1]-30*f[i]+16*f[i-1]-f[i-2])/(12*(h**2))\n",
    "    return der2\n",
    "def deriv3ca(h,f,i):\n",
    "    der3=(f[i+2]-2*f[i+1]+2*f[i-1]-f[i-2])/(2*(h**3))\n",
    "    return der2\n",
    "def deriv3cb(h,f,i):\n",
    "    der3=(-f[i+3]+8*f[i+2]-13*f[i+1]+13*f[i-1]-8*f[i-2]+f[i-3])/(8*(h**3))\n",
    "    return der3\n",
    "def deriv4ca(h,f,i):\n",
    "    der4=(f[i+2]-4*f[i+1]+6*f[i]-4*f[i-1]+f[i-2])/(h**4)\n",
    "    return der4\n",
    "def deriv4cb(h,f,i):\n",
    "    der4=(-f[i+3]+12*f[i+2]+39*f[i+1]+56*f[i]-39*f[i-1]+12*f[i-2]+f[i-3])/(6*(h**4))\n",
    "    return der4"
   ]
  },
  {
   "cell_type": "markdown",
   "metadata": {},
   "source": [
    "# 7. Desarrolle el Ejemplo 23.1."
   ]
  },
  {
   "cell_type": "code",
   "execution_count": 61,
   "metadata": {
    "collapsed": false
   },
   "outputs": [
    {
     "name": "stdout",
     "output_type": "stream",
     "text": [
      "Diferencia hacia adelante: -0.859375\n",
      "Diferencia hacia atrás: -0.878125\n",
      "Diferencia centrada: -0.9125\n"
     ]
    }
   ],
   "source": [
    "# derivada de f(x)=–0.1x4–0.15x3–0.5x2–0.25x+1.2  (desde 0 hasta uno en intervalos de 0.25)\n",
    "a=0.0\n",
    "n=4\n",
    "h=0.25\n",
    "fun=[]\n",
    "def f(x):\n",
    "    return -0.1*(x**4)-0.15*(x**3)-0.5*(x**2)-0.25*x+1.2\n",
    "for i in range(n+1):\n",
    "    fun.append(f(a+(h*i)))\n",
    "i=2 #la posicion central del vector fun\n",
    "print \"Diferencia hacia adelante:\",deriv1ab(h,fun,i)\n",
    "print \"Diferencia hacia atrás:\",deriv1bb(h,fun,i)\n",
    "print \"Diferencia centrada:\",deriv1cb(h,fun,i)\n"
   ]
  }
 ],
 "metadata": {
  "kernelspec": {
   "display_name": "Python 2",
   "language": "python",
   "name": "python2"
  },
  "language_info": {
   "codemirror_mode": {
    "name": "ipython",
    "version": 2
   },
   "file_extension": ".py",
   "mimetype": "text/x-python",
   "name": "python",
   "nbconvert_exporter": "python",
   "pygments_lexer": "ipython2",
   "version": "2.7.11"
  }
 },
 "nbformat": 4,
 "nbformat_minor": 0
}
