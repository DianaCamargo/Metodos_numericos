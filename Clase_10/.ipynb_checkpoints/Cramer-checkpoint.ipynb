{
 "cells": [
  {
   "cell_type": "code",
   "execution_count": 3,
   "metadata": {
    "collapsed": false
   },
   "outputs": [
    {
     "name": "stdout",
     "output_type": "stream",
     "text": [
      "det: -1.542\n",
      "X1:  -0.326018158236 \n",
      "x2:  0.177821011673 \n",
      "x3:  -0.122360570687\n",
      "0.15\n"
     ]
    }
   ],
   "source": [
    "#Regla de cramer\n",
    "\"\"\"Usando la regla de Cramer hallar x_1, x_2 y x_3 \n",
    "resolviendo el siguiente sistema de ecuaciones: \n",
    "0.4 x_1 + 0.12 x_2 - 1.3 x_3 = 0.05, \n",
    "0.1 x_1 - 0.24 x_2 + 2.0 x_3 = -0.32, \n",
    "0.3 x_1 + 1.6 x_2 + 0.3 x_3 = 0.15 \"\"\"\n",
    "#Ecuaciones:\n",
    "#0.3*x1+0.52*x2+x3=-0.01\n",
    "#0.5*x1+x2+1.9*x3=0.67\n",
    "#0.1*x1*0.3*x2+0.5*x3=-0.44\n",
    "#Primera ecuacion\n",
    "a11=0.4\n",
    "a12=0.12\n",
    "a13=-1.3\n",
    "b1=0.05\n",
    "#Segunda ecuacion\n",
    "a21=0.1\n",
    "a22=-0.24\n",
    "a23=2.0\n",
    "b2=-0.32\n",
    "#Tercera ecuacion\n",
    "a31=0.3\n",
    "a32=1.6\n",
    "a33=0.3\n",
    "b3=0.15\n",
    "#Determinante\n",
    "det=a11*((a22*a33)-(a23*a32))-a12*((a21*a33)-(a23*a31))+a13*((a21*a32)-(a22*a31))\n",
    "#solucion por cramer\n",
    "x1=(b1*((a22*a33)-(a23*a32))-a12*((b2*a33)-(a23*b3))+a13*((b2*a32)-(a22*b3)))/det\n",
    "x2=(a11*((b2*a33)-(a23*b3))-b1*((a21*a33)-(a23*a31))+a13*((a21*b3)-(b2*a31)))/det\n",
    "x3=(a11*((a22*b3)-(b2*a32))-a12*((a21*b3)-(b2*a31))+b1*((a21*a32)-(a22*a31)))/det\n",
    "print \"det:\",det\n",
    "print 'X1: ',x1, '\\nx2: ',x2, '\\nx3: ',x3\n",
    "\n",
    "comprob=0.3*x1+1.6*x2+x3*0.3\n",
    "print comprob\n"
   ]
  },
  {
   "cell_type": "code",
   "execution_count": null,
   "metadata": {
    "collapsed": true
   },
   "outputs": [],
   "source": []
  }
 ],
 "metadata": {
  "kernelspec": {
   "display_name": "Python 2",
   "language": "python",
   "name": "python2"
  },
  "language_info": {
   "codemirror_mode": {
    "name": "ipython",
    "version": 2
   },
   "file_extension": ".py",
   "mimetype": "text/x-python",
   "name": "python",
   "nbconvert_exporter": "python",
   "pygments_lexer": "ipython2",
   "version": "2.7.11"
  }
 },
 "nbformat": 4,
 "nbformat_minor": 0
}
