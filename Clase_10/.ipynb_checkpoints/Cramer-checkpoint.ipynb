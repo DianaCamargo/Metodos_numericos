{
 "cells": [
  {
   "cell_type": "code",
   "execution_count": 4,
   "metadata": {
    "collapsed": false
   },
   "outputs": [
    {
     "name": "stdout",
     "output_type": "stream",
     "text": [
      "X1:  -14.9 \n",
      "x2:  -29.5 \n",
      "x3:  19.8\n",
      "-0.01\n"
     ]
    }
   ],
   "source": [
    "#Regla de cramer\n",
    "\n",
    "#Ecuaciones:\n",
    "#0.3*x1+0.52*x2+x3=-0.01\n",
    "#0.5*x1+x2+1.9*x3=0.67\n",
    "#0.1*x1*0.3*x2+0.5*x3=-0.44\n",
    "#Primera ecuacion\n",
    "a11=0.3\n",
    "a12=0.52\n",
    "a13=1.0\n",
    "b1=-0.01\n",
    "#Segunda ecuacion\n",
    "a21=0.5\n",
    "a22=1.0\n",
    "a23=1.9\n",
    "b2=0.67\n",
    "#Tercera ecuacion\n",
    "a31=0.1\n",
    "a32=0.3\n",
    "a33=0.5\n",
    "b3=-0.44\n",
    "#Determinante\n",
    "det=a11*((a22*a33)-(a23*a32))-a12*((a21*a33)-(a23*a31))+a13*((a21*a32)-(a22*a31))\n",
    "#solucion por cramer\n",
    "x1=(b1*((a22*a33)-(a23*a32))-a12*((b2*a33)-(a23*b3))+a13*((b2*a32)-(a22*b3)))/det\n",
    "x2=(a11*((b2*a33)-(a23*b3))-b1*((a21*a33)-(a23*a31))+a13*((a21*b3)-(b2*a31)))/det\n",
    "x3=(a11*((a22*b3)-(b2*a32))-a12*((a21*b3)-(b2*a31))+b1*((a21*a32)-(a22*a31)))/det\n",
    "\n",
    "print 'X1: ',x1, '\\nx2: ',x2, '\\nx3: ',x3\n",
    "\n",
    "comprob=0.3*x1+0.52*x2+x3\n",
    "print comprob\n"
   ]
  },
  {
   "cell_type": "code",
   "execution_count": null,
   "metadata": {
    "collapsed": true
   },
   "outputs": [],
   "source": []
  }
 ],
 "metadata": {
  "kernelspec": {
   "display_name": "Python 2",
   "language": "python",
   "name": "python2"
  },
  "language_info": {
   "codemirror_mode": {
    "name": "ipython",
    "version": 2
   },
   "file_extension": ".py",
   "mimetype": "text/x-python",
   "name": "python",
   "nbconvert_exporter": "python",
   "pygments_lexer": "ipython2",
   "version": "2.7.11"
  }
 },
 "nbformat": 4,
 "nbformat_minor": 0
}
